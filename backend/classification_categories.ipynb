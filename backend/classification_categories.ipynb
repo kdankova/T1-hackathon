{
 "cells": [
  {
   "cell_type": "code",
   "execution_count": 11,
   "id": "6964029b",
   "metadata": {},
   "outputs": [],
   "source": [
    "import requests\n",
    "import json\n",
    "import pandas as pd\n",
    "import numpy as np\n",
    "import faiss\n",
    "import ast"
   ]
  },
  {
   "cell_type": "code",
   "execution_count": 4,
   "id": "93779cf0",
   "metadata": {},
   "outputs": [],
   "source": [
    "df = pd.read_csv(r\"new_new_hahaton.csv\")"
   ]
  },
  {
   "cell_type": "code",
   "execution_count": 5,
   "id": "6041286a",
   "metadata": {},
   "outputs": [],
   "source": [
    "arr = \"А если я живу за границей, смогу ли я хоть как-то зарегистрироваться?\""
   ]
  },
  {
   "cell_type": "code",
   "execution_count": 15,
   "id": "fd461e5e",
   "metadata": {},
   "outputs": [],
   "source": [
    "API_URL = \"https://llm.t1v.scibox.tech/v1/embeddings\"\n",
    "API_KEY = \"sk-h7YcuRfbDw_2fPiuZzz06w\"\n",
    "\n",
    "headers = {\n",
    "    \"Authorization\": f\"Bearer {API_KEY}\",\n",
    "    \"Content-Type\": \"application/json\"\n",
    "}\n",
    "\n",
    "data = {\n",
    "    \"model\": \"bge-m3\",\n",
    "    \"input\": arr\n",
    "}\n",
    "\n",
    "response = requests.post(API_URL, headers=headers, json=data)\n",
    "result = response.json()\n",
    "vect = result[\"data\"][0][\"embedding\"]\n"
   ]
  },
  {
   "cell_type": "code",
   "execution_count": 12,
   "id": "994bc9c2",
   "metadata": {},
   "outputs": [],
   "source": [
    "df['emb_question'] = df['emb_question'].apply(ast.literal_eval)\n",
    "\n",
    "# Теперь можно создать numpy-массив\n",
    "embeddings_array = np.array(df['emb_question'].tolist(), dtype='float32')\n",
    "\n",
    "# Размерность эмбеддингов\n",
    "d = embeddings_array.shape[1]\n",
    "\n",
    "# Создаём индекс FAISS\n",
    "index = faiss.IndexFlatL2(d)\n",
    "index.add(embeddings_array)\n",
    "\n",
    "# embeddings_array /= np.linalg.norm(embeddings_array, axis=1, keepdims=True)\n",
    "# vect /= np.linalg.norm(vect)\n",
    "\n",
    "# # Создаем Faiss индекс для inner product\n",
    "# d = embeddings_array.shape[1]\n",
    "# index = faiss.IndexFlatIP(d)\n",
    "# index.add(embeddings_array)\n"
   ]
  },
  {
   "cell_type": "code",
   "execution_count": 13,
   "id": "773b2af1",
   "metadata": {},
   "outputs": [
    {
     "name": "stdout",
     "output_type": "stream",
     "text": [
      "Category: Частные клиенты, Subcategory: Кредиты,que: Могу ли я взять кредит, если официально работаю за рубежом?, Distance: 0.5972949862480164\n",
      "Category: Продукты - Кредиты, Subcategory: Потребительские - Дальше - меньше,que: Можно ли оформить онлайн?, Distance: 0.6015995740890503\n",
      "Category: Частные клиенты, Subcategory: Онлайн-сервисы,que: Есть ли возможность принимать платежи из-за границы?, Distance: 0.6129500865936279\n",
      "Category: Продукты - Кредиты, Subcategory: Экспресс-кредиты - В магазинах-партнерах,que: В каких магазинах можно оформить?, Distance: 0.7150251865386963\n",
      "Category: Продукты - Вклады, Subcategory: Рублевые - СуперСемь,que: Можно ли открыть онлайн?, Distance: 0.7254409790039062\n"
     ]
    }
   ],
   "source": [
    "query_vec = np.array(vect, dtype='float32').reshape(1, -1)\n",
    "k = 5  # сколько ближайших найти\n",
    "distances, indices = index.search(query_vec, k)\n",
    "\n",
    "nearest_categories = df['category'].iloc[indices[0]].tolist()\n",
    "nearest_subcategories = df['subcategory'].iloc[indices[0]].tolist()\n",
    "nearest_que = df['question'].iloc[indices[0]].tolist()\n",
    "\n",
    "# Например, вывод\n",
    "for cat, subcat, que,dist in zip(nearest_categories, nearest_subcategories, nearest_que,distances[0]):\n",
    "    print(f\"Category: {cat}, Subcategory: {subcat},que: {que}, Distance: {dist}\")"
   ]
  },
  {
   "cell_type": "code",
   "execution_count": null,
   "id": "f17596b7",
   "metadata": {},
   "outputs": [],
   "source": [
    "# query_vec = vect.reshape(1, -1)\n",
    "# k = 5\n",
    "# similarities, indices = index.search(query_vec, k)\n",
    "\n",
    "# # Получаем результаты\n",
    "# nearest_categories = df['category'].iloc[indices[0]].tolist()\n",
    "# nearest_subcategories = df['subcategory'].iloc[indices[0]].tolist()\n",
    "# nearest_questions = df['question'].iloc[indices[0]].tolist()\n"
   ]
  },
  {
   "cell_type": "code",
   "execution_count": 14,
   "id": "1ebe656f",
   "metadata": {},
   "outputs": [],
   "source": [
    "# for cat, subcat, que, sim in zip(nearest_categories, nearest_subcategories, nearest_questions, similarities[0]):\n",
    "#     print(f\"Category: {cat}, Subcategory: {subcat}, Question: {que}, Cosine similarity: {sim}\")"
   ]
  }
 ],
 "metadata": {
  "kernelspec": {
   "display_name": ".venv",
   "language": "python",
   "name": "python3"
  },
  "language_info": {
   "codemirror_mode": {
    "name": "ipython",
    "version": 3
   },
   "file_extension": ".py",
   "mimetype": "text/x-python",
   "name": "python",
   "nbconvert_exporter": "python",
   "pygments_lexer": "ipython3",
   "version": "3.10.18"
  }
 },
 "nbformat": 4,
 "nbformat_minor": 5
}
