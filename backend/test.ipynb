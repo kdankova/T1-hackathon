{
 "cells": [
  {
   "cell_type": "code",
   "execution_count": 1,
   "id": "b2b923fb",
   "metadata": {},
   "outputs": [],
   "source": [
    "import requests\n",
    "import json\n",
    "import pandas as pd\n",
    "import numpy as np\n",
    "import faiss\n",
    "import re\n",
    "from pymystem3 import Mystem\n",
    "from rank_bm25 import BM25Okapi"
   ]
  },
  {
   "cell_type": "code",
   "execution_count": 2,
   "id": "7627b6f9",
   "metadata": {},
   "outputs": [],
   "source": [
    "mystem = Mystem()\n",
    "with open(\"russian.txt\", \"r\", encoding=\"utf-8\") as f:\n",
    "    stop_words = set([line.strip().lower() for line in f if line.strip()])\n",
    "\n",
    "def preprocess_text(text):\n",
    "    text = text.lower()\n",
    "    text = re.sub(r'[^а-я\\s]', ' ', text)\n",
    "    lemmas = mystem.lemmatize(text)\n",
    "    words = [w for w in lemmas if w.strip() and w not in stop_words]\n",
    "    return words"
   ]
  },
  {
   "cell_type": "code",
   "execution_count": 3,
   "id": "3efef49e",
   "metadata": {},
   "outputs": [],
   "source": [
    "API_URL = \"https://llm.t1v.scibox.tech/v1/embeddings\"\n",
    "API_KEY = \"sk-h7YcuRfbDw_2fPiuZzz06w\"\n",
    "headers = {\n",
    "    \"Authorization\": f\"Bearer {API_KEY}\",\n",
    "    \"Content-Type\": \"application/json\"\n",
    "}"
   ]
  },
  {
   "cell_type": "code",
   "execution_count": null,
   "id": "83dd6166",
   "metadata": {},
   "outputs": [],
   "source": [
    "df = pd.read_csv(r\"D:\\Code\\HAHATON\\new_hahaton.csv\")"
   ]
  },
  {
   "cell_type": "code",
   "execution_count": null,
   "id": "c02f5d39",
   "metadata": {},
   "outputs": [],
   "source": [
    "if 'processed_question' not in df.columns:\n",
    "    df['processed_question'] = df['question'].apply(preprocess_text)"
   ]
  },
  {
   "cell_type": "code",
   "execution_count": null,
   "id": "8c5a31a4",
   "metadata": {},
   "outputs": [],
   "source": [
    "embeddings_array = np.array(df['emb_question'].tolist(), dtype='float32')\n",
    "d = embeddings_array.shape[1]\n",
    "index = faiss.IndexFlatL2(d)\n",
    "index.add(embeddings_array)"
   ]
  },
  {
   "cell_type": "code",
   "execution_count": null,
   "id": "ee772db1",
   "metadata": {},
   "outputs": [],
   "source": [
    "user_query = \"А если я живу за границей, смогу ли я хоть как-то зарегистрироваться?\""
   ]
  },
  {
   "cell_type": "code",
   "execution_count": null,
   "id": "bb7f8bdd",
   "metadata": {},
   "outputs": [],
   "source": [
    "data = {\"model\": \"bge-m3\", \"input\": user_query}\n",
    "response = requests.post(API_URL, headers=headers, json=data)\n",
    "vect = np.array(response.json()[\"data\"][0][\"embedding\"], dtype='float32').reshape(1, -1)\n",
    "\n",
    "k = 10\n",
    "distances, indices = index.search(vect, k)\n",
    "faiss_scores = 1 / (1 + distances[0]) \n",
    "faiss_results = df.iloc[indices[0]].copy()\n",
    "faiss_results['score'] = faiss_scores"
   ]
  },
  {
   "cell_type": "code",
   "execution_count": null,
   "id": "604a1d19",
   "metadata": {},
   "outputs": [],
   "source": [
    "bm25_corpus = df['processed_question'].tolist()\n",
    "bm25 = BM25Okapi(bm25_corpus)\n",
    "query_words = preprocess_text(user_query)\n",
    "bm25_scores = bm25.get_scores(query_words)\n",
    "\n",
    "bm25_results = df.copy()\n",
    "bm25_results['score'] = bm25_scores"
   ]
  },
  {
   "cell_type": "code",
   "execution_count": null,
   "id": "b6c47b34",
   "metadata": {},
   "outputs": [],
   "source": [
    "alpha = 0.7  # вес FAISS\n",
    "beta = 0.3   # вес BM25\n",
    "\n",
    "combined = df.copy()\n",
    "combined['combined_score'] = alpha * faiss_results['score'] + beta * bm25_results['score']"
   ]
  },
  {
   "cell_type": "code",
   "execution_count": null,
   "id": "75001b3e",
   "metadata": {},
   "outputs": [
    {
     "ename": "KeyError",
     "evalue": "'emb_question'",
     "output_type": "error",
     "traceback": [
      "\u001b[31m---------------------------------------------------------------------------\u001b[39m",
      "\u001b[31mKeyError\u001b[39m                                  Traceback (most recent call last)",
      "\u001b[36mFile \u001b[39m\u001b[32md:\\Code\\HAHATON\\.venv\\Lib\\site-packages\\pandas\\core\\indexes\\base.py:3812\u001b[39m, in \u001b[36mIndex.get_loc\u001b[39m\u001b[34m(self, key)\u001b[39m\n\u001b[32m   3811\u001b[39m \u001b[38;5;28;01mtry\u001b[39;00m:\n\u001b[32m-> \u001b[39m\u001b[32m3812\u001b[39m     \u001b[38;5;28;01mreturn\u001b[39;00m \u001b[38;5;28;43mself\u001b[39;49m\u001b[43m.\u001b[49m\u001b[43m_engine\u001b[49m\u001b[43m.\u001b[49m\u001b[43mget_loc\u001b[49m\u001b[43m(\u001b[49m\u001b[43mcasted_key\u001b[49m\u001b[43m)\u001b[49m\n\u001b[32m   3813\u001b[39m \u001b[38;5;28;01mexcept\u001b[39;00m \u001b[38;5;167;01mKeyError\u001b[39;00m \u001b[38;5;28;01mas\u001b[39;00m err:\n",
      "\u001b[36mFile \u001b[39m\u001b[32mpandas/_libs/index.pyx:167\u001b[39m, in \u001b[36mpandas._libs.index.IndexEngine.get_loc\u001b[39m\u001b[34m()\u001b[39m\n",
      "\u001b[36mFile \u001b[39m\u001b[32mpandas/_libs/index.pyx:196\u001b[39m, in \u001b[36mpandas._libs.index.IndexEngine.get_loc\u001b[39m\u001b[34m()\u001b[39m\n",
      "\u001b[36mFile \u001b[39m\u001b[32mpandas/_libs/hashtable_class_helper.pxi:7088\u001b[39m, in \u001b[36mpandas._libs.hashtable.PyObjectHashTable.get_item\u001b[39m\u001b[34m()\u001b[39m\n",
      "\u001b[36mFile \u001b[39m\u001b[32mpandas/_libs/hashtable_class_helper.pxi:7096\u001b[39m, in \u001b[36mpandas._libs.hashtable.PyObjectHashTable.get_item\u001b[39m\u001b[34m()\u001b[39m\n",
      "\u001b[31mKeyError\u001b[39m: 'emb_question'",
      "\nThe above exception was the direct cause of the following exception:\n",
      "\u001b[31mKeyError\u001b[39m                                  Traceback (most recent call last)",
      "\u001b[36mCell\u001b[39m\u001b[36m \u001b[39m\u001b[32mIn[3]\u001b[39m\u001b[32m, line 33\u001b[39m\n\u001b[32m     30\u001b[39m     df[\u001b[33m'\u001b[39m\u001b[33mprocessed_question\u001b[39m\u001b[33m'\u001b[39m] = df[\u001b[33m'\u001b[39m\u001b[33mquestion\u001b[39m\u001b[33m'\u001b[39m].apply(preprocess_text)\n\u001b[32m     32\u001b[39m \u001b[38;5;66;03m# Вектора для FAISS (предполагаем, что они уже сохранены в df['emb_question'])\u001b[39;00m\n\u001b[32m---> \u001b[39m\u001b[32m33\u001b[39m embeddings_array = np.array(\u001b[43mdf\u001b[49m\u001b[43m[\u001b[49m\u001b[33;43m'\u001b[39;49m\u001b[33;43memb_question\u001b[39;49m\u001b[33;43m'\u001b[39;49m\u001b[43m]\u001b[49m.tolist(), dtype=\u001b[33m'\u001b[39m\u001b[33mfloat32\u001b[39m\u001b[33m'\u001b[39m)\n\u001b[32m     34\u001b[39m d = embeddings_array.shape[\u001b[32m1\u001b[39m]\n\u001b[32m     35\u001b[39m index = faiss.IndexFlatL2(d)\n",
      "\u001b[36mFile \u001b[39m\u001b[32md:\\Code\\HAHATON\\.venv\\Lib\\site-packages\\pandas\\core\\frame.py:4113\u001b[39m, in \u001b[36mDataFrame.__getitem__\u001b[39m\u001b[34m(self, key)\u001b[39m\n\u001b[32m   4111\u001b[39m \u001b[38;5;28;01mif\u001b[39;00m \u001b[38;5;28mself\u001b[39m.columns.nlevels > \u001b[32m1\u001b[39m:\n\u001b[32m   4112\u001b[39m     \u001b[38;5;28;01mreturn\u001b[39;00m \u001b[38;5;28mself\u001b[39m._getitem_multilevel(key)\n\u001b[32m-> \u001b[39m\u001b[32m4113\u001b[39m indexer = \u001b[38;5;28;43mself\u001b[39;49m\u001b[43m.\u001b[49m\u001b[43mcolumns\u001b[49m\u001b[43m.\u001b[49m\u001b[43mget_loc\u001b[49m\u001b[43m(\u001b[49m\u001b[43mkey\u001b[49m\u001b[43m)\u001b[49m\n\u001b[32m   4114\u001b[39m \u001b[38;5;28;01mif\u001b[39;00m is_integer(indexer):\n\u001b[32m   4115\u001b[39m     indexer = [indexer]\n",
      "\u001b[36mFile \u001b[39m\u001b[32md:\\Code\\HAHATON\\.venv\\Lib\\site-packages\\pandas\\core\\indexes\\base.py:3819\u001b[39m, in \u001b[36mIndex.get_loc\u001b[39m\u001b[34m(self, key)\u001b[39m\n\u001b[32m   3814\u001b[39m     \u001b[38;5;28;01mif\u001b[39;00m \u001b[38;5;28misinstance\u001b[39m(casted_key, \u001b[38;5;28mslice\u001b[39m) \u001b[38;5;129;01mor\u001b[39;00m (\n\u001b[32m   3815\u001b[39m         \u001b[38;5;28misinstance\u001b[39m(casted_key, abc.Iterable)\n\u001b[32m   3816\u001b[39m         \u001b[38;5;129;01mand\u001b[39;00m \u001b[38;5;28many\u001b[39m(\u001b[38;5;28misinstance\u001b[39m(x, \u001b[38;5;28mslice\u001b[39m) \u001b[38;5;28;01mfor\u001b[39;00m x \u001b[38;5;129;01min\u001b[39;00m casted_key)\n\u001b[32m   3817\u001b[39m     ):\n\u001b[32m   3818\u001b[39m         \u001b[38;5;28;01mraise\u001b[39;00m InvalidIndexError(key)\n\u001b[32m-> \u001b[39m\u001b[32m3819\u001b[39m     \u001b[38;5;28;01mraise\u001b[39;00m \u001b[38;5;167;01mKeyError\u001b[39;00m(key) \u001b[38;5;28;01mfrom\u001b[39;00m\u001b[38;5;250m \u001b[39m\u001b[34;01merr\u001b[39;00m\n\u001b[32m   3820\u001b[39m \u001b[38;5;28;01mexcept\u001b[39;00m \u001b[38;5;167;01mTypeError\u001b[39;00m:\n\u001b[32m   3821\u001b[39m     \u001b[38;5;66;03m# If we have a listlike key, _check_indexing_error will raise\u001b[39;00m\n\u001b[32m   3822\u001b[39m     \u001b[38;5;66;03m#  InvalidIndexError. Otherwise we fall through and re-raise\u001b[39;00m\n\u001b[32m   3823\u001b[39m     \u001b[38;5;66;03m#  the TypeError.\u001b[39;00m\n\u001b[32m   3824\u001b[39m     \u001b[38;5;28mself\u001b[39m._check_indexing_error(key)\n",
      "\u001b[31mKeyError\u001b[39m: 'emb_question'"
     ]
    }
   ],
   "source": [
    "final_results = combined.sort_values(by='combined_score', ascending=False).head(10)\n",
    "for idx, row in final_results.iterrows():\n",
    "    print(f\"Category: {row['category']}, Question: {row['question']}, Combined score: {row['combined_score']:.4f}\")"
   ]
  }
 ],
 "metadata": {
  "kernelspec": {
   "display_name": ".venv",
   "language": "python",
   "name": "python3"
  },
  "language_info": {
   "codemirror_mode": {
    "name": "ipython",
    "version": 3
   },
   "file_extension": ".py",
   "mimetype": "text/x-python",
   "name": "python",
   "nbconvert_exporter": "python",
   "pygments_lexer": "ipython3",
   "version": "3.13.4"
  }
 },
 "nbformat": 4,
 "nbformat_minor": 5
}
