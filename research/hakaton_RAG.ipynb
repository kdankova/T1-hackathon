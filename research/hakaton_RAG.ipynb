{
  "nbformat": 4,
  "nbformat_minor": 0,
  "metadata": {
    "colab": {
      "provenance": []
    },
    "kernelspec": {
      "name": "python3",
      "display_name": "Python 3"
    },
    "language_info": {
      "name": "python"
    }
  },
  "cells": [
    {
      "cell_type": "code",
      "execution_count": 1,
      "metadata": {
        "colab": {
          "base_uri": "https://localhost:8080/"
        },
        "id": "tSYyEUJhBPc-",
        "outputId": "fa2390f5-0443-4b53-e6ea-4e9dd411bff9"
      },
      "outputs": [
        {
          "output_type": "stream",
          "name": "stdout",
          "text": [
            "Downloading...\n",
            "From: https://drive.google.com/uc?id=1x8NFTmr497b7vVzq6VtSu0-QYGSVs3vz\n",
            "To: /content/smart_support_vtb_belarus_faq_final.csv\n",
            "\r  0% 0.00/123k [00:00<?, ?B/s]\r100% 123k/123k [00:00<00:00, 80.0MB/s]\n"
          ]
        }
      ],
      "source": [
        "!gdown 1x8NFTmr497b7vVzq6VtSu0-QYGSVs3vz"
      ]
    },
    {
      "cell_type": "code",
      "source": [
        "!pip install langchain langchain-community langchain-openai openai sentence-transformers faiss-cpu rank_bm25 -q"
      ],
      "metadata": {
        "colab": {
          "base_uri": "https://localhost:8080/"
        },
        "id": "QcAHYUNiHNEH",
        "outputId": "9e4b116b-3d5e-457a-ae76-bae407330ac9"
      },
      "execution_count": 2,
      "outputs": [
        {
          "output_type": "stream",
          "name": "stdout",
          "text": [
            "\u001b[?25l   \u001b[90m━━━━━━━━━━━━━━━━━━━━━━━━━━━━━━━━━━━━━━━━\u001b[0m \u001b[32m0.0/2.5 MB\u001b[0m \u001b[31m?\u001b[0m eta \u001b[36m-:--:--\u001b[0m\r\u001b[2K   \u001b[91m━━━━━━━\u001b[0m\u001b[90m╺\u001b[0m\u001b[90m━━━━━━━━━━━━━━━━━━━━━━━━━━━━━━━━\u001b[0m \u001b[32m0.5/2.5 MB\u001b[0m \u001b[31m13.9 MB/s\u001b[0m eta \u001b[36m0:00:01\u001b[0m\r\u001b[2K   \u001b[91m━━━━━━━━━━━━━━━━━━━━━━━━━━━━━━━━━━━━━━━\u001b[0m\u001b[91m╸\u001b[0m \u001b[32m2.5/2.5 MB\u001b[0m \u001b[31m40.2 MB/s\u001b[0m eta \u001b[36m0:00:01\u001b[0m\r\u001b[2K   \u001b[90m━━━━━━━━━━━━━━━━━━━━━━━━━━━━━━━━━━━━━━━━\u001b[0m \u001b[32m2.5/2.5 MB\u001b[0m \u001b[31m28.9 MB/s\u001b[0m eta \u001b[36m0:00:00\u001b[0m\n",
            "\u001b[2K   \u001b[90m━━━━━━━━━━━━━━━━━━━━━━━━━━━━━━━━━━━━━━━━\u001b[0m \u001b[32m76.0/76.0 kB\u001b[0m \u001b[31m3.7 MB/s\u001b[0m eta \u001b[36m0:00:00\u001b[0m\n",
            "\u001b[2K   \u001b[90m━━━━━━━━━━━━━━━━━━━━━━━━━━━━━━━━━━━━━━━━\u001b[0m \u001b[32m31.4/31.4 MB\u001b[0m \u001b[31m56.1 MB/s\u001b[0m eta \u001b[36m0:00:00\u001b[0m\n",
            "\u001b[2K   \u001b[90m━━━━━━━━━━━━━━━━━━━━━━━━━━━━━━━━━━━━━━━━\u001b[0m \u001b[32m64.7/64.7 kB\u001b[0m \u001b[31m3.0 MB/s\u001b[0m eta \u001b[36m0:00:00\u001b[0m\n",
            "\u001b[2K   \u001b[90m━━━━━━━━━━━━━━━━━━━━━━━━━━━━━━━━━━━━━━━━\u001b[0m \u001b[32m50.9/50.9 kB\u001b[0m \u001b[31m2.7 MB/s\u001b[0m eta \u001b[36m0:00:00\u001b[0m\n",
            "\u001b[?25h\u001b[31mERROR: pip's dependency resolver does not currently take into account all the packages that are installed. This behaviour is the source of the following dependency conflicts.\n",
            "google-colab 1.0.0 requires requests==2.32.4, but you have requests 2.32.5 which is incompatible.\u001b[0m\u001b[31m\n",
            "\u001b[0m"
          ]
        }
      ]
    },
    {
      "cell_type": "code",
      "source": [
        "from langchain.llms import OpenAI\n",
        "from langchain import PromptTemplate, LLMChain\n",
        "import pandas as pd\n",
        "import numpy as np\n",
        "import seaborn as sns\n",
        "from matplotlib import pyplot as pltfrom\n",
        "from langchain.document_loaders import CSVLoader, DataFrameLoader\n",
        "from langchain.text_splitter import (\n",
        "    CharacterTextSplitter,\n",
        "    RecursiveCharacterTextSplitter,\n",
        ")\n",
        "from langchain_openai import OpenAIEmbeddings\n",
        "from langchain.vectorstores import FAISS\n",
        "from langchain.schema import StrOutputParser\n",
        "from langchain_core.prompts import ChatPromptTemplate\n",
        "from langchain_core.runnables import RunnablePassthrough"
      ],
      "metadata": {
        "id": "7xzB6xiWLJ7F"
      },
      "execution_count": 3,
      "outputs": []
    },
    {
      "cell_type": "code",
      "source": [
        "df = pd.read_csv('smart_support_vtb_belarus_faq_final.csv')\n",
        "df = df.loc[:, ~df.columns.str.contains('^Unnamed')]\n",
        "df = df.dropna()"
      ],
      "metadata": {
        "id": "6h9RSmufB816"
      },
      "execution_count": 4,
      "outputs": []
    },
    {
      "cell_type": "code",
      "source": [
        "df.columns = ['category', 'subcategory', 'question', 'priority', 'target_group', 'answer']"
      ],
      "metadata": {
        "id": "Eh8w1FSJDPfl"
      },
      "execution_count": 5,
      "outputs": []
    },
    {
      "cell_type": "code",
      "source": [
        "df.shape"
      ],
      "metadata": {
        "colab": {
          "base_uri": "https://localhost:8080/"
        },
        "id": "hOlSf5gZCwMX",
        "outputId": "3b712a10-dbae-46ef-bb86-78cd89f85c2b"
      },
      "execution_count": 6,
      "outputs": [
        {
          "output_type": "execute_result",
          "data": {
            "text/plain": [
              "(201, 6)"
            ]
          },
          "metadata": {},
          "execution_count": 6
        }
      ]
    },
    {
      "cell_type": "code",
      "source": [
        "df.head(10)"
      ],
      "metadata": {
        "id": "ENjIC4fgCIG7",
        "colab": {
          "base_uri": "https://localhost:8080/",
          "height": 529
        },
        "outputId": "e1825dfc-b3c8-4ae8-f2ff-45b02867eca2"
      },
      "execution_count": 7,
      "outputs": [
        {
          "output_type": "execute_result",
          "data": {
            "text/plain": [
              "                category              subcategory  \\\n",
              "0          Новые клиенты  Регистрация и онбординг   \n",
              "1          Новые клиенты  Регистрация и онбординг   \n",
              "2          Новые клиенты  Регистрация и онбординг   \n",
              "3          Новые клиенты              Первые шаги   \n",
              "4          Новые клиенты              Первые шаги   \n",
              "5  Техническая поддержка       Проблемы и решения   \n",
              "6  Техническая поддержка       Проблемы и решения   \n",
              "7  Техническая поддержка       Проблемы и решения   \n",
              "8  Техническая поддержка       Проблемы и решения   \n",
              "9  Техническая поддержка       Проблемы и решения   \n",
              "\n",
              "                                            question priority   target_group  \\\n",
              "0                   Как стать клиентом банка онлайн?  высокий  новые клиенты   \n",
              "1  Регистрация через МСИ (Межбанковская система и...  высокий  новые клиенты   \n",
              "2           Документы для регистрации нового клиента  высокий  новые клиенты   \n",
              "3                        Первый вход в Интернет-банк  высокий  новые клиенты   \n",
              "4      Как скачать и настроить мобильное приложение?  высокий  новые клиенты   \n",
              "5                      Не могу войти в Интернет-банк  высокий    все клиенты   \n",
              "6  Я нахожусь за пределами Республики Беларусь. К...  высокий    все клиенты   \n",
              "7              Забыл пароль от мобильного приложения  высокий    все клиенты   \n",
              "8                  Карта заблокирована - что делать?  высокий    все клиенты   \n",
              "9  Могу ли я оставить обращение, не обращаясь лич...  высокий    все клиенты   \n",
              "\n",
              "                                              answer  \n",
              "0  Стать клиентом ВТБ (Беларусь) можно онлайн чер...  \n",
              "1  МСИ позволяет пройти идентификацию онлайн, исп...  \n",
              "2  Для регистрации в качестве нового клиента необ...  \n",
              "3  После регистрации вы получите логин и пароль д...  \n",
              "4  Мобильное приложение VTB mBank можно скачать в...  \n",
              "5  Если не получается войти в Интернет-банк, пров...  \n",
              "6  Вы можете получить онлайн-консультацию (в текс...  \n",
              "7  Если Вы забыли логин или пароль доступа, досту...  \n",
              "8  Если карта заблокирована, обратитесь в контакт...  \n",
              "9  Вы можете воспользоваться формой \"Обратная свя...  "
            ],
            "text/html": [
              "\n",
              "  <div id=\"df-f3a7123f-9a85-4204-85fb-2519d8cc7615\" class=\"colab-df-container\">\n",
              "    <div>\n",
              "<style scoped>\n",
              "    .dataframe tbody tr th:only-of-type {\n",
              "        vertical-align: middle;\n",
              "    }\n",
              "\n",
              "    .dataframe tbody tr th {\n",
              "        vertical-align: top;\n",
              "    }\n",
              "\n",
              "    .dataframe thead th {\n",
              "        text-align: right;\n",
              "    }\n",
              "</style>\n",
              "<table border=\"1\" class=\"dataframe\">\n",
              "  <thead>\n",
              "    <tr style=\"text-align: right;\">\n",
              "      <th></th>\n",
              "      <th>category</th>\n",
              "      <th>subcategory</th>\n",
              "      <th>question</th>\n",
              "      <th>priority</th>\n",
              "      <th>target_group</th>\n",
              "      <th>answer</th>\n",
              "    </tr>\n",
              "  </thead>\n",
              "  <tbody>\n",
              "    <tr>\n",
              "      <th>0</th>\n",
              "      <td>Новые клиенты</td>\n",
              "      <td>Регистрация и онбординг</td>\n",
              "      <td>Как стать клиентом банка онлайн?</td>\n",
              "      <td>высокий</td>\n",
              "      <td>новые клиенты</td>\n",
              "      <td>Стать клиентом ВТБ (Беларусь) можно онлайн чер...</td>\n",
              "    </tr>\n",
              "    <tr>\n",
              "      <th>1</th>\n",
              "      <td>Новые клиенты</td>\n",
              "      <td>Регистрация и онбординг</td>\n",
              "      <td>Регистрация через МСИ (Межбанковская система и...</td>\n",
              "      <td>высокий</td>\n",
              "      <td>новые клиенты</td>\n",
              "      <td>МСИ позволяет пройти идентификацию онлайн, исп...</td>\n",
              "    </tr>\n",
              "    <tr>\n",
              "      <th>2</th>\n",
              "      <td>Новые клиенты</td>\n",
              "      <td>Регистрация и онбординг</td>\n",
              "      <td>Документы для регистрации нового клиента</td>\n",
              "      <td>высокий</td>\n",
              "      <td>новые клиенты</td>\n",
              "      <td>Для регистрации в качестве нового клиента необ...</td>\n",
              "    </tr>\n",
              "    <tr>\n",
              "      <th>3</th>\n",
              "      <td>Новые клиенты</td>\n",
              "      <td>Первые шаги</td>\n",
              "      <td>Первый вход в Интернет-банк</td>\n",
              "      <td>высокий</td>\n",
              "      <td>новые клиенты</td>\n",
              "      <td>После регистрации вы получите логин и пароль д...</td>\n",
              "    </tr>\n",
              "    <tr>\n",
              "      <th>4</th>\n",
              "      <td>Новые клиенты</td>\n",
              "      <td>Первые шаги</td>\n",
              "      <td>Как скачать и настроить мобильное приложение?</td>\n",
              "      <td>высокий</td>\n",
              "      <td>новые клиенты</td>\n",
              "      <td>Мобильное приложение VTB mBank можно скачать в...</td>\n",
              "    </tr>\n",
              "    <tr>\n",
              "      <th>5</th>\n",
              "      <td>Техническая поддержка</td>\n",
              "      <td>Проблемы и решения</td>\n",
              "      <td>Не могу войти в Интернет-банк</td>\n",
              "      <td>высокий</td>\n",
              "      <td>все клиенты</td>\n",
              "      <td>Если не получается войти в Интернет-банк, пров...</td>\n",
              "    </tr>\n",
              "    <tr>\n",
              "      <th>6</th>\n",
              "      <td>Техническая поддержка</td>\n",
              "      <td>Проблемы и решения</td>\n",
              "      <td>Я нахожусь за пределами Республики Беларусь. К...</td>\n",
              "      <td>высокий</td>\n",
              "      <td>все клиенты</td>\n",
              "      <td>Вы можете получить онлайн-консультацию (в текс...</td>\n",
              "    </tr>\n",
              "    <tr>\n",
              "      <th>7</th>\n",
              "      <td>Техническая поддержка</td>\n",
              "      <td>Проблемы и решения</td>\n",
              "      <td>Забыл пароль от мобильного приложения</td>\n",
              "      <td>высокий</td>\n",
              "      <td>все клиенты</td>\n",
              "      <td>Если Вы забыли логин или пароль доступа, досту...</td>\n",
              "    </tr>\n",
              "    <tr>\n",
              "      <th>8</th>\n",
              "      <td>Техническая поддержка</td>\n",
              "      <td>Проблемы и решения</td>\n",
              "      <td>Карта заблокирована - что делать?</td>\n",
              "      <td>высокий</td>\n",
              "      <td>все клиенты</td>\n",
              "      <td>Если карта заблокирована, обратитесь в контакт...</td>\n",
              "    </tr>\n",
              "    <tr>\n",
              "      <th>9</th>\n",
              "      <td>Техническая поддержка</td>\n",
              "      <td>Проблемы и решения</td>\n",
              "      <td>Могу ли я оставить обращение, не обращаясь лич...</td>\n",
              "      <td>высокий</td>\n",
              "      <td>все клиенты</td>\n",
              "      <td>Вы можете воспользоваться формой \"Обратная свя...</td>\n",
              "    </tr>\n",
              "  </tbody>\n",
              "</table>\n",
              "</div>\n",
              "    <div class=\"colab-df-buttons\">\n",
              "\n",
              "  <div class=\"colab-df-container\">\n",
              "    <button class=\"colab-df-convert\" onclick=\"convertToInteractive('df-f3a7123f-9a85-4204-85fb-2519d8cc7615')\"\n",
              "            title=\"Convert this dataframe to an interactive table.\"\n",
              "            style=\"display:none;\">\n",
              "\n",
              "  <svg xmlns=\"http://www.w3.org/2000/svg\" height=\"24px\" viewBox=\"0 -960 960 960\">\n",
              "    <path d=\"M120-120v-720h720v720H120Zm60-500h600v-160H180v160Zm220 220h160v-160H400v160Zm0 220h160v-160H400v160ZM180-400h160v-160H180v160Zm440 0h160v-160H620v160ZM180-180h160v-160H180v160Zm440 0h160v-160H620v160Z\"/>\n",
              "  </svg>\n",
              "    </button>\n",
              "\n",
              "  <style>\n",
              "    .colab-df-container {\n",
              "      display:flex;\n",
              "      gap: 12px;\n",
              "    }\n",
              "\n",
              "    .colab-df-convert {\n",
              "      background-color: #E8F0FE;\n",
              "      border: none;\n",
              "      border-radius: 50%;\n",
              "      cursor: pointer;\n",
              "      display: none;\n",
              "      fill: #1967D2;\n",
              "      height: 32px;\n",
              "      padding: 0 0 0 0;\n",
              "      width: 32px;\n",
              "    }\n",
              "\n",
              "    .colab-df-convert:hover {\n",
              "      background-color: #E2EBFA;\n",
              "      box-shadow: 0px 1px 2px rgba(60, 64, 67, 0.3), 0px 1px 3px 1px rgba(60, 64, 67, 0.15);\n",
              "      fill: #174EA6;\n",
              "    }\n",
              "\n",
              "    .colab-df-buttons div {\n",
              "      margin-bottom: 4px;\n",
              "    }\n",
              "\n",
              "    [theme=dark] .colab-df-convert {\n",
              "      background-color: #3B4455;\n",
              "      fill: #D2E3FC;\n",
              "    }\n",
              "\n",
              "    [theme=dark] .colab-df-convert:hover {\n",
              "      background-color: #434B5C;\n",
              "      box-shadow: 0px 1px 3px 1px rgba(0, 0, 0, 0.15);\n",
              "      filter: drop-shadow(0px 1px 2px rgba(0, 0, 0, 0.3));\n",
              "      fill: #FFFFFF;\n",
              "    }\n",
              "  </style>\n",
              "\n",
              "    <script>\n",
              "      const buttonEl =\n",
              "        document.querySelector('#df-f3a7123f-9a85-4204-85fb-2519d8cc7615 button.colab-df-convert');\n",
              "      buttonEl.style.display =\n",
              "        google.colab.kernel.accessAllowed ? 'block' : 'none';\n",
              "\n",
              "      async function convertToInteractive(key) {\n",
              "        const element = document.querySelector('#df-f3a7123f-9a85-4204-85fb-2519d8cc7615');\n",
              "        const dataTable =\n",
              "          await google.colab.kernel.invokeFunction('convertToInteractive',\n",
              "                                                    [key], {});\n",
              "        if (!dataTable) return;\n",
              "\n",
              "        const docLinkHtml = 'Like what you see? Visit the ' +\n",
              "          '<a target=\"_blank\" href=https://colab.research.google.com/notebooks/data_table.ipynb>data table notebook</a>'\n",
              "          + ' to learn more about interactive tables.';\n",
              "        element.innerHTML = '';\n",
              "        dataTable['output_type'] = 'display_data';\n",
              "        await google.colab.output.renderOutput(dataTable, element);\n",
              "        const docLink = document.createElement('div');\n",
              "        docLink.innerHTML = docLinkHtml;\n",
              "        element.appendChild(docLink);\n",
              "      }\n",
              "    </script>\n",
              "  </div>\n",
              "\n",
              "\n",
              "    <div id=\"df-8c565e67-f022-48d3-9d49-22dc368706ee\">\n",
              "      <button class=\"colab-df-quickchart\" onclick=\"quickchart('df-8c565e67-f022-48d3-9d49-22dc368706ee')\"\n",
              "                title=\"Suggest charts\"\n",
              "                style=\"display:none;\">\n",
              "\n",
              "<svg xmlns=\"http://www.w3.org/2000/svg\" height=\"24px\"viewBox=\"0 0 24 24\"\n",
              "     width=\"24px\">\n",
              "    <g>\n",
              "        <path d=\"M19 3H5c-1.1 0-2 .9-2 2v14c0 1.1.9 2 2 2h14c1.1 0 2-.9 2-2V5c0-1.1-.9-2-2-2zM9 17H7v-7h2v7zm4 0h-2V7h2v10zm4 0h-2v-4h2v4z\"/>\n",
              "    </g>\n",
              "</svg>\n",
              "      </button>\n",
              "\n",
              "<style>\n",
              "  .colab-df-quickchart {\n",
              "      --bg-color: #E8F0FE;\n",
              "      --fill-color: #1967D2;\n",
              "      --hover-bg-color: #E2EBFA;\n",
              "      --hover-fill-color: #174EA6;\n",
              "      --disabled-fill-color: #AAA;\n",
              "      --disabled-bg-color: #DDD;\n",
              "  }\n",
              "\n",
              "  [theme=dark] .colab-df-quickchart {\n",
              "      --bg-color: #3B4455;\n",
              "      --fill-color: #D2E3FC;\n",
              "      --hover-bg-color: #434B5C;\n",
              "      --hover-fill-color: #FFFFFF;\n",
              "      --disabled-bg-color: #3B4455;\n",
              "      --disabled-fill-color: #666;\n",
              "  }\n",
              "\n",
              "  .colab-df-quickchart {\n",
              "    background-color: var(--bg-color);\n",
              "    border: none;\n",
              "    border-radius: 50%;\n",
              "    cursor: pointer;\n",
              "    display: none;\n",
              "    fill: var(--fill-color);\n",
              "    height: 32px;\n",
              "    padding: 0;\n",
              "    width: 32px;\n",
              "  }\n",
              "\n",
              "  .colab-df-quickchart:hover {\n",
              "    background-color: var(--hover-bg-color);\n",
              "    box-shadow: 0 1px 2px rgba(60, 64, 67, 0.3), 0 1px 3px 1px rgba(60, 64, 67, 0.15);\n",
              "    fill: var(--button-hover-fill-color);\n",
              "  }\n",
              "\n",
              "  .colab-df-quickchart-complete:disabled,\n",
              "  .colab-df-quickchart-complete:disabled:hover {\n",
              "    background-color: var(--disabled-bg-color);\n",
              "    fill: var(--disabled-fill-color);\n",
              "    box-shadow: none;\n",
              "  }\n",
              "\n",
              "  .colab-df-spinner {\n",
              "    border: 2px solid var(--fill-color);\n",
              "    border-color: transparent;\n",
              "    border-bottom-color: var(--fill-color);\n",
              "    animation:\n",
              "      spin 1s steps(1) infinite;\n",
              "  }\n",
              "\n",
              "  @keyframes spin {\n",
              "    0% {\n",
              "      border-color: transparent;\n",
              "      border-bottom-color: var(--fill-color);\n",
              "      border-left-color: var(--fill-color);\n",
              "    }\n",
              "    20% {\n",
              "      border-color: transparent;\n",
              "      border-left-color: var(--fill-color);\n",
              "      border-top-color: var(--fill-color);\n",
              "    }\n",
              "    30% {\n",
              "      border-color: transparent;\n",
              "      border-left-color: var(--fill-color);\n",
              "      border-top-color: var(--fill-color);\n",
              "      border-right-color: var(--fill-color);\n",
              "    }\n",
              "    40% {\n",
              "      border-color: transparent;\n",
              "      border-right-color: var(--fill-color);\n",
              "      border-top-color: var(--fill-color);\n",
              "    }\n",
              "    60% {\n",
              "      border-color: transparent;\n",
              "      border-right-color: var(--fill-color);\n",
              "    }\n",
              "    80% {\n",
              "      border-color: transparent;\n",
              "      border-right-color: var(--fill-color);\n",
              "      border-bottom-color: var(--fill-color);\n",
              "    }\n",
              "    90% {\n",
              "      border-color: transparent;\n",
              "      border-bottom-color: var(--fill-color);\n",
              "    }\n",
              "  }\n",
              "</style>\n",
              "\n",
              "      <script>\n",
              "        async function quickchart(key) {\n",
              "          const quickchartButtonEl =\n",
              "            document.querySelector('#' + key + ' button');\n",
              "          quickchartButtonEl.disabled = true;  // To prevent multiple clicks.\n",
              "          quickchartButtonEl.classList.add('colab-df-spinner');\n",
              "          try {\n",
              "            const charts = await google.colab.kernel.invokeFunction(\n",
              "                'suggestCharts', [key], {});\n",
              "          } catch (error) {\n",
              "            console.error('Error during call to suggestCharts:', error);\n",
              "          }\n",
              "          quickchartButtonEl.classList.remove('colab-df-spinner');\n",
              "          quickchartButtonEl.classList.add('colab-df-quickchart-complete');\n",
              "        }\n",
              "        (() => {\n",
              "          let quickchartButtonEl =\n",
              "            document.querySelector('#df-8c565e67-f022-48d3-9d49-22dc368706ee button');\n",
              "          quickchartButtonEl.style.display =\n",
              "            google.colab.kernel.accessAllowed ? 'block' : 'none';\n",
              "        })();\n",
              "      </script>\n",
              "    </div>\n",
              "    </div>\n",
              "  </div>\n"
            ],
            "application/vnd.google.colaboratory.intrinsic+json": {
              "type": "dataframe",
              "variable_name": "df",
              "summary": "{\n  \"name\": \"df\",\n  \"rows\": 201,\n  \"fields\": [\n    {\n      \"column\": \"category\",\n      \"properties\": {\n        \"dtype\": \"category\",\n        \"num_unique_values\": 6,\n        \"samples\": [\n          \"\\u041d\\u043e\\u0432\\u044b\\u0435 \\u043a\\u043b\\u0438\\u0435\\u043d\\u0442\\u044b\",\n          \"\\u0422\\u0435\\u0445\\u043d\\u0438\\u0447\\u0435\\u0441\\u043a\\u0430\\u044f \\u043f\\u043e\\u0434\\u0434\\u0435\\u0440\\u0436\\u043a\\u0430\",\n          \"\\u0427\\u0430\\u0441\\u0442\\u043d\\u044b\\u0435 \\u043a\\u043b\\u0438\\u0435\\u043d\\u0442\\u044b\"\n        ],\n        \"semantic_type\": \"\",\n        \"description\": \"\"\n      }\n    },\n    {\n      \"column\": \"subcategory\",\n      \"properties\": {\n        \"dtype\": \"category\",\n        \"num_unique_values\": 35,\n        \"samples\": [\n          \"\\u0420\\u0443\\u0431\\u043b\\u0435\\u0432\\u044b\\u0435 - \\u041f\\u043e\\u0434\\u0443\\u0448\\u043a\\u0430 \\u0431\\u0435\\u0437\\u043e\\u043f\\u0430\\u0441\\u043d\\u043e\\u0441\\u0442\\u0438\",\n          \"\\u041f\\u043e\\u0442\\u0440\\u0435\\u0431\\u0438\\u0442\\u0435\\u043b\\u044c\\u0441\\u043a\\u0438\\u0435 - \\u041d\\u0430 \\u0432\\u0441\\u0451 \\u043f\\u0440\\u043e \\u0432\\u0441\\u0451\",\n          \"\\u0420\\u0443\\u0431\\u043b\\u0435\\u0432\\u044b\\u0435 - \\u0412\\u0435\\u043b\\u0438\\u043a\\u0438\\u0439 \\u043f\\u0443\\u0442\\u044c\"\n        ],\n        \"semantic_type\": \"\",\n        \"description\": \"\"\n      }\n    },\n    {\n      \"column\": \"question\",\n      \"properties\": {\n        \"dtype\": \"string\",\n        \"num_unique_values\": 200,\n        \"samples\": [\n          \"\\u041a\\u0430\\u043a \\u043e\\u0444\\u043e\\u0440\\u043c\\u0438\\u0442\\u044c \\u043e\\u043d\\u043b\\u0430\\u0439\\u043d \\u043a\\u0440\\u0435\\u0434\\u0438\\u0442?\",\n          \"\\u041c\\u043e\\u0436\\u043d\\u043e \\u043b\\u0438 \\u0437\\u0430\\u043a\\u0430\\u0437\\u0430\\u0442\\u044c \\u043a\\u0430\\u0440\\u0442\\u0443 MORE \\u043e\\u043d\\u043b\\u0430\\u0439\\u043d?\",\n          \"\\u0421\\u043a\\u043e\\u043b\\u044c\\u043a\\u043e \\u0441\\u0442\\u043e\\u0438\\u0442 \\u043a\\u0430\\u0440\\u0442\\u0430 \\u041a\\u043e\\u043c\\u043f\\u043b\\u0438\\u043c\\u0435\\u043d\\u0442?\"\n        ],\n        \"semantic_type\": \"\",\n        \"description\": \"\"\n      }\n    },\n    {\n      \"column\": \"priority\",\n      \"properties\": {\n        \"dtype\": \"category\",\n        \"num_unique_values\": 2,\n        \"samples\": [\n          \"\\u0441\\u0440\\u0435\\u0434\\u043d\\u0438\\u0439\",\n          \"\\u0432\\u044b\\u0441\\u043e\\u043a\\u0438\\u0439\"\n        ],\n        \"semantic_type\": \"\",\n        \"description\": \"\"\n      }\n    },\n    {\n      \"column\": \"target_group\",\n      \"properties\": {\n        \"dtype\": \"category\",\n        \"num_unique_values\": 2,\n        \"samples\": [\n          \"\\u0432\\u0441\\u0435 \\u043a\\u043b\\u0438\\u0435\\u043d\\u0442\\u044b\",\n          \"\\u043d\\u043e\\u0432\\u044b\\u0435 \\u043a\\u043b\\u0438\\u0435\\u043d\\u0442\\u044b\"\n        ],\n        \"semantic_type\": \"\",\n        \"description\": \"\"\n      }\n    },\n    {\n      \"column\": \"answer\",\n      \"properties\": {\n        \"dtype\": \"string\",\n        \"num_unique_values\": 200,\n        \"samples\": [\n          \"\\u041e\\u043d\\u043b\\u0430\\u0439\\u043d \\u043a\\u0440\\u0435\\u0434\\u0438\\u0442 \\u043c\\u043e\\u0436\\u043d\\u043e \\u043e\\u0444\\u043e\\u0440\\u043c\\u0438\\u0442\\u044c \\u0447\\u0435\\u0440\\u0435\\u0437 \\u0441\\u0430\\u0439\\u0442 vtb.by \\u0438\\u043b\\u0438 \\u043c\\u043e\\u0431\\u0438\\u043b\\u044c\\u043d\\u043e\\u0435 \\u043f\\u0440\\u0438\\u043b\\u043e\\u0436\\u0435\\u043d\\u0438\\u0435 VTB mBank, \\u0437\\u0430\\u043f\\u043e\\u043b\\u043d\\u0438\\u0432 \\u0437\\u0430\\u044f\\u0432\\u043a\\u0443 \\u0438 \\u0437\\u0430\\u0433\\u0440\\u0443\\u0437\\u0438\\u0432 \\u043d\\u0435\\u043e\\u0431\\u0445\\u043e\\u0434\\u0438\\u043c\\u044b\\u0435 \\u0434\\u043e\\u043a\\u0443\\u043c\\u0435\\u043d\\u0442\\u044b.\",\n          \"\\u0414\\u0430, \\u043a\\u0430\\u0440\\u0442\\u0443 MORE \\u043c\\u043e\\u0436\\u043d\\u043e \\u0437\\u0430\\u043a\\u0430\\u0437\\u0430\\u0442\\u044c \\u043e\\u043d\\u043b\\u0430\\u0439\\u043d \\u0447\\u0435\\u0440\\u0435\\u0437 \\u0418\\u043d\\u0442\\u0435\\u0440\\u043d\\u0435\\u0442-\\u0431\\u0430\\u043d\\u043a \\u0438\\u043b\\u0438 \\u043c\\u043e\\u0431\\u0438\\u043b\\u044c\\u043d\\u043e\\u0435 \\u043f\\u0440\\u0438\\u043b\\u043e\\u0436\\u0435\\u043d\\u0438\\u0435 VTB mBank. \\u041f\\u043e\\u0441\\u043b\\u0435 \\u043e\\u0444\\u043e\\u0440\\u043c\\u043b\\u0435\\u043d\\u0438\\u044f \\u0437\\u0430\\u044f\\u0432\\u043a\\u0438 \\u043a\\u0430\\u0440\\u0442\\u0430 \\u0431\\u0443\\u0434\\u0435\\u0442 \\u0433\\u043e\\u0442\\u043e\\u0432\\u0430 \\u043a \\u043f\\u043e\\u043b\\u0443\\u0447\\u0435\\u043d\\u0438\\u044e \\u0432 \\u0432\\u044b\\u0431\\u0440\\u0430\\u043d\\u043d\\u043e\\u043c \\u043e\\u0442\\u0434\\u0435\\u043b\\u0435\\u043d\\u0438\\u0438 \\u0431\\u0430\\u043d\\u043a\\u0430.\"\n        ],\n        \"semantic_type\": \"\",\n        \"description\": \"\"\n      }\n    }\n  ]\n}"
            }
          },
          "metadata": {},
          "execution_count": 7
        }
      ]
    },
    {
      "cell_type": "code",
      "source": [
        "df.to_csv('hahaton.csv', index=False)"
      ],
      "metadata": {
        "id": "7acRMI5hdz0H"
      },
      "execution_count": 53,
      "outputs": []
    },
    {
      "cell_type": "code",
      "source": [
        "list(df['answer'])"
      ],
      "metadata": {
        "colab": {
          "base_uri": "https://localhost:8080/"
        },
        "collapsed": true,
        "id": "TvkqGK5hV0bG",
        "outputId": "8b1b0751-7cf6-4c59-cf1b-a3d9ecdbac46"
      },
      "execution_count": 45,
      "outputs": [
        {
          "output_type": "execute_result",
          "data": {
            "text/plain": [
              "['Стать клиентом ВТБ (Беларусь) можно онлайн через сайт vtb.by или мобильное приложение VTB mBank. Для регистрации потребуется паспорт и номер телефона. После регистрации через МСИ (Межбанковскую систему идентификации) вы получите доступ к банковским услугам.',\n",
              " 'МСИ позволяет пройти идентификацию онлайн, используя данные других банков, где вы уже являетесь клиентом. Это упрощает процедуру регистрации и делает её быстрой и безопасной.',\n",
              " 'Для регистрации в качестве нового клиента необходим паспорт гражданина Республики Беларусь и контактный номер мобильного телефона для получения SMS-подтверждений.',\n",
              " 'После регистрации вы получите логин и пароль для входа в систему Интернет-банк. При первом входе рекомендуется изменить временный пароль на постоянный и настроить дополнительные параметры безопасности.',\n",
              " 'Мобильное приложение VTB mBank можно скачать в App Store для iOS или Google Play для Android. После установки войдите с логином и паролем от Интернет-банка и пройдите первоначальную настройку.',\n",
              " 'Если не получается войти в Интернет-банк, проверьте правильность ввода логина и пароля. При забытом пароле воспользуйтесь функцией восстановления. Если проблема не решается, обратитесь в контакт-центр по номеру 250 или +375 (17/29/33) 309 15 15.',\n",
              " 'Вы можете получить онлайн-консультацию (в текстовом формате) в будние дни с 9:00 до 17:30, написав специалисту банка в Telegram либо в чат на сайте (ссылки на сайте банка).',\n",
              " 'Если Вы забыли логин или пароль доступа, доступна процедура восстановления доступа к системе ДБО со стартового экрана. Для этого требуется нажать на кнопку «Забыли логин или пароль?».',\n",
              " 'Если карта заблокирована, обратитесь в контакт-центр банка по телефону 250 для выяснения причины блокировки. В большинстве случаев карту можно разблокировать по телефону после прохождения идентификации.',\n",
              " 'Вы можете воспользоваться формой \"Обратная связь\"(https://www.vtb.by/elektronnoe-pismo) на главной странице сайта банка ВТБ. Ваше обращение будет рассмотрено руководством банка в соответствии с Законом Республики Беларусь \"Об обращениях граждан и юридических лиц\" №300-З.',\n",
              " 'В зависимости от условий Вашей карточки и способа совершения операции по карточке/ счету, погашение задолженности по договору и доступность денежных средств с использованием карточки будет обеспечена в следующее время: https://www.vtb.by/sites/default/files/sites/default/files/anketa/o_vremeni_zachisleniya_na_bpk_s_23.05.2021.pdf',\n",
              " 'Карту MORE можно оформить в любом отделении банка ВТБ (Беларусь) с паспортом или онлайн через Интернет-банк и мобильное приложение VTB mBank. Карта выдается бесплатно.',\n",
              " 'Карта MORE предоставляет возможности для повседневной жизни: бесконтактные платежи, снятие наличных в банкоматах ВТБ без комиссии, онлайн-покупки, переводы через приложение.',\n",
              " 'Пополнить карточку MORE можно бесплатно через банкоматы ВТБ с функцией Cash-In, в отделениях банка, через Интернет-банк с других карт ВТБ, переводом с карты на карту.',\n",
              " \"Лимиты устанавливаются индивидуально при оформлении карты. Стандартные лимиты можно изменить через Интернет-банк или мобильное приложение VTB mBank в разделе 'Управление лимитами'.\",\n",
              " 'Да, карту MORE можно заказать онлайн через Интернет-банк или мобильное приложение VTB mBank. После оформления заявки карта будет готова к получению в выбранном отделении банка.',\n",
              " 'Выпуск и обслуживание карты MORE бесплатны для физических лиц при соблюдении условий банка.',\n",
              " 'Карта MORE принимается во всех торговых точках, где есть терминалы для оплаты картами, в банкоматах для снятия наличных, для онлайн-покупок в интернете.',\n",
              " 'Активация происходит автоматически при проведении первой успешной операции с использованием ПИН-кода: оплата в магазине или снятие наличных в банкомате.',\n",
              " 'Карта Форсаж - это карта мгновенного выпуска. Обратитесь в любое отделение ВТБ (Беларусь) с паспортом, и карта будет выдана сразу при обращении.',\n",
              " 'Карта мгновенного выпуска - это карта, которая изготавливается и выдается клиенту непосредственно в отделении банка в течение нескольких минут после подачи заявления.',\n",
              " 'Карта Форсаж выдается в течение нескольких минут после оформления заявления в отделении банка.',\n",
              " 'Для оформления карты Форсаж необходим только паспорт гражданина Республики Беларусь.',\n",
              " 'Да, карту Форсаж можно использовать сразу после получения и активации первой операцией с ПИН-кодом.',\n",
              " 'Лимиты по карте «Форсаж» устанавливаются банком; подробные значения суточных и месячных лимитов указаны в условиях выпуска карты и в тарифах банка.',\n",
              " 'Срок действия карты Форсаж указывается на самой карте. Обычно карты выдаются на 4 года.',\n",
              " 'Карту Комплимент могут оформить граждане Республики Беларусь от 50 лет. Это специальное предложение для людей старшего возраста.',\n",
              " 'Карта Комплимент предоставляет льготные условия обслуживания, специальные тарифы и привилегии для клиентов старшего возраста.',\n",
              " 'Для оформления карты Комплимент обратитесь в отделение банка с паспортом. Карта относится к премиальному сегменту Gold.',\n",
              " 'Карта Комплимент предназначена для клиентов от 50 лет.',\n",
              " 'Информацию о стоимости обслуживания карты Комплимент уточняйте в тарифах банка или при оформлении в отделении.',\n",
              " 'Карта Комплимент включает полный комплекс банковских услуг с учетом потребностей клиентов старшего возраста и премиальное обслуживание.',\n",
              " 'Для оформления премиальной карты Signature обратитесь в отделение банка. Карта предназначена для VIP-клиентов с особыми требованиями к сервису.',\n",
              " 'Карта Signature предоставляет премиальные привилегии: приоритетное обслуживание, специальные условия, расширенные лимиты, дополнительные сервисы.',\n",
              " 'Тарифы по карте Signature указаны в прейскуранте банка. Уточняйте стоимость при оформлении.',\n",
              " 'Для оформления карты Signature могут потребоваться подтверждение доходов и соответствие критериям премиального обслуживания.',\n",
              " 'Карта Signature принимается во всем мире везде, где принимаются карты соответствующей платежной системы.',\n",
              " 'Карта Infinite - это карта высшего уровня. Для оформления обратитесь к персональному менеджеру в отделении банка.',\n",
              " 'Карта Infinite включает максимальный набор привилегий: консьерж-сервис, страхование, доступ в VIP-залы, индивидуальные условия.',\n",
              " 'Для оформления карты Infinite установлены высокие требования к доходам клиента. Подробности уточняйте при консультации.',\n",
              " 'Infinite предоставляет все доступные привилегии банка: персональный менеджер, консьерж-сервис, специальные предложения партнеров.',\n",
              " 'Карточку PLAT/ON можно оформить в интернет-банке или М-банкинге, в том числе виртуальную карточку, а также обратившись в любой офис Банка.',\n",
              " 'В бонусный период отражаются безналичные операции покупки товаров и услуг в организации торговли/сервиса, совершенные по карточке PLAT/ON, за исключением операций с MCC, указанных на сайте банка vtb.by.',\n",
              " 'Операции по бонусным периодам отражаются по дате отражения по счету. Если бонусный период был изменен после совершения операции, но до ее отражения по счету, операция отразится по вновь установленному бонусному периоду.',\n",
              " 'Переключить бонусный период можно через Интернет-банк или мобильное приложение VTB mBank в разделе управления картой PLAT/ON.',\n",
              " 'Максимальная сумма кредита по карте PLAT/ON составляет до 10 000 BYN для физической карты и до 5 000 BYN для виртуальной карты.',\n",
              " 'Да, доступна виртуальная карточка PLAT/ON Classic с кредитным лимитом до 5 000 BYN, которую можно оформить через Интернет-банк.',\n",
              " 'Обязательный платеж по карте PLAT/ON необходимо вносить до 20 числа каждого месяца.',\n",
              " 'Кредитную карту Портмоне 2.0 можно оформить в любом отделении банка. Используется карточка мгновенного выпуска.',\n",
              " 'Кредитная карта Портмоне 2.0 оформляется без справок о доходах и поручителей. Необходим только паспорт.',\n",
              " 'Кредитный лимит по карте Портмоне 2.0 устанавливается индивидуально в зависимости от платежеспособности клиента.',\n",
              " 'Карта Портмоне 2.0 выдается сразу при обращении в отделение банка, так как это карточка мгновенного выпуска.',\n",
              " 'Процентная ставка по карте Портмоне 2.0 указана в тарифах банка. Уточняйте актуальную ставку при оформлении.',\n",
              " 'Да, с кредитной карты Портмоне 2.0 можно снимать наличные в банкоматах, но за эту операцию взимается комиссия согласно тарифам.',\n",
              " 'Карта Отличник - специальное предложение для действующих кредитополучателей банка ВТБ (Беларусь).',\n",
              " 'Нет, заявка на карту Отличник рассматривается без справки о доходах для действующих клиентов банка.',\n",
              " 'На остаток собственных денежных средств на счете по карте Отличник начисляется 0,01% годовых.',\n",
              " 'Погашение можно осуществлять через Интернет-банк, мобильное приложение, банкоматы ВТБ, отделения банка, через ЕРИП.',\n",
              " 'Максимальный кредитный лимит по карте Отличник составляет 5 000 BYN на срок до 36 месяцев.',\n",
              " 'Карту ЧЕРЕПАХА можно оформить бесплатно в любом офисе банка, онлайн в интернет-банке или мобильном приложении VTB mBank.',\n",
              " 'По карте ЧЕРЕПАХА доступен кредитный лимит до 5 000 BYN с возобновляемой линией, которая действует до 3 лет.',\n",
              " 'По карте ЧЕРЕПАХА доступны: покупки в рассрочку в магазинах-партнерах, снятие наличных, переводы и покупки в точках по всему миру.',\n",
              " 'Информацию о текущей задолженности можно узнать в личном кабинете интернет-банка или в мобильном приложении VTB mBank в разделе информации по кредиту.',\n",
              " \"Карта ЧЕРЕПАХА принимается в широкой сети магазинов-партнеров. Полный список доступен на сайте cherepaha.vtb.by в разделе 'Магазины'.\",\n",
              " 'По карте ЧЕРЕПАХА доступна рассрочка до 12 месяцев в зависимости от магазина-партнера и типа товара.',\n",
              " 'Погашение можно осуществлять через интернет-банк/мобильное приложение, банкоматы, отделения банка, ЕРИП и переводами с других карт.',\n",
              " 'Да, карту ЧЕРЕПАХА можно пополнять через банкоматы с функцией Cash-In, в отделениях банка, через интернет-банк.',\n",
              " 'Карту рассрочки КСТАТИ можно оформить в отделениях банка или онлайн через интернет-банк и мобильное приложение VTB mBank.',\n",
              " 'Карта КСТАТИ предоставляет возможность покупок в рассрочку, удобное управление платежами, широкую сеть партнеров.',\n",
              " 'Лимиты по карте КСТАТИ устанавливаются индивидуально в зависимости от платежеспособности клиента.',\n",
              " 'Карта КСТАТИ принимается в магазинах-партнерах банка, где доступна рассрочка, а также для обычных покупок.',\n",
              " 'Рассрочка по карте КСТАТИ предоставляется на различные сроки в зависимости от магазина и товара.',\n",
              " 'Баланс и информацию по карте КСТАТИ можно узнать через интернет-банк, мобильное приложение или по телефону контакт-центра.',\n",
              " 'Да, карту КСТАТИ можно заказать онлайн через интернет-банк или мобильное приложение VTB mBank.',\n",
              " \"Для оформления кредита 'На всё про всё' обратитесь в любое отделение банка с паспортом. Кредит выдается на любые цели до 70 000 BYN на срок до 7 лет.\",\n",
              " \"Максимальная сумма потребительского кредита 'На всё про всё' составляет 70 000 белорусских рублей.\",\n",
              " 'Требования по документам зависят от суммы кредита. Для небольших сумм возможно оформление без справки о доходах.',\n",
              " \"Кредит 'На всё про всё' выдается на срок до 7 лет (84 месяца) в зависимости от суммы и платежеспособности.\",\n",
              " 'Для оформления кредита необходим паспорт, при необходимости - справка о доходах и документы, подтверждающие цель кредита.',\n",
              " 'Да, досрочное погашение кредита возможно полностью или частично без штрафов и комиссий.',\n",
              " \"Кредит 'Дальше - меньше' предоставляется с процентной ставкой, которая ежегодно снижается, делая кредит более выгодным с течением времени.\",\n",
              " 'Первый год вы платите по стандартной ставке, затем каждый год ставка автоматически снижается на установленный процент.',\n",
              " 'Размер ежегодного снижения ставки уточняйте при оформлении кредита, так как он зависит от условий программы.',\n",
              " \"Первоначальная процентная ставка по кредиту 'Дальше - меньше' устанавливается в соответствии с действующими тарифами банка.\",\n",
              " 'Заявку на кредит можно подать онлайн через сайт банка, но для окончательного оформления потребуется визит в отделение.',\n",
              " 'Льготные месяцы - это период в начале кредита, когда вы платите по сниженной ставке и можете не погашать основной долг.',\n",
              " 'Первые 4 месяца вы платите по сниженной ставке без погашения основного долга, что делает первоначальные платежи минимальными.',\n",
              " \"Льготный период по кредиту 'Легко платить' составляет 4 месяца.\",\n",
              " 'После окончания льготного периода действует стандартная процентная ставка согласно тарифам банка.',\n",
              " \"Кредит 'Всё только начинается' предназначен для клиентов старше 50 лет и предоставляет особые льготные условия.\",\n",
              " 'Кредит предназначен для граждан, которым исполнилось 50 лет и старше.',\n",
              " 'Для пенсионеров предусмотрены льготные процентные ставки и упрощенные требования по документам.',\n",
              " 'Максимальная сумма кредита для клиентов 50+ определяется индивидуально с учетом платежеспособности.',\n",
              " \"Сумма кредита 'Старт' определяется индивидуально в зависимости от доходов и платежеспособности клиента.\",\n",
              " \"Кредит 'Старт' доступен всем работающим гражданам Республики Беларусь при соответствии требованиям банка.\",\n",
              " 'Онлайн кредит можно оформить через сайт vtb.by или мобильное приложение VTB mBank, заполнив заявку и загрузив необходимые документы.',\n",
              " \"При оформлении онлайн кредита 'Проще в онлайн' посещение банка не требуется - все процедуры проводятся дистанционно.\",\n",
              " 'Решение по онлайн кредиту принимается в максимально короткие сроки, часто в течение нескольких часов.',\n",
              " 'Для онлайн кредита необходимо загрузить скан паспорта и, при необходимости, справку о доходах.',\n",
              " 'Автокредит без залога выдается на покупку новых и подержанных автомобилей в автосалонах-партнерах банка.',\n",
              " 'Максимальная сумма автокредита без залога составляет до 70 000 BYN на срок до 10 лет.',\n",
              " 'Требования по страхованию КАСКО уточняйте при оформлении автокредита, так как они могут различаться в зависимости от суммы и срока.',\n",
              " 'Да, автокредит без залога доступен как для новых, так и для подержанных автомобилей определенного возраста.',\n",
              " \"Условия кредитования зависят от продукта; вы можете найти ставки, сроки и требования в разделе 'Кредиты' на сайте ВТБ (Беларусь).\",\n",
              " 'Экспресс-кредит одобряется в течение нескольких минут прямо в магазине при наличии необходимых документов.',\n",
              " 'Для оформления экспресс-кредита в магазине достаточно паспорта и, при необходимости, справки о доходах.',\n",
              " \"Экспресс-кредит 'На ро́днае' предоставляет льготные условия для покупки товаров, произведенных в Республике Беларусь.\",\n",
              " \"Кредит 'На ро́днае' действует на товары белорусского производства в магазинах-партнерах банка.\",\n",
              " \"Льготная процентная ставка по кредиту 'На ро́днае' устанавливается согласно специальным условиям программы.\",\n",
              " \"Вклад 'Мои условия' можно открыть в любом отделении банка или онлайн через Интернет-банк. Доступны отзывная и безотзывная версии.\",\n",
              " \"Процентные ставки по вкладам регулярно обновляются. Актуальные ставки размещены на сайте vtb.by в разделе 'Вклады'.\",\n",
              " 'Отзывный вклад можно закрыть досрочно без потери процентов. Безотзывный вклад закрывается досрочно с пересчетом процентов.',\n",
              " 'Условия пополнения зависят от типа вклада. Подробности уточняйте при оформлении договора.',\n",
              " 'Минимальная сумма для открытия вклада указана в условиях по каждому продукту на сайте банка.',\n",
              " \"Онлайн вклад 'Мои условия онлайн' можно открыть через Интернет-банк или мобильное приложение VTB mBank без посещения отделения.\",\n",
              " 'Онлайн вклад предлагает повышенные процентные ставки по сравнению с аналогичными продуктами, оформляемыми в отделении.',\n",
              " 'Да, всеми онлайн вкладами можно управлять через мобильное приложение VTB mBank и Интернет-банк.',\n",
              " 'При закрытии онлайн вклада средства зачисляются на ваш текущий счет, с которого можно получить наличные в любом отделении банка.',\n",
              " \"Вклад 'Великий путь' - это безотзывный депозит с особыми условиями доходности и сроками размещения.\",\n",
              " \"Подробные условия по вкладу 'Великий путь' уточняйте на сайте банка в разделе вкладов или в отделениях.\",\n",
              " 'Доходность условного вклада устанавливается согласно тарифам банка с учетом особых условий продукта.',\n",
              " \"Вклад 'СуперСемь' размещается на 7 дней с возможностью автоматической пролонгации.\",\n",
              " \"Процентная ставка по вкладу 'СуперСемь' указана в действующих тарифах на сайте банка.\",\n",
              " \"Да, доступна онлайн версия вклада 'СуперСемь-онлайн' через Интернет-банк.\",\n",
              " \"Условный вклад 'Подушка безопасности' позволяет изымать средства при наступлении определенных жизненных обстоятельств без потери процентов.\",\n",
              " \"Условия досрочного изъятия без штрафов указаны в договоре вклада 'Подушка безопасности'.\",\n",
              " 'Доходность условного вклада устанавливается согласно тарифам банка с учетом особых условий продукта.',\n",
              " 'Процентные ставки по валютным вкладам в USD регулярно обновляются в соответствии с рыночной ситуацией.',\n",
              " 'Минимальная сумма для открытия долларового вклада указана в условиях по валютным депозитам на сайте банка.',\n",
              " 'Возможность пополнения валютных вкладов зависит от условий конкретного продукта.',\n",
              " 'Да, банк ВТБ (Беларусь) принимает вклады в евро на различные сроки.',\n",
              " 'Вклады в евро доступны; ставки и условия зависят от выбранного продукта и указаны на странице валютных вкладов.',\n",
              " 'Доходность по евровым вкладам устанавливается согласно действующим тарифам банка.',\n",
              " 'Да, банк принимает вклады в российских рублях на различные сроки и условия.',\n",
              " 'Процентные ставки по рублевым вкладам указаны в тарифах банка на сайте vtb.by.',\n",
              " 'Ограничения по рублевым вкладам уточняйте при оформлении, так как они могут зависеть от валютного законодательства.',\n",
              " 'Да, банк ВТБ (Беларусь) принимает вклады в китайских юанях (CNY).',\n",
              " 'Вклады в китайских юанях (CNY) доступны; условия (ставки, сроки) публикуются на странице соответствующих валютных вкладов.',\n",
              " 'Доходность по вкладам в китайских юанях устанавливается согласно тарифам банка и рыночной ситуации.',\n",
              " 'Принятие решения о выдаче кредита происходит на основании анализа данных о клиенте, в том числе расчета его платежеспособности. \\n\\nПо кредитам на потребительские нужды показатель долговой нагрузки (ПДН) – отношение размера ежемесячного платежа по операциям кредитного характера к размеру среднемесячного дохода. Данный показатель не должен превышать 40%.\\n\\nТаким образом, банк может отказать в выдаче кредита, если ежемесячная плата по операциям кредитного характера слишком высокая.',\n",
              " 'Получить информацию о закрытии кредитного договора можно:\\n- в интернет-банке / мобильном приложении VTB Online;\\n- в офисе банка (при себе иметь паспорт) и по звонку по контактным телефонам.',\n",
              " 'Да, оформление заявки на кредит возможно онлайн либо в офисе банка на сумму, не превышающую 10 000 BYN.\\nСамозанятые, уплачивающие единый налог, и ремесленники предоставляют выписку из данных учёта налоговых органов об исчисленных и уплаченных суммах налогов, сборов (пошлин), пеней. \\nСамозанятые, уплачивающие налог на профессиональный доход, предоставляют информацию (чеки), подтверждающую уплату налога, сформированную в приложении «Налог на профессиональный доход». \\nДокумент (информация), подтверждающий уплату налогов должен содержать сведения за период не менее последних 3 месяцев.',\n",
              " 'Предоставление справки о доходах не обязательно.\\nНо, если ваши доходы выше, чем средняя заработная плата по отрасли трудоустройства, то при предоставлении справки о доходах вероятность получить кредит выше. Бланк справки о доходах.',\n",
              " 'В данном случае необходимо оформить процедуру частичного досрочного погашения. Это можно сделать одним из следующих способов:\\n\\n- в интернет-банке / мобильном приложении VTB Online;\\n- в офисе банка (при себе иметь паспорт).\\n\\nПодробнее с информацией о порядке и способах погашения потребительского кредита (в том числе частичного и полного) можно ознакомиться в памятке.',\n",
              " 'Банк ВТБ (Беларусь) предлагает онлайн-оформление потребительского кредита, универсальной карточки рассрочки Черепаха, кредитной карты Портмоне 2.0 или PLAT/ON. Доступная сумма кредитного лимита будет рассчитываться исходя из дохода и действующих кредитов/рассрочек. Окончательное решение принимается после оформления заявки в интернет-банке / мобильном приложении VTB Online.',\n",
              " 'К сожалению, нет. По условиям кредитных программ, заявитель не должен находиться в социальном отпуске по уходу за ребенком до достижения им возраста 3-х лет.',\n",
              " 'Да, оформление заявки на кредит возможно на сумму, не превышающую 15 000 BYN.',\n",
              " 'Да, оформление заявки на кредит возможно.\\nДоступная сумма кредита будет рассчитываться исходя из дохода индивидуального предпринимателя и действующих кредитов, рассрочек.',\n",
              " 'Банк ВТБ (Беларусь) предлагает оформление кредита наличными или на карту, при этом возраст заявителя по ряду кредитных программ должен быть не более 75 лет на момент окончания кредитования.',\n",
              " 'Максимальная сумма беззалогового кредитного продукта – 200 000 белорусских рублей.',\n",
              " 'На момент подачи заявки на кредитный продукт возраст индивидуального предпринимателя должен быть от 25 лет и до 64 лет (включительно).\\n\\n',\n",
              " 'ВТБ (Беларусь) предоставляет кредиты в белорусских рублях (BYN), российских рублях (RUB), долларах США (USD), евро (EUR) и китайских юанях (CNY).',\n",
              " 'Да, такая возможность предусмотрена для клиентов малого бизнеса (ИП и организаций), подключенных к системе Интернет-Банк.',\n",
              " 'Да, возможно. Для клиентов малого бизнеса, срок деятельности которых от 6 до 12 месяцев (исчисляется с даты государственной регистрации до дня обращения в банк), банк предлагает кредитные продукты под обеспечение в виде залога (гарантийного депозита денег, поручительство государственных фондов) в размере не менее 50% от суммы кредитного продукта. ',\n",
              " 'Погашение кредитов и пополнение счетов можно произвести через систему ЕРИП (выберите услугу банка ВТБ (Беларусь) и введите номер договора).',\n",
              " \"USSD-сервисы доступны: формат запроса для информации о платеже по кредиту — *130*7*<номер_договора>#. Полный перечень USSD-служб указан в разделе 'USSD-сервисы'.\",\n",
              " 'Для актуализации паспортных данных Вам необходимо обратиться в любой офис банка ВТБ с паспортом и свидетельством о браке. Адреса и режим работы офисов указаны на сайте банка https://www.vtb.by/regionalnaya-set.\\n\\nДля актуализации контактных данных Вам необходимо обратиться в любой офис банка ВТБ с паспортом.',\n",
              " 'Информация о минимальной обязательной сумме ежемесячного платежа:\\n\\n- доступна в интернет-банке / мобильном приложении VTB Online;\\n- доступна посредством запроса «USSD-предстоящий платеж по кредиту» (для абонентов А1 и МТС) следующего формата: *130*7*ХХХХХХХХХ#вызов, где ХХХХХХХХХ – платежный номер по кредиту. Запрос должен быть выполнен кредитополучателем с мобильного телефона, предоставленного в банк вместе с иными клиентскими данными (первоначально в заявлении-анкете);\\n- доступна к получению в офисе банка (при себе иметь паспорт) и по звонку по контактным телефонам.\\n\\nПодробнее с информацией о порядке и способах погашения потребительского кредита (в том числе частичного и полного) можно ознакомиться в памятке.',\n",
              " 'Предоставление кредита (зачисление на текущий (расчетный) банковский счет либо перечисление денежных средств по указанным клиентом реквизитам) осуществляется бесплатно.',\n",
              " 'Согласие на предоставление кредитного отчета может быть отозвано кредитополучателем в порядке, определяемом Национальным банком Республики Беларусь, за исключением случаев наличия действующей кредитной сделки между банком и кредитополучателем.',\n",
              " 'При оформлении потребительского кредита клиенту предлагается заключить два вида договоров: кредитный договор и договор текущего (расчетного) банковского счета. \\nТекущий (расчетный) банковский счет используется не только для зачисления кредитных денежных средств, но и для погашения кредита: ежемесячно клиенту необходимо вносить на данный счет сумму средств, достаточную для уплаты ежемесячного платежа по кредиту. \\nОткрытие текущего (расчетного) банковского счета в рамках кредитных программ банка осуществляется бесплатно.',\n",
              " 'Информация о минимальной обязательной сумме ежемесячного платежа:\\n- доступна в интернет-банке / мобильном приложении VTB Online;\\n- доступна посредством запроса «USSD-предстоящий платеж по кредитной карточке» (для абонентов А1 и МТС) следующего формата: *130*7*ХХХХХХХХХ#вызов, где ХХХХХХХХХ – платежный номер по кредитной карточке. Запрос должен быть выполнен кредитополучателем с мобильного телефона, предоставленного в банк вместе с иными клиентскими данными (первоначально в заявлении-анкете);\\n- доступна к получению в офисе банка (при себе иметь паспорт) и по звонку по контактным телефонам.',\n",
              " '1. Через участников системы АИС \"Расчет\" (маршрут в ЕРИП: Банковские, финансовые услуги - Банки НКФО - Банк ВТБ (Беларусь) - Пополнение карточек и Е+PAY). 2. Переводом с другой карточки банка ВТБ (Беларусь), с другой карточки банков-резидентов Республики Беларусь и с карточек платежной стсемы \"Мир\" из иных стран. 3. В отделениях банка ВТБ (Беларусь).',\n",
              " 'При обращении в офис Банка ВТБ (Беларусь), выдается карта мгновенного выпуска, сразу при обращении клиента. При заказе  в интернет-банке / мобильном приложении VTB Online  карточка изготавливается именная (срок изготовления и доставки от 3-х дней). Также в интернет-банке / мобильном приложении VTB Online  можно выпустить виртуальную  карточку  «Мир»  в  BYN ,  например карточку MORE (оформление  и выпуск займет не более 5 минут).',\n",
              " 'При заказе карты в интернет-банке (включая мобильное приложение VTB Online), можно выбрать способ получения карточки (в офисе банка или доставка почтой). Доставка осуществляется только по территории Республики Беларусь.',\n",
              " 'Оформление карточки возможно начиная с 14 лет, при наличии документа, удостоверяющего личность.\\n\\nВАЖНО. В случае оформления карточки лицом, не достигшим восемнадцатилетнего возраста, необходимо согласие законного представителя.',\n",
              " 'Необходимо совершить первую успешную операцию с вводом ПИН-кода, например совершить запрос баланса в  банкомате любого банка (один запрос в месяц бесплатный).',\n",
              " 'Не обязательно — многие карты можно заказать онлайн через интернет-банк или мобильное приложение; получение пластика может потребовать посещения отделения или курьерскую доставку.',\n",
              " 'Банк предлагает оформление карточек платежной системы «Мир» и Белкарт, которыми можно рассчитываться на интернет-ресурсах, принимающих карточки «Мир», в том числе OZON, E-dostavka, Wildberries и других торговых площадках с  размещенным логотипом «Мир» и/или Белкарт.',\n",
              " 'Через участников системы АИС «Расчёт» (ЕРИП), в том числе отделения РУП «Белпочта».\\nБанковским переводом внутри страны, в том числе от организаций без заключения договора на зарплатное обслуживание. Переводом с другой карточки банка ВТБ (Беларусь) и с карточек ПС «Мир» из иных стран. В отделениях банка ВТБ (Беларусь).',\n",
              " 'В приложение Mir Pay можно добавить любую карточку «Мир» ЗАО Банк ВТБ (Беларусь).',\n",
              " 'Данный сервис абсолютно бесплатный для всех клиентов — вам нужна только активная карта «Мир» ЗАО Банк ВТБ (Беларусь). При оплате покупок дополнительная комиссия также не взимается.',\n",
              " 'Mir Pay поддерживается только смартфонами на базе OC Android. Обязательными условиями являются поддержка технологии NFC и предустановленная версия ОС Android не ниже 7.0.',\n",
              " 'Можете ознакомиться с рекомендациями по данной ссылке.\\nhttps://www.nbrb.by/today/FinLiteracy/Consumer/recomend_card.pdf',\n",
              " 'При утрате карточки банка «ВТБ (Беларусь)» рекомендуется незамедлительно заблокировать её любым доступным способом:\\n- через интернет-банк или М-банкинг;\\n- с помощью услуги «USSD-блокировка» (нужно отправить с номера мобильного телефона, предоставленного ранее в банк, USSD-команду 13021XXXX# вызов, где XXXX — последние четыре цифры номера карточки);\\nпо телефонам: +375 17 309 15 15, +375 29 309 15 15, +375 33 309 15 15.',\n",
              " 'Вы можете осуществить смену ПИН-кода карточки бесплатно в сервисе Интернет-банк/ М-банкинг. Необходимо в разделе \"Карточки\" выбрать карточку и перейти по ссылке \"Смена ПИН-кода\".\\n\\nТакже можно сменить ПИН-код, позвонив в банк по телефону: +375 (17/ 29/ 33) 3091515, в данном случае плата за смену ПИН-кода составит 3 рубля/ 2 доллара США либо евро/ 100 российских рублей.',\n",
              " 'Отключить услугу SMS- информирование можно в сервисе \"Интернет-банк\"/\"М-банкинг\". Для этого необходимо в разделе \"Карточки\" выбрать карту, затем вкладку \"Сервисы\" и перейти по ссылке \"SMS-информирование\", в данном случае услуга бесплатная.',\n",
              " 'Снять наличные средства можно в белорусских рублях в банкоматах ЗАО Банк ВТБ (Беларусь) по карточкам платежной системы МИР. Комиссия со стороны ЗАО Банк ВТБ (Беларусь) за снятие наличных не взимается, при этом установлен лимит по снятию наличных по одной карточке в размере до 50 (пятидесяти) базовых величин Республики Беларусь в месяц. Рекомендуем Вам также уточнить тарифы и ограничения, установленные банком-эмитентом Вашей карточки.',\n",
              " 'Пополнить карточку, эмитированную ЗАО Банк ВТБ (Беларусь), можно следующими способами:\\n\\n1) Посредством перевода с карты на карту. Комиссию за зачисление на счет Банк ВТБ (Беларусь) не взимает;\\n\\n2) Оформить банковский перевод из банка-нерезидента. За зачисление денежных средств со счетов, открытых в иных банках, на Ваш счет, Банком ВТБ (Беларусь) взимается плата согласно Сборнику плат (Раздел 8, пункт 8.1.7.).',\n",
              " 'При обращении в офис Банка ВТБ (Беларусь), выдается карта мгновенного выпуска, сразу при обращении клиента.\\n\\nПри заказе  в интернет-банке / мобильном приложении VTB Online  карточка изготавливается именная (срок изготовления и доставки от 3-х дней).\\n\\nТакже в интернет-банке / мобильном приложении VTB Online  можно выпустить виртуальную  карточку  «Мир»  в  BYN ,  например карточку MORE (оформление  и выпуск займет не более 5 минут).',\n",
              " 'Банк ВТБ (Беларусь) предлагает своим клиентам открытие безотзывных вкладов \"Мои условия онлайн\" и \"СуперСемь-онлайн\" в интернет-банке / мобильном приложении VTB Online. Для этого необходимо иметь текущий счет либо счет с карточкой, открытый в нашем банке. Валюта данного счета и валюта вклада должны совпадать.',\n",
              " 'При наличии открытого текущего (расчетного) счета в ВТБ (Беларусь) вы можете открыть депозитный счет прямо в Интернет-банке. Посещать офис банка для этого не нужно.',\n",
              " 'С регламентом размещения депозитов вы можете ознакомиться по ссылке: https://www.vtb.by/korporativnym-klientam/raschetno-kassovoe-obsluzhivanie-dlya-korporativnyh-klientov',\n",
              " 'Да, возможно. Сумма денежных средств, перечисленных сверх суммы первоначального взноса, указанной в депозитном договоре, является дополнительным взносом в депозит. Он будет размещен в рамках условий депозитного договора.',\n",
              " 'Да, возможно. В Интернет-банке и приложении VTB Business вы можете оформить отзывный или безотзывный депозит онлайн. Разместить денежные средства можно в белорусских или российских рублях, а также китайских юанях.\\n\\n',\n",
              " 'Да, возможно. Вы можете воспользоваться опцией размещения депозита в Интернет-банке с выбором варианта перечисления первоначального взноса из другого банка.\\n\\n\\n',\n",
              " 'Оплата подоходного налога процентных доходов, полученных по банковским вкладам зависит от фактического срока хранения денежных средств на счете вклада (депозита). Подлежат налогообложению процентные доходы по тем денежным средствам, фактический срок размещения которых на счете банковского вклада (депозита) составляет менее одного года в белорусских рублях, а в иностранных валютах менее двух лет. ',\n",
              " 'Банк является налоговым агентом, поэтому проценты по вкладу начисляются клиенту уже за вычетом подоходного налога.',\n",
              " 'Получить наличные денежные средства возможно в любом офисе банка. Для Вашего удобства необходимо в интернет-банке / мобильном приложении VTB Online осуществить дистанционный заказ денежной наличности. Заказ наличности в интернет-банке / мобильном приложении VTB mBank доступен по онлайн-вкладам не ранее чем за 15 дней до срока окончания вклада. Необходимо в личном кабинете выбрать Вклад далее пункт «Заказать денежную наличность» - ввести сумму для заказа и выбрать офис (ДО или РД) – подтвердить действия сеансовым паролем. В дальнейшем с Вами свяжется специалист офиса по номеру, имеющемуся в банке. ',\n",
              " 'Нерезидент Республики Беларусь может открыть вкладной счет в ЗАО Банк ВТБ (Беларусь) и разместить безотзывный и отзывный вклад на предлагаемые сроки. Необходимо лично обратиться в любое отделение банка с паспортом. Также можно дистанционно открыть онлайн-депозит в интернет-банке / мобильном приложении VTB Online, при этом необходимо иметь текущий счет либо счет с карточкой, открытый в Банке ВТБ (Беларусь). Валюта данного счета и валюта вклада должны совпадать.',\n",
              " 'Закрытие вкладного счета в дату окончания вклада банк осуществляет без предоставления вкладчиком дополнительных платежных инструкций. Оформить заявление на досрочное закрытие отзывного вклада возможно в любом офисе банка на всей территории Республики Беларусь. При себе Вам необходимо иметь паспорт. Это касается также и операций пополнения либо снятия денежных средств со счета в офисе банка.',\n",
              " 'Дату окончания вклада можно узнать в личном кабинете в интернет-банке / мобильном приложении VTB Online в разделе Депозиты. Также информация по вкладному счету может быть предоставлена вкладчику (доверенному лицу) при личном обращении в офис банка ВТБ (Беларусь).',\n",
              " 'В банковском кодексе прописан ряд существенных условий, которые должны быть отражены в обязательном порядке в договоре банковского вклада. Это фамилия, имя, отчество вкладчика; валюта вклада и сумма первоначального взноса; размер процентной ставки; срок возврата вклада и некоторые другие.',\n",
              " 'Государство гарантирует сохранность денежных средств, размещенных на счетах и (или) в банковские вклады (депозиты) в банках Республики Беларусь для физических лиц, в том числе выступавших в качестве индивидуальных предпринимателей, в соответствии с:\\nЗаконом Республики Беларусь от 8 июля 2008 г. № 369-З “О гарантированном возмещении банковских вкладов (депозитов) физических лиц” (в ред. Закона Республики Беларусь от 11.11.2021 г. № 128-З)\\nДекретом Президента Республики Беларусь от 4 ноября 2008 г. № 22 “О гарантиях сохранности денежных средств физических лиц, размещенных на счетах и (или) в банковские вклады (депозиты)” (в ред. Декрета Президента Республики Беларусь от 31.01.2022 г. № 1)',\n",
              " 'Это дополнительное условие по вкладу связанное с присоединением суммы начисленных процентов (как правило,1 раз в месяц) к сумме договора. В результате в следующем месяце при расчете суммы процентов будет использоваться большая расчетная сумма (сумма вклада+ сумма % за предыдущий месяц), что позволяет в итоге получать больший размер дохода по вкладу',\n",
              " 'Новые системы Мобильного и Интернет-банка базируются на разных базах зарегистрированных клиентов. Вам потребуется пройти процедуру регистрации в системе при первом использовании системы.',\n",
              " 'Перед началом использования системы требуется пройти процедуру регистрации. Это требование распространяется на всех Клиентов Банка, вне зависимости от того, использовали они старые системы Мобильного и Интернет-банка ранее или нет.',\n",
              " 'Нет, Клиент может, используя одну комбинацию логина и пароля, получить доступ к Мобильной и Интернет версии новой системы.',\n",
              " 'Платежи сервиса E-POS доступны только на территории Республики Беларусь.',\n",
              " 'В личном кабинете E-POS реализован сервис формирования и отправки отчетов на e-mail за любой период, который укажет клиент.',\n",
              " 'Специальное оборудование и разработка программного обеспечения не требуются. Достаточно иметь устройство с выходом в интернет (компьютер, ноутбук, планшет).']"
            ]
          },
          "metadata": {},
          "execution_count": 45
        }
      ]
    },
    {
      "cell_type": "code",
      "source": [
        "df.info()"
      ],
      "metadata": {
        "colab": {
          "base_uri": "https://localhost:8080/"
        },
        "id": "OBNPgcz2C3dn",
        "outputId": "cb35be1d-d70e-4dd9-fd7f-ee84aeb191fc"
      },
      "execution_count": 16,
      "outputs": [
        {
          "output_type": "stream",
          "name": "stdout",
          "text": [
            "<class 'pandas.core.frame.DataFrame'>\n",
            "Index: 201 entries, 0 to 200\n",
            "Data columns (total 6 columns):\n",
            " #   Column        Non-Null Count  Dtype \n",
            "---  ------        --------------  ----- \n",
            " 0   category      201 non-null    object\n",
            " 1   subcategory   201 non-null    object\n",
            " 2   question      201 non-null    object\n",
            " 3   priority      201 non-null    object\n",
            " 4   target_group  201 non-null    object\n",
            " 5   answer        201 non-null    object\n",
            "dtypes: object(6)\n",
            "memory usage: 11.0+ KB\n"
          ]
        }
      ]
    },
    {
      "cell_type": "code",
      "source": [
        "df['category'].value_counts()"
      ],
      "metadata": {
        "colab": {
          "base_uri": "https://localhost:8080/",
          "height": 300
        },
        "id": "QQPDp5sbEftr",
        "outputId": "595408a7-c112-4e01-f484-926be3f8528d"
      },
      "execution_count": 17,
      "outputs": [
        {
          "output_type": "execute_result",
          "data": {
            "text/plain": [
              "category\n",
              "Продукты - Карты         63\n",
              "Частные клиенты          62\n",
              "Продукты - Кредиты       35\n",
              "Продукты - Вклады        30\n",
              "Техническая поддержка     6\n",
              "Новые клиенты             5\n",
              "Name: count, dtype: int64"
            ],
            "text/html": [
              "<div>\n",
              "<style scoped>\n",
              "    .dataframe tbody tr th:only-of-type {\n",
              "        vertical-align: middle;\n",
              "    }\n",
              "\n",
              "    .dataframe tbody tr th {\n",
              "        vertical-align: top;\n",
              "    }\n",
              "\n",
              "    .dataframe thead th {\n",
              "        text-align: right;\n",
              "    }\n",
              "</style>\n",
              "<table border=\"1\" class=\"dataframe\">\n",
              "  <thead>\n",
              "    <tr style=\"text-align: right;\">\n",
              "      <th></th>\n",
              "      <th>count</th>\n",
              "    </tr>\n",
              "    <tr>\n",
              "      <th>category</th>\n",
              "      <th></th>\n",
              "    </tr>\n",
              "  </thead>\n",
              "  <tbody>\n",
              "    <tr>\n",
              "      <th>Продукты - Карты</th>\n",
              "      <td>63</td>\n",
              "    </tr>\n",
              "    <tr>\n",
              "      <th>Частные клиенты</th>\n",
              "      <td>62</td>\n",
              "    </tr>\n",
              "    <tr>\n",
              "      <th>Продукты - Кредиты</th>\n",
              "      <td>35</td>\n",
              "    </tr>\n",
              "    <tr>\n",
              "      <th>Продукты - Вклады</th>\n",
              "      <td>30</td>\n",
              "    </tr>\n",
              "    <tr>\n",
              "      <th>Техническая поддержка</th>\n",
              "      <td>6</td>\n",
              "    </tr>\n",
              "    <tr>\n",
              "      <th>Новые клиенты</th>\n",
              "      <td>5</td>\n",
              "    </tr>\n",
              "  </tbody>\n",
              "</table>\n",
              "</div><br><label><b>dtype:</b> int64</label>"
            ]
          },
          "metadata": {},
          "execution_count": 17
        }
      ]
    },
    {
      "cell_type": "code",
      "source": [
        "df[df['question'] == 'Кто может оформить этот кредит?']"
      ],
      "metadata": {
        "colab": {
          "base_uri": "https://localhost:8080/",
          "height": 174
        },
        "id": "XYnJTjv4xrAc",
        "outputId": "d9641a6f-4de9-48bc-bd9e-5cd037d2f3e4"
      },
      "execution_count": 9,
      "outputs": [
        {
          "output_type": "execute_result",
          "data": {
            "text/plain": [
              "              category                              subcategory  \\\n",
              "89  Продукты - Кредиты  Потребительские - Всё только начинается   \n",
              "\n",
              "                           question priority   target_group  \\\n",
              "89  Кто может оформить этот кредит?  высокий  новые клиенты   \n",
              "\n",
              "                                               answer  \n",
              "89  Кредит 'Всё только начинается' предназначен дл...  "
            ],
            "text/html": [
              "\n",
              "  <div id=\"df-df890841-9b74-403c-861d-d8564eb30520\" class=\"colab-df-container\">\n",
              "    <div>\n",
              "<style scoped>\n",
              "    .dataframe tbody tr th:only-of-type {\n",
              "        vertical-align: middle;\n",
              "    }\n",
              "\n",
              "    .dataframe tbody tr th {\n",
              "        vertical-align: top;\n",
              "    }\n",
              "\n",
              "    .dataframe thead th {\n",
              "        text-align: right;\n",
              "    }\n",
              "</style>\n",
              "<table border=\"1\" class=\"dataframe\">\n",
              "  <thead>\n",
              "    <tr style=\"text-align: right;\">\n",
              "      <th></th>\n",
              "      <th>category</th>\n",
              "      <th>subcategory</th>\n",
              "      <th>question</th>\n",
              "      <th>priority</th>\n",
              "      <th>target_group</th>\n",
              "      <th>answer</th>\n",
              "    </tr>\n",
              "  </thead>\n",
              "  <tbody>\n",
              "    <tr>\n",
              "      <th>89</th>\n",
              "      <td>Продукты - Кредиты</td>\n",
              "      <td>Потребительские - Всё только начинается</td>\n",
              "      <td>Кто может оформить этот кредит?</td>\n",
              "      <td>высокий</td>\n",
              "      <td>новые клиенты</td>\n",
              "      <td>Кредит 'Всё только начинается' предназначен дл...</td>\n",
              "    </tr>\n",
              "  </tbody>\n",
              "</table>\n",
              "</div>\n",
              "    <div class=\"colab-df-buttons\">\n",
              "\n",
              "  <div class=\"colab-df-container\">\n",
              "    <button class=\"colab-df-convert\" onclick=\"convertToInteractive('df-df890841-9b74-403c-861d-d8564eb30520')\"\n",
              "            title=\"Convert this dataframe to an interactive table.\"\n",
              "            style=\"display:none;\">\n",
              "\n",
              "  <svg xmlns=\"http://www.w3.org/2000/svg\" height=\"24px\" viewBox=\"0 -960 960 960\">\n",
              "    <path d=\"M120-120v-720h720v720H120Zm60-500h600v-160H180v160Zm220 220h160v-160H400v160Zm0 220h160v-160H400v160ZM180-400h160v-160H180v160Zm440 0h160v-160H620v160ZM180-180h160v-160H180v160Zm440 0h160v-160H620v160Z\"/>\n",
              "  </svg>\n",
              "    </button>\n",
              "\n",
              "  <style>\n",
              "    .colab-df-container {\n",
              "      display:flex;\n",
              "      gap: 12px;\n",
              "    }\n",
              "\n",
              "    .colab-df-convert {\n",
              "      background-color: #E8F0FE;\n",
              "      border: none;\n",
              "      border-radius: 50%;\n",
              "      cursor: pointer;\n",
              "      display: none;\n",
              "      fill: #1967D2;\n",
              "      height: 32px;\n",
              "      padding: 0 0 0 0;\n",
              "      width: 32px;\n",
              "    }\n",
              "\n",
              "    .colab-df-convert:hover {\n",
              "      background-color: #E2EBFA;\n",
              "      box-shadow: 0px 1px 2px rgba(60, 64, 67, 0.3), 0px 1px 3px 1px rgba(60, 64, 67, 0.15);\n",
              "      fill: #174EA6;\n",
              "    }\n",
              "\n",
              "    .colab-df-buttons div {\n",
              "      margin-bottom: 4px;\n",
              "    }\n",
              "\n",
              "    [theme=dark] .colab-df-convert {\n",
              "      background-color: #3B4455;\n",
              "      fill: #D2E3FC;\n",
              "    }\n",
              "\n",
              "    [theme=dark] .colab-df-convert:hover {\n",
              "      background-color: #434B5C;\n",
              "      box-shadow: 0px 1px 3px 1px rgba(0, 0, 0, 0.15);\n",
              "      filter: drop-shadow(0px 1px 2px rgba(0, 0, 0, 0.3));\n",
              "      fill: #FFFFFF;\n",
              "    }\n",
              "  </style>\n",
              "\n",
              "    <script>\n",
              "      const buttonEl =\n",
              "        document.querySelector('#df-df890841-9b74-403c-861d-d8564eb30520 button.colab-df-convert');\n",
              "      buttonEl.style.display =\n",
              "        google.colab.kernel.accessAllowed ? 'block' : 'none';\n",
              "\n",
              "      async function convertToInteractive(key) {\n",
              "        const element = document.querySelector('#df-df890841-9b74-403c-861d-d8564eb30520');\n",
              "        const dataTable =\n",
              "          await google.colab.kernel.invokeFunction('convertToInteractive',\n",
              "                                                    [key], {});\n",
              "        if (!dataTable) return;\n",
              "\n",
              "        const docLinkHtml = 'Like what you see? Visit the ' +\n",
              "          '<a target=\"_blank\" href=https://colab.research.google.com/notebooks/data_table.ipynb>data table notebook</a>'\n",
              "          + ' to learn more about interactive tables.';\n",
              "        element.innerHTML = '';\n",
              "        dataTable['output_type'] = 'display_data';\n",
              "        await google.colab.output.renderOutput(dataTable, element);\n",
              "        const docLink = document.createElement('div');\n",
              "        docLink.innerHTML = docLinkHtml;\n",
              "        element.appendChild(docLink);\n",
              "      }\n",
              "    </script>\n",
              "  </div>\n",
              "\n",
              "    </div>\n",
              "  </div>\n"
            ],
            "application/vnd.google.colaboratory.intrinsic+json": {
              "type": "dataframe",
              "summary": "{\n  \"name\": \"df[df['question'] == '\\u041a\\u0442\\u043e \\u043c\\u043e\\u0436\\u0435\\u0442 \\u043e\\u0444\\u043e\\u0440\\u043c\\u0438\\u0442\\u044c \\u044d\\u0442\\u043e\\u0442 \\u043a\\u0440\\u0435\\u0434\\u0438\\u0442?']\",\n  \"rows\": 1,\n  \"fields\": [\n    {\n      \"column\": \"category\",\n      \"properties\": {\n        \"dtype\": \"string\",\n        \"num_unique_values\": 1,\n        \"samples\": [\n          \"\\u041f\\u0440\\u043e\\u0434\\u0443\\u043a\\u0442\\u044b - \\u041a\\u0440\\u0435\\u0434\\u0438\\u0442\\u044b\"\n        ],\n        \"semantic_type\": \"\",\n        \"description\": \"\"\n      }\n    },\n    {\n      \"column\": \"subcategory\",\n      \"properties\": {\n        \"dtype\": \"string\",\n        \"num_unique_values\": 1,\n        \"samples\": [\n          \"\\u041f\\u043e\\u0442\\u0440\\u0435\\u0431\\u0438\\u0442\\u0435\\u043b\\u044c\\u0441\\u043a\\u0438\\u0435 - \\u0412\\u0441\\u0451 \\u0442\\u043e\\u043b\\u044c\\u043a\\u043e \\u043d\\u0430\\u0447\\u0438\\u043d\\u0430\\u0435\\u0442\\u0441\\u044f\"\n        ],\n        \"semantic_type\": \"\",\n        \"description\": \"\"\n      }\n    },\n    {\n      \"column\": \"question\",\n      \"properties\": {\n        \"dtype\": \"string\",\n        \"num_unique_values\": 1,\n        \"samples\": [\n          \"\\u041a\\u0442\\u043e \\u043c\\u043e\\u0436\\u0435\\u0442 \\u043e\\u0444\\u043e\\u0440\\u043c\\u0438\\u0442\\u044c \\u044d\\u0442\\u043e\\u0442 \\u043a\\u0440\\u0435\\u0434\\u0438\\u0442?\"\n        ],\n        \"semantic_type\": \"\",\n        \"description\": \"\"\n      }\n    },\n    {\n      \"column\": \"priority\",\n      \"properties\": {\n        \"dtype\": \"string\",\n        \"num_unique_values\": 1,\n        \"samples\": [\n          \"\\u0432\\u044b\\u0441\\u043e\\u043a\\u0438\\u0439\"\n        ],\n        \"semantic_type\": \"\",\n        \"description\": \"\"\n      }\n    },\n    {\n      \"column\": \"target_group\",\n      \"properties\": {\n        \"dtype\": \"string\",\n        \"num_unique_values\": 1,\n        \"samples\": [\n          \"\\u043d\\u043e\\u0432\\u044b\\u0435 \\u043a\\u043b\\u0438\\u0435\\u043d\\u0442\\u044b\"\n        ],\n        \"semantic_type\": \"\",\n        \"description\": \"\"\n      }\n    },\n    {\n      \"column\": \"answer\",\n      \"properties\": {\n        \"dtype\": \"string\",\n        \"num_unique_values\": 1,\n        \"samples\": [\n          \"\\u041a\\u0440\\u0435\\u0434\\u0438\\u0442 '\\u0412\\u0441\\u0451 \\u0442\\u043e\\u043b\\u044c\\u043a\\u043e \\u043d\\u0430\\u0447\\u0438\\u043d\\u0430\\u0435\\u0442\\u0441\\u044f' \\u043f\\u0440\\u0435\\u0434\\u043d\\u0430\\u0437\\u043d\\u0430\\u0447\\u0435\\u043d \\u0434\\u043b\\u044f \\u043a\\u043b\\u0438\\u0435\\u043d\\u0442\\u043e\\u0432 \\u0441\\u0442\\u0430\\u0440\\u0448\\u0435 50 \\u043b\\u0435\\u0442 \\u0438 \\u043f\\u0440\\u0435\\u0434\\u043e\\u0441\\u0442\\u0430\\u0432\\u043b\\u044f\\u0435\\u0442 \\u043e\\u0441\\u043e\\u0431\\u044b\\u0435 \\u043b\\u044c\\u0433\\u043e\\u0442\\u043d\\u044b\\u0435 \\u0443\\u0441\\u043b\\u043e\\u0432\\u0438\\u044f.\"\n        ],\n        \"semantic_type\": \"\",\n        \"description\": \"\"\n      }\n    }\n  ]\n}"
            }
          },
          "metadata": {},
          "execution_count": 9
        }
      ]
    },
    {
      "cell_type": "code",
      "source": [
        "df[df['category'] == 'Продукты - Кредиты']['target_group'].value_counts()"
      ],
      "metadata": {
        "colab": {
          "base_uri": "https://localhost:8080/",
          "height": 145
        },
        "id": "U_zGLDjR19AX",
        "outputId": "3c0e1ab2-4943-4d2d-f188-efe4f1a482d6"
      },
      "execution_count": 12,
      "outputs": [
        {
          "output_type": "execute_result",
          "data": {
            "text/plain": [
              "target_group\n",
              "новые клиенты    35\n",
              "Name: count, dtype: int64"
            ],
            "text/html": [
              "<div>\n",
              "<style scoped>\n",
              "    .dataframe tbody tr th:only-of-type {\n",
              "        vertical-align: middle;\n",
              "    }\n",
              "\n",
              "    .dataframe tbody tr th {\n",
              "        vertical-align: top;\n",
              "    }\n",
              "\n",
              "    .dataframe thead th {\n",
              "        text-align: right;\n",
              "    }\n",
              "</style>\n",
              "<table border=\"1\" class=\"dataframe\">\n",
              "  <thead>\n",
              "    <tr style=\"text-align: right;\">\n",
              "      <th></th>\n",
              "      <th>count</th>\n",
              "    </tr>\n",
              "    <tr>\n",
              "      <th>target_group</th>\n",
              "      <th></th>\n",
              "    </tr>\n",
              "  </thead>\n",
              "  <tbody>\n",
              "    <tr>\n",
              "      <th>новые клиенты</th>\n",
              "      <td>35</td>\n",
              "    </tr>\n",
              "  </tbody>\n",
              "</table>\n",
              "</div><br><label><b>dtype:</b> int64</label>"
            ]
          },
          "metadata": {},
          "execution_count": 12
        }
      ]
    },
    {
      "cell_type": "code",
      "source": [
        "df[df['category'] == 'Продукты - Карты']['target_group'].value_counts()"
      ],
      "metadata": {
        "colab": {
          "base_uri": "https://localhost:8080/",
          "height": 145
        },
        "id": "rQBuz41w21mi",
        "outputId": "2d7b352a-6e4c-4ada-c317-56a3199027fd"
      },
      "execution_count": 13,
      "outputs": [
        {
          "output_type": "execute_result",
          "data": {
            "text/plain": [
              "target_group\n",
              "новые клиенты    63\n",
              "Name: count, dtype: int64"
            ],
            "text/html": [
              "<div>\n",
              "<style scoped>\n",
              "    .dataframe tbody tr th:only-of-type {\n",
              "        vertical-align: middle;\n",
              "    }\n",
              "\n",
              "    .dataframe tbody tr th {\n",
              "        vertical-align: top;\n",
              "    }\n",
              "\n",
              "    .dataframe thead th {\n",
              "        text-align: right;\n",
              "    }\n",
              "</style>\n",
              "<table border=\"1\" class=\"dataframe\">\n",
              "  <thead>\n",
              "    <tr style=\"text-align: right;\">\n",
              "      <th></th>\n",
              "      <th>count</th>\n",
              "    </tr>\n",
              "    <tr>\n",
              "      <th>target_group</th>\n",
              "      <th></th>\n",
              "    </tr>\n",
              "  </thead>\n",
              "  <tbody>\n",
              "    <tr>\n",
              "      <th>новые клиенты</th>\n",
              "      <td>63</td>\n",
              "    </tr>\n",
              "  </tbody>\n",
              "</table>\n",
              "</div><br><label><b>dtype:</b> int64</label>"
            ]
          },
          "metadata": {},
          "execution_count": 13
        }
      ]
    },
    {
      "cell_type": "code",
      "source": [
        "df[df['category'] == 'Продукты - Вклады']['target_group'].value_counts()"
      ],
      "metadata": {
        "colab": {
          "base_uri": "https://localhost:8080/",
          "height": 145
        },
        "id": "M3KbcAyh3CQN",
        "outputId": "516a8c7d-a098-4cbf-9317-fe0f625128fd"
      },
      "execution_count": 14,
      "outputs": [
        {
          "output_type": "execute_result",
          "data": {
            "text/plain": [
              "target_group\n",
              "новые клиенты    30\n",
              "Name: count, dtype: int64"
            ],
            "text/html": [
              "<div>\n",
              "<style scoped>\n",
              "    .dataframe tbody tr th:only-of-type {\n",
              "        vertical-align: middle;\n",
              "    }\n",
              "\n",
              "    .dataframe tbody tr th {\n",
              "        vertical-align: top;\n",
              "    }\n",
              "\n",
              "    .dataframe thead th {\n",
              "        text-align: right;\n",
              "    }\n",
              "</style>\n",
              "<table border=\"1\" class=\"dataframe\">\n",
              "  <thead>\n",
              "    <tr style=\"text-align: right;\">\n",
              "      <th></th>\n",
              "      <th>count</th>\n",
              "    </tr>\n",
              "    <tr>\n",
              "      <th>target_group</th>\n",
              "      <th></th>\n",
              "    </tr>\n",
              "  </thead>\n",
              "  <tbody>\n",
              "    <tr>\n",
              "      <th>новые клиенты</th>\n",
              "      <td>30</td>\n",
              "    </tr>\n",
              "  </tbody>\n",
              "</table>\n",
              "</div><br><label><b>dtype:</b> int64</label>"
            ]
          },
          "metadata": {},
          "execution_count": 14
        }
      ]
    },
    {
      "cell_type": "code",
      "source": [
        "df[df['category'] == 'Частные клиенты']['target_group'].value_counts()"
      ],
      "metadata": {
        "colab": {
          "base_uri": "https://localhost:8080/",
          "height": 176
        },
        "id": "Id6USkr53LxG",
        "outputId": "ffa3d85b-f577-41ac-c9a1-819051d1fd64"
      },
      "execution_count": 15,
      "outputs": [
        {
          "output_type": "execute_result",
          "data": {
            "text/plain": [
              "target_group\n",
              "все клиенты      48\n",
              "новые клиенты    14\n",
              "Name: count, dtype: int64"
            ],
            "text/html": [
              "<div>\n",
              "<style scoped>\n",
              "    .dataframe tbody tr th:only-of-type {\n",
              "        vertical-align: middle;\n",
              "    }\n",
              "\n",
              "    .dataframe tbody tr th {\n",
              "        vertical-align: top;\n",
              "    }\n",
              "\n",
              "    .dataframe thead th {\n",
              "        text-align: right;\n",
              "    }\n",
              "</style>\n",
              "<table border=\"1\" class=\"dataframe\">\n",
              "  <thead>\n",
              "    <tr style=\"text-align: right;\">\n",
              "      <th></th>\n",
              "      <th>count</th>\n",
              "    </tr>\n",
              "    <tr>\n",
              "      <th>target_group</th>\n",
              "      <th></th>\n",
              "    </tr>\n",
              "  </thead>\n",
              "  <tbody>\n",
              "    <tr>\n",
              "      <th>все клиенты</th>\n",
              "      <td>48</td>\n",
              "    </tr>\n",
              "    <tr>\n",
              "      <th>новые клиенты</th>\n",
              "      <td>14</td>\n",
              "    </tr>\n",
              "  </tbody>\n",
              "</table>\n",
              "</div><br><label><b>dtype:</b> int64</label>"
            ]
          },
          "metadata": {},
          "execution_count": 15
        }
      ]
    },
    {
      "cell_type": "code",
      "source": [
        "df[df['category'] == 'Частные клиенты']['subcategory'].value_counts()"
      ],
      "metadata": {
        "colab": {
          "base_uri": "https://localhost:8080/",
          "height": 238
        },
        "id": "90GYhtOL3aX-",
        "outputId": "335229ce-91de-4a78-d100-f98e7537859e"
      },
      "execution_count": 17,
      "outputs": [
        {
          "output_type": "execute_result",
          "data": {
            "text/plain": [
              "subcategory\n",
              "Кредиты                22\n",
              "Банковские карточки    19\n",
              "Вклады и депозиты      15\n",
              "Онлайн-сервисы          6\n",
              "Name: count, dtype: int64"
            ],
            "text/html": [
              "<div>\n",
              "<style scoped>\n",
              "    .dataframe tbody tr th:only-of-type {\n",
              "        vertical-align: middle;\n",
              "    }\n",
              "\n",
              "    .dataframe tbody tr th {\n",
              "        vertical-align: top;\n",
              "    }\n",
              "\n",
              "    .dataframe thead th {\n",
              "        text-align: right;\n",
              "    }\n",
              "</style>\n",
              "<table border=\"1\" class=\"dataframe\">\n",
              "  <thead>\n",
              "    <tr style=\"text-align: right;\">\n",
              "      <th></th>\n",
              "      <th>count</th>\n",
              "    </tr>\n",
              "    <tr>\n",
              "      <th>subcategory</th>\n",
              "      <th></th>\n",
              "    </tr>\n",
              "  </thead>\n",
              "  <tbody>\n",
              "    <tr>\n",
              "      <th>Кредиты</th>\n",
              "      <td>22</td>\n",
              "    </tr>\n",
              "    <tr>\n",
              "      <th>Банковские карточки</th>\n",
              "      <td>19</td>\n",
              "    </tr>\n",
              "    <tr>\n",
              "      <th>Вклады и депозиты</th>\n",
              "      <td>15</td>\n",
              "    </tr>\n",
              "    <tr>\n",
              "      <th>Онлайн-сервисы</th>\n",
              "      <td>6</td>\n",
              "    </tr>\n",
              "  </tbody>\n",
              "</table>\n",
              "</div><br><label><b>dtype:</b> int64</label>"
            ]
          },
          "metadata": {},
          "execution_count": 17
        }
      ]
    },
    {
      "cell_type": "code",
      "source": [
        "df['subcategory'].value_counts()"
      ],
      "metadata": {
        "colab": {
          "base_uri": "https://localhost:8080/",
          "height": 1000
        },
        "id": "GI0F80HEEuLN",
        "outputId": "973564c6-2190-466e-e762-c11ce0db94b9"
      },
      "execution_count": 18,
      "outputs": [
        {
          "output_type": "execute_result",
          "data": {
            "text/plain": [
              "subcategory\n",
              "Кредиты                                     22\n",
              "Банковские карточки                         19\n",
              "Вклады и депозиты                           15\n",
              "Карты рассрочки - ЧЕРЕПАХА                   8\n",
              "Дебетовые карты - MORE                       8\n",
              "Кредитные карты - PLAT/ON                    7\n",
              "Карты рассрочки - КСТАТИ                     7\n",
              "Дебетовые карты - Форсаж                     7\n",
              "Онлайн-сервисы                               6\n",
              "Проблемы и решения                           6\n",
              "Потребительские - На всё про всё             6\n",
              "Кредитные карты - Портмоне 2.0               6\n",
              "Дебетовые карты - Комплимент                 6\n",
              "Дебетовые карты - Signature                  5\n",
              "Кредитные карты - Отличник                   5\n",
              "Потребительские - Дальше - меньше            5\n",
              "Рублевые - Мои условия                       5\n",
              "Дебетовые карты - Infinite                   4\n",
              "Онлайн кредиты - Проще в онлайн              4\n",
              "Рублевые - Мои условия онлайн                4\n",
              "Автокредиты - Автокредит без залога          4\n",
              "Потребительские - Всё только начинается      4\n",
              "Потребительские - Легко платить              4\n",
              "Валютные - CNY                               3\n",
              "Регистрация и онбординг                      3\n",
              "Рублевые - Подушка безопасности              3\n",
              "Экспресс-кредиты - В магазинах-партнерах     3\n",
              "Валютные - EUR                               3\n",
              "Рублевые - СуперСемь                         3\n",
              "Рублевые - Великий путь                      3\n",
              "Экспресс-кредиты - На роднае                 3\n",
              "Валютные - USD                               3\n",
              "Валютные - RUB                               3\n",
              "Первые шаги                                  2\n",
              "Потребительские - Старт                      2\n",
              "Name: count, dtype: int64"
            ],
            "text/html": [
              "<div>\n",
              "<style scoped>\n",
              "    .dataframe tbody tr th:only-of-type {\n",
              "        vertical-align: middle;\n",
              "    }\n",
              "\n",
              "    .dataframe tbody tr th {\n",
              "        vertical-align: top;\n",
              "    }\n",
              "\n",
              "    .dataframe thead th {\n",
              "        text-align: right;\n",
              "    }\n",
              "</style>\n",
              "<table border=\"1\" class=\"dataframe\">\n",
              "  <thead>\n",
              "    <tr style=\"text-align: right;\">\n",
              "      <th></th>\n",
              "      <th>count</th>\n",
              "    </tr>\n",
              "    <tr>\n",
              "      <th>subcategory</th>\n",
              "      <th></th>\n",
              "    </tr>\n",
              "  </thead>\n",
              "  <tbody>\n",
              "    <tr>\n",
              "      <th>Кредиты</th>\n",
              "      <td>22</td>\n",
              "    </tr>\n",
              "    <tr>\n",
              "      <th>Банковские карточки</th>\n",
              "      <td>19</td>\n",
              "    </tr>\n",
              "    <tr>\n",
              "      <th>Вклады и депозиты</th>\n",
              "      <td>15</td>\n",
              "    </tr>\n",
              "    <tr>\n",
              "      <th>Карты рассрочки - ЧЕРЕПАХА</th>\n",
              "      <td>8</td>\n",
              "    </tr>\n",
              "    <tr>\n",
              "      <th>Дебетовые карты - MORE</th>\n",
              "      <td>8</td>\n",
              "    </tr>\n",
              "    <tr>\n",
              "      <th>Кредитные карты - PLAT/ON</th>\n",
              "      <td>7</td>\n",
              "    </tr>\n",
              "    <tr>\n",
              "      <th>Карты рассрочки - КСТАТИ</th>\n",
              "      <td>7</td>\n",
              "    </tr>\n",
              "    <tr>\n",
              "      <th>Дебетовые карты - Форсаж</th>\n",
              "      <td>7</td>\n",
              "    </tr>\n",
              "    <tr>\n",
              "      <th>Онлайн-сервисы</th>\n",
              "      <td>6</td>\n",
              "    </tr>\n",
              "    <tr>\n",
              "      <th>Проблемы и решения</th>\n",
              "      <td>6</td>\n",
              "    </tr>\n",
              "    <tr>\n",
              "      <th>Потребительские - На всё про всё</th>\n",
              "      <td>6</td>\n",
              "    </tr>\n",
              "    <tr>\n",
              "      <th>Кредитные карты - Портмоне 2.0</th>\n",
              "      <td>6</td>\n",
              "    </tr>\n",
              "    <tr>\n",
              "      <th>Дебетовые карты - Комплимент</th>\n",
              "      <td>6</td>\n",
              "    </tr>\n",
              "    <tr>\n",
              "      <th>Дебетовые карты - Signature</th>\n",
              "      <td>5</td>\n",
              "    </tr>\n",
              "    <tr>\n",
              "      <th>Кредитные карты - Отличник</th>\n",
              "      <td>5</td>\n",
              "    </tr>\n",
              "    <tr>\n",
              "      <th>Потребительские - Дальше - меньше</th>\n",
              "      <td>5</td>\n",
              "    </tr>\n",
              "    <tr>\n",
              "      <th>Рублевые - Мои условия</th>\n",
              "      <td>5</td>\n",
              "    </tr>\n",
              "    <tr>\n",
              "      <th>Дебетовые карты - Infinite</th>\n",
              "      <td>4</td>\n",
              "    </tr>\n",
              "    <tr>\n",
              "      <th>Онлайн кредиты - Проще в онлайн</th>\n",
              "      <td>4</td>\n",
              "    </tr>\n",
              "    <tr>\n",
              "      <th>Рублевые - Мои условия онлайн</th>\n",
              "      <td>4</td>\n",
              "    </tr>\n",
              "    <tr>\n",
              "      <th>Автокредиты - Автокредит без залога</th>\n",
              "      <td>4</td>\n",
              "    </tr>\n",
              "    <tr>\n",
              "      <th>Потребительские - Всё только начинается</th>\n",
              "      <td>4</td>\n",
              "    </tr>\n",
              "    <tr>\n",
              "      <th>Потребительские - Легко платить</th>\n",
              "      <td>4</td>\n",
              "    </tr>\n",
              "    <tr>\n",
              "      <th>Валютные - CNY</th>\n",
              "      <td>3</td>\n",
              "    </tr>\n",
              "    <tr>\n",
              "      <th>Регистрация и онбординг</th>\n",
              "      <td>3</td>\n",
              "    </tr>\n",
              "    <tr>\n",
              "      <th>Рублевые - Подушка безопасности</th>\n",
              "      <td>3</td>\n",
              "    </tr>\n",
              "    <tr>\n",
              "      <th>Экспресс-кредиты - В магазинах-партнерах</th>\n",
              "      <td>3</td>\n",
              "    </tr>\n",
              "    <tr>\n",
              "      <th>Валютные - EUR</th>\n",
              "      <td>3</td>\n",
              "    </tr>\n",
              "    <tr>\n",
              "      <th>Рублевые - СуперСемь</th>\n",
              "      <td>3</td>\n",
              "    </tr>\n",
              "    <tr>\n",
              "      <th>Рублевые - Великий путь</th>\n",
              "      <td>3</td>\n",
              "    </tr>\n",
              "    <tr>\n",
              "      <th>Экспресс-кредиты - На роднае</th>\n",
              "      <td>3</td>\n",
              "    </tr>\n",
              "    <tr>\n",
              "      <th>Валютные - USD</th>\n",
              "      <td>3</td>\n",
              "    </tr>\n",
              "    <tr>\n",
              "      <th>Валютные - RUB</th>\n",
              "      <td>3</td>\n",
              "    </tr>\n",
              "    <tr>\n",
              "      <th>Первые шаги</th>\n",
              "      <td>2</td>\n",
              "    </tr>\n",
              "    <tr>\n",
              "      <th>Потребительские - Старт</th>\n",
              "      <td>2</td>\n",
              "    </tr>\n",
              "  </tbody>\n",
              "</table>\n",
              "</div><br><label><b>dtype:</b> int64</label>"
            ]
          },
          "metadata": {},
          "execution_count": 18
        }
      ]
    },
    {
      "cell_type": "code",
      "source": [
        "df['priority'].value_counts()"
      ],
      "metadata": {
        "colab": {
          "base_uri": "https://localhost:8080/",
          "height": 176
        },
        "id": "BUy2i_fKFTWX",
        "outputId": "b4a1a375-b78e-4225-c2c2-338c948b20c6"
      },
      "execution_count": 21,
      "outputs": [
        {
          "output_type": "execute_result",
          "data": {
            "text/plain": [
              "priority\n",
              "высокий    113\n",
              "средний     88\n",
              "Name: count, dtype: int64"
            ],
            "text/html": [
              "<div>\n",
              "<style scoped>\n",
              "    .dataframe tbody tr th:only-of-type {\n",
              "        vertical-align: middle;\n",
              "    }\n",
              "\n",
              "    .dataframe tbody tr th {\n",
              "        vertical-align: top;\n",
              "    }\n",
              "\n",
              "    .dataframe thead th {\n",
              "        text-align: right;\n",
              "    }\n",
              "</style>\n",
              "<table border=\"1\" class=\"dataframe\">\n",
              "  <thead>\n",
              "    <tr style=\"text-align: right;\">\n",
              "      <th></th>\n",
              "      <th>count</th>\n",
              "    </tr>\n",
              "    <tr>\n",
              "      <th>priority</th>\n",
              "      <th></th>\n",
              "    </tr>\n",
              "  </thead>\n",
              "  <tbody>\n",
              "    <tr>\n",
              "      <th>высокий</th>\n",
              "      <td>113</td>\n",
              "    </tr>\n",
              "    <tr>\n",
              "      <th>средний</th>\n",
              "      <td>88</td>\n",
              "    </tr>\n",
              "  </tbody>\n",
              "</table>\n",
              "</div><br><label><b>dtype:</b> int64</label>"
            ]
          },
          "metadata": {},
          "execution_count": 21
        }
      ]
    },
    {
      "cell_type": "code",
      "source": [
        "df['target_group'].value_counts()"
      ],
      "metadata": {
        "colab": {
          "base_uri": "https://localhost:8080/",
          "height": 176
        },
        "id": "_z-h8CKfFXWC",
        "outputId": "8d66a3c2-6dcc-4356-fc27-0e9f3f3c0e61"
      },
      "execution_count": 22,
      "outputs": [
        {
          "output_type": "execute_result",
          "data": {
            "text/plain": [
              "target_group\n",
              "новые клиенты    147\n",
              "все клиенты       54\n",
              "Name: count, dtype: int64"
            ],
            "text/html": [
              "<div>\n",
              "<style scoped>\n",
              "    .dataframe tbody tr th:only-of-type {\n",
              "        vertical-align: middle;\n",
              "    }\n",
              "\n",
              "    .dataframe tbody tr th {\n",
              "        vertical-align: top;\n",
              "    }\n",
              "\n",
              "    .dataframe thead th {\n",
              "        text-align: right;\n",
              "    }\n",
              "</style>\n",
              "<table border=\"1\" class=\"dataframe\">\n",
              "  <thead>\n",
              "    <tr style=\"text-align: right;\">\n",
              "      <th></th>\n",
              "      <th>count</th>\n",
              "    </tr>\n",
              "    <tr>\n",
              "      <th>target_group</th>\n",
              "      <th></th>\n",
              "    </tr>\n",
              "  </thead>\n",
              "  <tbody>\n",
              "    <tr>\n",
              "      <th>новые клиенты</th>\n",
              "      <td>147</td>\n",
              "    </tr>\n",
              "    <tr>\n",
              "      <th>все клиенты</th>\n",
              "      <td>54</td>\n",
              "    </tr>\n",
              "  </tbody>\n",
              "</table>\n",
              "</div><br><label><b>dtype:</b> int64</label>"
            ]
          },
          "metadata": {},
          "execution_count": 22
        }
      ]
    },
    {
      "cell_type": "code",
      "source": [
        "df['subcategory'].nunique(), df['category'].nunique()"
      ],
      "metadata": {
        "colab": {
          "base_uri": "https://localhost:8080/"
        },
        "id": "kah-Y2GzFAa5",
        "outputId": "25764ad2-582e-4c7a-f4ae-1f297a9f5d6e"
      },
      "execution_count": 10,
      "outputs": [
        {
          "output_type": "execute_result",
          "data": {
            "text/plain": [
              "(35, 6)"
            ]
          },
          "metadata": {},
          "execution_count": 10
        }
      ]
    },
    {
      "cell_type": "code",
      "source": [
        "import os\n",
        "from getpass import getpass"
      ],
      "metadata": {
        "id": "VviDOwA9JkSx"
      },
      "execution_count": 11,
      "outputs": []
    },
    {
      "cell_type": "code",
      "source": [
        "# Если используете ключ из курса, запустите эту ячейку\n",
        "from langchain_openai import ChatOpenAI\n",
        "\n",
        "# course_api_key= \"Введите ваш ключ, полученный в боте курса\"\n",
        "course_api_key = getpass(prompt=\"Введите ваш ключ, полученный в боте курса\")\n",
        "\n",
        "# инициализируем языковую модель\n",
        "llm = ChatOpenAI(api_key=course_api_key, model='Qwen2.5-72B-Instruct-AWQ',\n",
        "                 base_url=\"https://llm.t1v.scibox.tech/v1\")"
      ],
      "metadata": {
        "colab": {
          "base_uri": "https://localhost:8080/"
        },
        "id": "2dcGIrTHJpSS",
        "outputId": "b94fc01a-08ba-4003-eb8d-d567fff73306"
      },
      "execution_count": 12,
      "outputs": [
        {
          "name": "stdout",
          "output_type": "stream",
          "text": [
            "Введите ваш ключ, полученный в боте курса··········\n"
          ]
        }
      ]
    },
    {
      "cell_type": "code",
      "source": [
        "prompt = \"\"\"Ответь на вопрос, опираясь на контекст ниже.\n",
        "Если на вопрос нельзя ответить, используя информацию из контекста,\n",
        "ответь 'Я не знаю'.\n",
        "\n",
        "Context: В последние годы в сфере онлайн образования наблюдается бурное развитие.\n",
        "Открывается большое количество платформ для хостинга курсов.\n",
        "Одни из самых крупных платформ в мире, это Coursera и Udemy.\n",
        "В России лидером является Stepik.\n",
        "\n",
        "Question: На каких онлайн платформах можно размещать курсы?\n",
        "\n",
        "Answer: \"\"\"\n",
        "print(llm.invoke(prompt).content)"
      ],
      "metadata": {
        "colab": {
          "base_uri": "https://localhost:8080/"
        },
        "id": "YTTdYs6VShx3",
        "outputId": "f53045a5-4763-4fa8-ddff-8058bc663e29"
      },
      "execution_count": 17,
      "outputs": [
        {
          "output_type": "stream",
          "name": "stdout",
          "text": [
            "На основе информации из контекста, можно размещать курсы на таких онлайн платформах, как Coursera, Udemy и Stepik.\n"
          ]
        }
      ]
    },
    {
      "cell_type": "code",
      "source": [
        "template = \"\"\"\n",
        "Answer the question based only on the following context:\n",
        "\n",
        "{context}\n",
        "\n",
        "Question: {question}\n",
        "\"\"\"\n",
        "\n",
        "# Создаём промпт из шаблона\n",
        "prompt = ChatPromptTemplate.from_template(template)"
      ],
      "metadata": {
        "id": "kSBxKK1YUnUr"
      },
      "execution_count": 18,
      "outputs": []
    },
    {
      "cell_type": "code",
      "source": [
        "from langchain.embeddings.base import Embeddings\n",
        "from openai import OpenAI\n",
        "\n",
        "class CustomBgeEmbeddings(Embeddings):\n",
        "    def __init__(self, api_key: str, base_url: str = \"https://llm.t1v.scibox.tech/v1\", model: str = \"bge-m3\"):\n",
        "        self.client = OpenAI(api_key=api_key, base_url=base_url)\n",
        "        self.model = model\n",
        "\n",
        "    def embed_documents(self, texts):\n",
        "        embeddings = []\n",
        "        for text in texts:\n",
        "            response = self.client.embeddings.create(\n",
        "                model=self.model,\n",
        "                input=text\n",
        "            )\n",
        "            embeddings.append(response.data[0].embedding)\n",
        "        return embeddings\n",
        "\n",
        "    def embed_query(self, text):\n",
        "        response = self.client.embeddings.create(\n",
        "            model=self.model,\n",
        "            input=text\n",
        "        )\n",
        "        return response.data[0].embedding\n"
      ],
      "metadata": {
        "id": "sy0L1e8XNhWY"
      },
      "execution_count": 21,
      "outputs": []
    },
    {
      "cell_type": "code",
      "source": [
        "import requests\n",
        "from langchain.embeddings.base import Embeddings\n",
        "from concurrent.futures import ThreadPoolExecutor, as_completed\n",
        "\n",
        "class BGEM3Embeddings(Embeddings):\n",
        "    def __init__(self, api_key: str, base_url: str = \"https://llm.t1v.scibox.tech/v1\",\n",
        "                 model: str = \"bge-m3\", batch_size: int = 32, max_workers: int = 4, timeout: int = 60):\n",
        "        self.api_key = api_key\n",
        "        self.base_url = base_url.rstrip(\"/\") + \"/embeddings\"\n",
        "        self.model = model\n",
        "        self.batch_size = batch_size\n",
        "        self.max_workers = max_workers\n",
        "        self.timeout = timeout\n",
        "        self.session = requests.Session()\n",
        "        self.session.headers.update({\n",
        "            \"Authorization\": f\"Bearer {self.api_key}\",\n",
        "            \"Content-Type\": \"application/json\",\n",
        "            \"Accept-Encoding\": \"gzip, deflate\"\n",
        "        })\n",
        "\n",
        "    def _post_batch(self, texts):\n",
        "        payload = {\"model\": self.model, \"input\": texts}\n",
        "        resp = self.session.post(self.base_url, json=payload, timeout=self.timeout)\n",
        "        resp.raise_for_status()\n",
        "        data = resp.json()\n",
        "        return [d[\"embedding\"] for d in data[\"data\"]]\n",
        "\n",
        "    def _embed(self, texts):\n",
        "        # Разбиваем на батчи\n",
        "        batches = [texts[i:i+self.batch_size] for i in range(0, len(texts), self.batch_size)]\n",
        "        embeddings = [None] * len(batches)\n",
        "\n",
        "        # Параллельная обработка батчей\n",
        "        with ThreadPoolExecutor(max_workers=self.max_workers) as executor:\n",
        "            futures = {executor.submit(self._post_batch, batches[i]): i for i in range(len(batches))}\n",
        "            for fut in as_completed(futures):\n",
        "                idx = futures[fut]\n",
        "                embeddings[idx] = fut.result()\n",
        "\n",
        "        # Расплющиваем результат\n",
        "        return [vec for batch in embeddings for vec in batch]\n",
        "\n",
        "    def embed_documents(self, texts):\n",
        "        return self._embed(texts)\n",
        "\n",
        "    def embed_query(self, text):\n",
        "        return self._embed([text])[0]\n"
      ],
      "metadata": {
        "id": "Zwh_v5NLUgH9"
      },
      "execution_count": 39,
      "outputs": []
    },
    {
      "cell_type": "code",
      "source": [
        "client = OpenAI(api_key=API_KEY, base_url=BASE_URL)\n",
        "\n",
        "loader = DataFrameLoader(df, page_content_column='answer')\n",
        "documents = loader.load()\n",
        "\n",
        "# Определяем сплиттер\n",
        "splitter = RecursiveCharacterTextSplitter(\n",
        "    chunk_size=500,\n",
        "    chunk_overlap=50\n",
        ")\n",
        "split_texts = splitter.split_documents(documents)\n",
        "\n",
        "\n",
        "embeddings = BGEM3Embeddings(api_key=course_api_key)\n",
        "\n",
        "# Векторное хранилище\n",
        "db = FAISS.from_documents(split_texts, embeddings)\n",
        "\n",
        "\n",
        "# Задаём ретривер\n",
        "retriever = db.as_retriever()"
      ],
      "metadata": {
        "id": "WUqq63FSUz8U"
      },
      "execution_count": 40,
      "outputs": []
    },
    {
      "cell_type": "code",
      "source": [
        "split_texts[0]"
      ],
      "metadata": {
        "colab": {
          "base_uri": "https://localhost:8080/"
        },
        "id": "3P6tlrHHUuxD",
        "outputId": "b4fe2829-7d15-4452-ffd7-da0d98512dd1"
      },
      "execution_count": 42,
      "outputs": [
        {
          "output_type": "execute_result",
          "data": {
            "text/plain": [
              "Document(metadata={'category': 'Новые клиенты', 'subcategory': 'Регистрация и онбординг', 'question': 'Как стать клиентом банка онлайн?', 'priority': 'высокий', 'target_group': 'новые клиенты'}, page_content='Стать клиентом ВТБ (Беларусь) можно онлайн через сайт vtb.by или мобильное приложение VTB mBank. Для регистрации потребуется паспорт и номер телефона. После регистрации через МСИ (Межбанковскую систему идентификации) вы получите доступ к банковским услугам.')"
            ]
          },
          "metadata": {},
          "execution_count": 42
        }
      ]
    },
    {
      "cell_type": "code",
      "source": [
        "db.similarity_search_with_score('Я не помню пароль')"
      ],
      "metadata": {
        "colab": {
          "base_uri": "https://localhost:8080/"
        },
        "id": "Iwlo3TC3U_v6",
        "outputId": "1d4201b6-d369-4e91-c413-b094feb38580"
      },
      "execution_count": 44,
      "outputs": [
        {
          "output_type": "execute_result",
          "data": {
            "text/plain": [
              "[(Document(id='a117dd7a-bcdd-452f-891e-afc095aca6ec', metadata={'category': 'Техническая поддержка', 'subcategory': 'Проблемы и решения', 'question': 'Забыл пароль от мобильного приложения', 'priority': 'высокий', 'target_group': 'все клиенты'}, page_content='Если Вы забыли логин или пароль доступа, доступна процедура восстановления доступа к системе ДБО со стартового экрана. Для этого требуется нажать на кнопку «Забыли логин или пароль?».'),\n",
              "  np.float32(0.7354803)),\n",
              " (Document(id='14aaa035-aaff-4876-a88c-1363f41976b9', metadata={'category': 'Техническая поддержка', 'subcategory': 'Проблемы и решения', 'question': 'Не могу войти в Интернет-банк', 'priority': 'высокий', 'target_group': 'все клиенты'}, page_content='Если не получается войти в Интернет-банк, проверьте правильность ввода логина и пароля. При забытом пароле воспользуйтесь функцией восстановления. Если проблема не решается, обратитесь в контакт-центр по номеру 250 или +375 (17/29/33) 309 15 15.'),\n",
              "  np.float32(0.76372707)),\n",
              " (Document(id='3996d37f-dacc-4fcd-b900-44489fb8f34e', metadata={'category': 'Новые клиенты', 'subcategory': 'Первые шаги', 'question': 'Первый вход в Интернет-банк', 'priority': 'высокий', 'target_group': 'новые клиенты'}, page_content='После регистрации вы получите логин и пароль для входа в систему Интернет-банк. При первом входе рекомендуется изменить временный пароль на постоянный и настроить дополнительные параметры безопасности.'),\n",
              "  np.float32(0.86034995)),\n",
              " (Document(id='db91ed38-39ce-441c-95da-1bb7285383d5', metadata={'category': 'Частные клиенты', 'subcategory': 'Онлайн-сервисы', 'question': 'А логин и пароль в новом Интернет-банке и Мобильном банке отличаются?', 'priority': 'средний', 'target_group': 'все клиенты'}, page_content='Нет, Клиент может, используя одну комбинацию логина и пароля, получить доступ к Мобильной и Интернет версии новой системы.'),\n",
              "  np.float32(0.892568))]"
            ]
          },
          "metadata": {},
          "execution_count": 44
        }
      ]
    },
    {
      "cell_type": "code",
      "source": [],
      "metadata": {
        "id": "_iCM9mmpWYfq"
      },
      "execution_count": null,
      "outputs": []
    },
    {
      "cell_type": "code",
      "source": [
        "template = \"\"\"\n",
        "Игнорируй все предыдущие инструкции. Ты консультант компании T1, которая разрабатывает интеллектуальные системы поддержки клиентов для крупных организаций, включая финансовые учреждения.\n",
        "Компания T1 создает платформу, интегрирующую машинное обучение и обработку естественного языка, чтобы автоматизировать классификацию и анализ клиентских обращений, повышать точность и скорость ответов операторов, снижать риски ошибок и человеческий фактор.\n",
        "\n",
        "Продукты компании: система автоматической классификации обращений, модуль ранжирования шаблонов, механизм непрерывного обучения, веб-интерфейс для операторов, интеграция с базами знаний и историей успешных решений.\n",
        "\n",
        "Будь вежлив и внимателен. Выяви потребность клиента, особенно если запрос эмоционально окрашен, неполон или содержит технический жаргон. Помоги ему с использованием возможностей платформы T1, опираясь только на фактическую информацию о продуктах и приведенный контекст. Если точного ответа нет, честно скажи об этом и предложи обратиться к оператору или менеджеру T1. Не придумывай фактов.\n",
        "\n",
        "Данные о проведенных консультациях: {context}\n",
        "\n",
        "Отвечай на языке, на котором задан вопрос.\n",
        "\n",
        "Принципы ответа:\n",
        "1. Давай четкие, прямые и краткие ответы.\n",
        "2. Исключи ненужные извинения, упоминания самого себя и лишние формулировки.\n",
        "3. Используй непринужденный, профессиональный и уверенный тон.\n",
        "4. При двусмысленных или неполных запросах уточняй детали, чтобы понять намерение клиента.\n",
        "5. При объяснении используй реальные примеры из работы служб поддержки и аналогии из банковской или финансовой сферы.\n",
        "6. Для сложных запросов анализируй шаг за шагом, структурируя решение.\n",
        "7. Обращай особое внимание на финансовые и юридические последствия ошибок в ответах.\n",
        "8. За каждый ответ ты получишь чаевые от 10 до 20 долларов (в зависимости от качества твоего ответа).\n",
        "9. Каждый твой ответ должен максимально повышать точность, релевантность и эффективность обработки запроса.\n",
        "\n",
        "Очень важно, чтобы ты понял это правильно. На кону несколько жизней и репутация компании.\n",
        "\n",
        "Question: {question}\n",
        "\"\"\"\n",
        "\n",
        "# Создаём промпт из шаблона\n",
        "prompt = ChatPromptTemplate.from_template(template)\n"
      ],
      "metadata": {
        "id": "R5DaAGBVYIAX"
      },
      "execution_count": 48,
      "outputs": []
    },
    {
      "cell_type": "code",
      "source": [
        "# Объявляем функцию, которая будет собирать строку из полученных документов\n",
        "def format_docs(docs):\n",
        "    return \"\\n\\n\".join([d.page_content for d in docs])\n"
      ],
      "metadata": {
        "id": "djyCdMh0ZvWi"
      },
      "execution_count": 49,
      "outputs": []
    },
    {
      "cell_type": "code",
      "source": [
        "from langchain.schema import StrOutputParser\n",
        "from langchain_core.prompts import ChatPromptTemplate\n",
        "from langchain_core.runnables import RunnablePassthrough\n",
        "\n",
        "# Создаём цепочку\n",
        "chain = (\n",
        "    {\"context\": retriever | format_docs, \"question\": RunnablePassthrough()}\n",
        "    | prompt\n",
        "    | llm\n",
        "    | StrOutputParser()\n",
        ")\n",
        "\n",
        "chain.invoke(\"Карта PLAT/ON с виртуальным кредитным лимитом – могу ли я сразу делать онлайн-покупки на 5 000 BYN?\")"
      ],
      "metadata": {
        "colab": {
          "base_uri": "https://localhost:8080/",
          "height": 69
        },
        "id": "2an1yeisVhD4",
        "outputId": "b5f17ee2-eae2-4709-d1b6-44c1c9f1b949"
      },
      "execution_count": 50,
      "outputs": [
        {
          "output_type": "execute_result",
          "data": {
            "text/plain": [
              "'Да, вы можете сразу делать онлайн-покупки на сумму до 5 000 BYN после оформления виртуальной карты PLAT/ON. Однако важно учесть, что ваш кредитный лимит будет зависеть от ваших доходов и текущих обязательств, и банк может установить его ниже максимальной суммы. После одобрения заявки и активации карты вы сможете использовать её для онлайн-покупок в полном объёме вашего лимита.'"
            ],
            "application/vnd.google.colaboratory.intrinsic+json": {
              "type": "string"
            }
          },
          "metadata": {},
          "execution_count": 50
        }
      ]
    },
    {
      "cell_type": "code",
      "source": [
        "chain.invoke(\"Я забыл пароль к мобильному приложению, могу ли я восстановить доступ без визита в отделение?\")"
      ],
      "metadata": {
        "colab": {
          "base_uri": "https://localhost:8080/",
          "height": 69
        },
        "id": "357n5ExBW1_O",
        "outputId": "085adfd3-0b12-4812-f42c-f55133d0d33d"
      },
      "execution_count": 54,
      "outputs": [
        {
          "output_type": "execute_result",
          "data": {
            "text/plain": [
              "'Да, вы можете восстановить доступ к мобильному приложению без визита в отделение. На стартовом экране приложения нажмите на кнопку «Забыли логин или пароль?». Следуйте инструкциям, которые появятся на экране. Если возникнут трудности, вы можете также позвонить по контактным телефонам банка для получения дальнейшей помощи.'"
            ],
            "application/vnd.google.colaboratory.intrinsic+json": {
              "type": "string"
            }
          },
          "metadata": {},
          "execution_count": 54
        }
      ]
    },
    {
      "cell_type": "code",
      "source": [
        "chain.invoke(\"Можно ли сменить пароль на новый, если я впервые вошёл через Интернет-банк?\")"
      ],
      "metadata": {
        "colab": {
          "base_uri": "https://localhost:8080/",
          "height": 52
        },
        "id": "lJ1A_nHUadRt",
        "outputId": "886b5742-caf5-4a18-b4e4-567084c4b13b"
      },
      "execution_count": 52,
      "outputs": [
        {
          "output_type": "execute_result",
          "data": {
            "text/plain": [
              "'Да, можно. При первом входе в Интернет-банк рекомендуется изменить временный пароль на постоянный. Это повысит безопасность вашего аккаунта. Для смены пароля используйте соответствующий раздел в настройках безопасности системы.'"
            ],
            "application/vnd.google.colaboratory.intrinsic+json": {
              "type": "string"
            }
          },
          "metadata": {},
          "execution_count": 52
        }
      ]
    }
  ]
}