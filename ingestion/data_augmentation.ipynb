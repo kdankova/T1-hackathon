{
  "cells": [
    {
      "cell_type": "markdown",
      "metadata": {},
      "source": [
        "# Аугментация датасета ВТБ FAQ\n",
        "\n",
        "В этом ноутбуке мы будем:\n",
        "1. Анализировать распределение вопросов по категориям\n",
        "2. Определять где не хватает примеров\n",
        "3. Генерировать синтетические вопросы для недостающих категорий\n",
        "4. Создавать итоговый датасет с бинарной меткой (оригинальный/сгенерированный)\n"
      ]
    },
    {
      "cell_type": "code",
      "execution_count": 1,
      "metadata": {},
      "outputs": [
        {
          "data": {
            "text/plain": [
              "True"
            ]
          },
          "execution_count": 1,
          "metadata": {},
          "output_type": "execute_result"
        }
      ],
      "source": [
        "from dotenv import find_dotenv, load_dotenv\n",
        "\n",
        "load_dotenv(find_dotenv())"
      ]
    },
    {
      "cell_type": "code",
      "execution_count": 26,
      "metadata": {},
      "outputs": [],
      "source": [
        "import pandas as pd\n",
        "import numpy as np\n",
        "from pathlib import Path\n",
        "from collections import Counter\n",
        "import matplotlib.pyplot as plt\n",
        "import seaborn as sns\n",
        "from rich import print\n",
        "\n",
        "pd.set_option('display.max_colwidth', None)\n",
        "pd.set_option('display.max_rows', 100)\n",
        "pd.set_option('display.max_columns', None)\n",
        "pd.set_option('display.width', None)\n",
        "\n",
        "sns.set_style('whitegrid')\n",
        "plt.rcParams['figure.figsize'] = (12, 6)\n"
      ]
    },
    {
      "cell_type": "markdown",
      "metadata": {},
      "source": [
        "## 1. Загрузка и предварительный анализ данных\n"
      ]
    },
    {
      "cell_type": "code",
      "execution_count": 28,
      "metadata": {},
      "outputs": [
        {
          "data": {
            "text/html": [
              "<pre style=\"white-space:pre;overflow-x:auto;line-height:normal;font-family:Menlo,'DejaVu Sans Mono',consolas,'Courier New',monospace\">Размер датасета: <span style=\"font-weight: bold\">(</span><span style=\"color: #008080; text-decoration-color: #008080; font-weight: bold\">233</span>, <span style=\"color: #008080; text-decoration-color: #008080; font-weight: bold\">6</span><span style=\"font-weight: bold\">)</span>\n",
              "</pre>\n"
            ],
            "text/plain": [
              "Размер датасета: \u001b[1m(\u001b[0m\u001b[1;36m233\u001b[0m, \u001b[1;36m6\u001b[0m\u001b[1m)\u001b[0m\n"
            ]
          },
          "metadata": {},
          "output_type": "display_data"
        },
        {
          "data": {
            "text/html": [
              "<pre style=\"white-space:pre;overflow-x:auto;line-height:normal;font-family:Menlo,'DejaVu Sans Mono',consolas,'Courier New',monospace\">\n",
              "Колонки: <span style=\"font-weight: bold\">[</span><span style=\"color: #008000; text-decoration-color: #008000\">'Основная категория'</span>, <span style=\"color: #008000; text-decoration-color: #008000\">'Подкатегория'</span>, <span style=\"color: #008000; text-decoration-color: #008000\">'Пример вопроса'</span>, <span style=\"color: #008000; text-decoration-color: #008000\">'Целевая аудитория'</span>, <span style=\"color: #008000; text-decoration-color: #008000\">'Шаблонный ответ'</span>, \n",
              "<span style=\"color: #008000; text-decoration-color: #008000\">'is_original'</span><span style=\"font-weight: bold\">]</span>\n",
              "</pre>\n"
            ],
            "text/plain": [
              "\n",
              "Колонки: \u001b[1m[\u001b[0m\u001b[32m'Основная категория'\u001b[0m, \u001b[32m'Подкатегория'\u001b[0m, \u001b[32m'Пример вопроса'\u001b[0m, \u001b[32m'Целевая аудитория'\u001b[0m, \u001b[32m'Шаблонный ответ'\u001b[0m, \n",
              "\u001b[32m'is_original'\u001b[0m\u001b[1m]\u001b[0m\n"
            ]
          },
          "metadata": {},
          "output_type": "display_data"
        },
        {
          "data": {
            "text/html": [
              "<pre style=\"white-space:pre;overflow-x:auto;line-height:normal;font-family:Menlo,'DejaVu Sans Mono',consolas,'Courier New',monospace\">\n",
              "Первые строки:\n",
              "</pre>\n"
            ],
            "text/plain": [
              "\n",
              "Первые строки:\n"
            ]
          },
          "metadata": {},
          "output_type": "display_data"
        },
        {
          "data": {
            "text/html": [
              "<div>\n",
              "<style scoped>\n",
              "    .dataframe tbody tr th:only-of-type {\n",
              "        vertical-align: middle;\n",
              "    }\n",
              "\n",
              "    .dataframe tbody tr th {\n",
              "        vertical-align: top;\n",
              "    }\n",
              "\n",
              "    .dataframe thead th {\n",
              "        text-align: right;\n",
              "    }\n",
              "</style>\n",
              "<table border=\"1\" class=\"dataframe\">\n",
              "  <thead>\n",
              "    <tr style=\"text-align: right;\">\n",
              "      <th></th>\n",
              "      <th>Основная категория</th>\n",
              "      <th>Подкатегория</th>\n",
              "      <th>Пример вопроса</th>\n",
              "      <th>Целевая аудитория</th>\n",
              "      <th>Шаблонный ответ</th>\n",
              "      <th>is_original</th>\n",
              "    </tr>\n",
              "  </thead>\n",
              "  <tbody>\n",
              "    <tr>\n",
              "      <th>0</th>\n",
              "      <td>Новые клиенты</td>\n",
              "      <td>Регистрация и онбординг</td>\n",
              "      <td>Как стать клиентом банка онлайн?</td>\n",
              "      <td>новые клиенты</td>\n",
              "      <td>Стать клиентом ВТБ (Беларусь) можно онлайн через сайт vtb.by или мобильное приложение VTB mBank. Для регистрации потребуется паспорт и номер телефона. После регистрации через МСИ (Межбанковскую систему идентификации) вы получите доступ к банковским услугам.</td>\n",
              "      <td>True</td>\n",
              "    </tr>\n",
              "    <tr>\n",
              "      <th>1</th>\n",
              "      <td>Новые клиенты</td>\n",
              "      <td>Регистрация и онбординг</td>\n",
              "      <td>Регистрация через МСИ (Межбанковская система идентификации)</td>\n",
              "      <td>новые клиенты</td>\n",
              "      <td>МСИ позволяет пройти идентификацию онлайн, используя данные других банков, где вы уже являетесь клиентом. Это упрощает процедуру регистрации и делает её быстрой и безопасной.</td>\n",
              "      <td>True</td>\n",
              "    </tr>\n",
              "    <tr>\n",
              "      <th>2</th>\n",
              "      <td>Новые клиенты</td>\n",
              "      <td>Регистрация и онбординг</td>\n",
              "      <td>Документы для регистрации нового клиента</td>\n",
              "      <td>новые клиенты</td>\n",
              "      <td>Для регистрации в качестве нового клиента необходим паспорт гражданина Республики Беларусь и контактный номер мобильного телефона для получения SMS-подтверждений.</td>\n",
              "      <td>True</td>\n",
              "    </tr>\n",
              "    <tr>\n",
              "      <th>3</th>\n",
              "      <td>Новые клиенты</td>\n",
              "      <td>Первые шаги</td>\n",
              "      <td>Первый вход в Интернет-банк</td>\n",
              "      <td>новые клиенты</td>\n",
              "      <td>После регистрации вы получите логин и пароль для входа в систему Интернет-банк. При первом входе рекомендуется изменить временный пароль на постоянный и настроить дополнительные параметры безопасности.</td>\n",
              "      <td>True</td>\n",
              "    </tr>\n",
              "    <tr>\n",
              "      <th>4</th>\n",
              "      <td>Новые клиенты</td>\n",
              "      <td>Первые шаги</td>\n",
              "      <td>Как скачать и настроить мобильное приложение?</td>\n",
              "      <td>новые клиенты</td>\n",
              "      <td>Мобильное приложение VTB mBank можно скачать в App Store для iOS или Google Play для Android. После установки войдите с логином и паролем от Интернет-банка и пройдите первоначальную настройку.</td>\n",
              "      <td>True</td>\n",
              "    </tr>\n",
              "  </tbody>\n",
              "</table>\n",
              "</div>"
            ],
            "text/plain": [
              "  Основная категория             Подкатегория  \\\n",
              "0      Новые клиенты  Регистрация и онбординг   \n",
              "1      Новые клиенты  Регистрация и онбординг   \n",
              "2      Новые клиенты  Регистрация и онбординг   \n",
              "3      Новые клиенты              Первые шаги   \n",
              "4      Новые клиенты              Первые шаги   \n",
              "\n",
              "                                                Пример вопроса  \\\n",
              "0                             Как стать клиентом банка онлайн?   \n",
              "1  Регистрация через МСИ (Межбанковская система идентификации)   \n",
              "2                     Документы для регистрации нового клиента   \n",
              "3                                  Первый вход в Интернет-банк   \n",
              "4                Как скачать и настроить мобильное приложение?   \n",
              "\n",
              "  Целевая аудитория  \\\n",
              "0     новые клиенты   \n",
              "1     новые клиенты   \n",
              "2     новые клиенты   \n",
              "3     новые клиенты   \n",
              "4     новые клиенты   \n",
              "\n",
              "                                                                                                                                                                                                                                                     Шаблонный ответ  \\\n",
              "0  Стать клиентом ВТБ (Беларусь) можно онлайн через сайт vtb.by или мобильное приложение VTB mBank. Для регистрации потребуется паспорт и номер телефона. После регистрации через МСИ (Межбанковскую систему идентификации) вы получите доступ к банковским услугам.   \n",
              "1                                                                                     МСИ позволяет пройти идентификацию онлайн, используя данные других банков, где вы уже являетесь клиентом. Это упрощает процедуру регистрации и делает её быстрой и безопасной.   \n",
              "2                                                                                                 Для регистрации в качестве нового клиента необходим паспорт гражданина Республики Беларусь и контактный номер мобильного телефона для получения SMS-подтверждений.   \n",
              "3                                                          После регистрации вы получите логин и пароль для входа в систему Интернет-банк. При первом входе рекомендуется изменить временный пароль на постоянный и настроить дополнительные параметры безопасности.   \n",
              "4                                                                   Мобильное приложение VTB mBank можно скачать в App Store для iOS или Google Play для Android. После установки войдите с логином и паролем от Интернет-банка и пройдите первоначальную настройку.   \n",
              "\n",
              "   is_original  \n",
              "0         True  \n",
              "1         True  \n",
              "2         True  \n",
              "3         True  \n",
              "4         True  "
            ]
          },
          "execution_count": 28,
          "metadata": {},
          "output_type": "execute_result"
        }
      ],
      "source": [
        "data_path = Path('../data/smart_support_vtb_belarus_faq_final.csv')\n",
        "# df = pd.read_csv(data_path)\n",
        "df = df_augmented\n",
        "\n",
        "print(f\"Размер датасета: {df.shape}\")\n",
        "print(f\"\\nКолонки: {list(df.columns)}\")\n",
        "print(f\"\\nПервые строки:\")\n",
        "df.head()\n"
      ]
    },
    {
      "cell_type": "code",
      "execution_count": null,
      "metadata": {},
      "outputs": [
        {
          "data": {
            "text/html": [
              "<pre style=\"white-space:pre;overflow-x:auto;line-height:normal;font-family:Menlo,'DejaVu Sans Mono',consolas,'Courier New',monospace\">Очищенный датасет: <span style=\"font-weight: bold\">(</span><span style=\"color: #008080; text-decoration-color: #008080; font-weight: bold\">233</span>, <span style=\"color: #008080; text-decoration-color: #008080; font-weight: bold\">6</span><span style=\"font-weight: bold\">)</span>\n",
              "</pre>\n"
            ],
            "text/plain": [
              "Очищенный датасет: \u001b[1m(\u001b[0m\u001b[1;36m233\u001b[0m, \u001b[1;36m6\u001b[0m\u001b[1m)\u001b[0m\n"
            ]
          },
          "metadata": {},
          "output_type": "display_data"
        },
        {
          "data": {
            "text/html": [
              "<div>\n",
              "<style scoped>\n",
              "    .dataframe tbody tr th:only-of-type {\n",
              "        vertical-align: middle;\n",
              "    }\n",
              "\n",
              "    .dataframe tbody tr th {\n",
              "        vertical-align: top;\n",
              "    }\n",
              "\n",
              "    .dataframe thead th {\n",
              "        text-align: right;\n",
              "    }\n",
              "</style>\n",
              "<table border=\"1\" class=\"dataframe\">\n",
              "  <thead>\n",
              "    <tr style=\"text-align: right;\">\n",
              "      <th></th>\n",
              "      <th>Основная категория</th>\n",
              "      <th>Подкатегория</th>\n",
              "      <th>Пример вопроса</th>\n",
              "      <th>Целевая аудитория</th>\n",
              "      <th>Шаблонный ответ</th>\n",
              "      <th>is_original</th>\n",
              "    </tr>\n",
              "  </thead>\n",
              "  <tbody>\n",
              "    <tr>\n",
              "      <th>0</th>\n",
              "      <td>Новые клиенты</td>\n",
              "      <td>Регистрация и онбординг</td>\n",
              "      <td>Как стать клиентом банка онлайн?</td>\n",
              "      <td>новые клиенты</td>\n",
              "      <td>Стать клиентом ВТБ (Беларусь) можно онлайн через сайт vtb.by или мобильное приложение VTB mBank. Для регистрации потребуется паспорт и номер телефона. После регистрации через МСИ (Межбанковскую систему идентификации) вы получите доступ к банковским услугам.</td>\n",
              "      <td>True</td>\n",
              "    </tr>\n",
              "    <tr>\n",
              "      <th>1</th>\n",
              "      <td>Новые клиенты</td>\n",
              "      <td>Регистрация и онбординг</td>\n",
              "      <td>Регистрация через МСИ (Межбанковская система идентификации)</td>\n",
              "      <td>новые клиенты</td>\n",
              "      <td>МСИ позволяет пройти идентификацию онлайн, используя данные других банков, где вы уже являетесь клиентом. Это упрощает процедуру регистрации и делает её быстрой и безопасной.</td>\n",
              "      <td>True</td>\n",
              "    </tr>\n",
              "    <tr>\n",
              "      <th>2</th>\n",
              "      <td>Новые клиенты</td>\n",
              "      <td>Регистрация и онбординг</td>\n",
              "      <td>Документы для регистрации нового клиента</td>\n",
              "      <td>новые клиенты</td>\n",
              "      <td>Для регистрации в качестве нового клиента необходим паспорт гражданина Республики Беларусь и контактный номер мобильного телефона для получения SMS-подтверждений.</td>\n",
              "      <td>True</td>\n",
              "    </tr>\n",
              "    <tr>\n",
              "      <th>3</th>\n",
              "      <td>Новые клиенты</td>\n",
              "      <td>Первые шаги</td>\n",
              "      <td>Первый вход в Интернет-банк</td>\n",
              "      <td>новые клиенты</td>\n",
              "      <td>После регистрации вы получите логин и пароль для входа в систему Интернет-банк. При первом входе рекомендуется изменить временный пароль на постоянный и настроить дополнительные параметры безопасности.</td>\n",
              "      <td>True</td>\n",
              "    </tr>\n",
              "    <tr>\n",
              "      <th>4</th>\n",
              "      <td>Новые клиенты</td>\n",
              "      <td>Первые шаги</td>\n",
              "      <td>Как скачать и настроить мобильное приложение?</td>\n",
              "      <td>новые клиенты</td>\n",
              "      <td>Мобильное приложение VTB mBank можно скачать в App Store для iOS или Google Play для Android. После установки войдите с логином и паролем от Интернет-банка и пройдите первоначальную настройку.</td>\n",
              "      <td>True</td>\n",
              "    </tr>\n",
              "  </tbody>\n",
              "</table>\n",
              "</div>"
            ],
            "text/plain": [
              "  Основная категория             Подкатегория  \\\n",
              "0      Новые клиенты  Регистрация и онбординг   \n",
              "1      Новые клиенты  Регистрация и онбординг   \n",
              "2      Новые клиенты  Регистрация и онбординг   \n",
              "3      Новые клиенты              Первые шаги   \n",
              "4      Новые клиенты              Первые шаги   \n",
              "\n",
              "                                                Пример вопроса  \\\n",
              "0                             Как стать клиентом банка онлайн?   \n",
              "1  Регистрация через МСИ (Межбанковская система идентификации)   \n",
              "2                     Документы для регистрации нового клиента   \n",
              "3                                  Первый вход в Интернет-банк   \n",
              "4                Как скачать и настроить мобильное приложение?   \n",
              "\n",
              "  Целевая аудитория  \\\n",
              "0     новые клиенты   \n",
              "1     новые клиенты   \n",
              "2     новые клиенты   \n",
              "3     новые клиенты   \n",
              "4     новые клиенты   \n",
              "\n",
              "                                                                                                                                                                                                                                                     Шаблонный ответ  \\\n",
              "0  Стать клиентом ВТБ (Беларусь) можно онлайн через сайт vtb.by или мобильное приложение VTB mBank. Для регистрации потребуется паспорт и номер телефона. После регистрации через МСИ (Межбанковскую систему идентификации) вы получите доступ к банковским услугам.   \n",
              "1                                                                                     МСИ позволяет пройти идентификацию онлайн, используя данные других банков, где вы уже являетесь клиентом. Это упрощает процедуру регистрации и делает её быстрой и безопасной.   \n",
              "2                                                                                                 Для регистрации в качестве нового клиента необходим паспорт гражданина Республики Беларусь и контактный номер мобильного телефона для получения SMS-подтверждений.   \n",
              "3                                                          После регистрации вы получите логин и пароль для входа в систему Интернет-банк. При первом входе рекомендуется изменить временный пароль на постоянный и настроить дополнительные параметры безопасности.   \n",
              "4                                                                   Мобильное приложение VTB mBank можно скачать в App Store для iOS или Google Play для Android. После установки войдите с логином и паролем от Интернет-банка и пройдите первоначальную настройку.   \n",
              "\n",
              "   is_original  \n",
              "0         True  \n",
              "1         True  \n",
              "2         True  \n",
              "3         True  \n",
              "4         True  "
            ]
          },
          "execution_count": 30,
          "metadata": {},
          "output_type": "execute_result"
        }
      ],
      "source": [
        "df_clean = df[['Основная категория', 'Подкатегория', 'Пример вопроса', 'Целевая аудитория', 'Шаблонный ответ']].copy()\n",
        "\n",
        "df_clean = df_clean.dropna(subset=['Пример вопроса', 'Шаблонный ответ'])\n",
        "\n",
        "df_clean['Стиль вопроса'] = None\n",
        "df_clean['is_original'] = True\n",
        "\n",
        "print(f\"Очищенный датасет: {df_clean.shape}\")\n",
        "df_clean.head()\n"
      ]
    },
    {
      "cell_type": "markdown",
      "metadata": {},
      "source": [
        "## 2. Анализ распределения по категориям\n"
      ]
    },
    {
      "cell_type": "code",
      "execution_count": 31,
      "metadata": {},
      "outputs": [
        {
          "data": {
            "text/html": [
              "<pre style=\"white-space:pre;overflow-x:auto;line-height:normal;font-family:Menlo,'DejaVu Sans Mono',consolas,'Courier New',monospace\">Распределение по основным категориям:\n",
              "</pre>\n"
            ],
            "text/plain": [
              "Распределение по основным категориям:\n"
            ]
          },
          "metadata": {},
          "output_type": "display_data"
        },
        {
          "data": {
            "text/html": [
              "<pre style=\"white-space:pre;overflow-x:auto;line-height:normal;font-family:Menlo,'DejaVu Sans Mono',consolas,'Courier New',monospace\">  Продукты - Карты: <span style=\"color: #008080; text-decoration-color: #008080; font-weight: bold\">64</span>\n",
              "</pre>\n"
            ],
            "text/plain": [
              "  Продукты - Карты: \u001b[1;36m64\u001b[0m\n"
            ]
          },
          "metadata": {},
          "output_type": "display_data"
        },
        {
          "data": {
            "text/html": [
              "<pre style=\"white-space:pre;overflow-x:auto;line-height:normal;font-family:Menlo,'DejaVu Sans Mono',consolas,'Courier New',monospace\">  Частные клиенты: <span style=\"color: #008080; text-decoration-color: #008080; font-weight: bold\">62</span>\n",
              "</pre>\n"
            ],
            "text/plain": [
              "  Частные клиенты: \u001b[1;36m62\u001b[0m\n"
            ]
          },
          "metadata": {},
          "output_type": "display_data"
        },
        {
          "data": {
            "text/html": [
              "<pre style=\"white-space:pre;overflow-x:auto;line-height:normal;font-family:Menlo,'DejaVu Sans Mono',consolas,'Courier New',monospace\">  Продукты - Кредиты: <span style=\"color: #008080; text-decoration-color: #008080; font-weight: bold\">46</span>\n",
              "</pre>\n"
            ],
            "text/plain": [
              "  Продукты - Кредиты: \u001b[1;36m46\u001b[0m\n"
            ]
          },
          "metadata": {},
          "output_type": "display_data"
        },
        {
          "data": {
            "text/html": [
              "<pre style=\"white-space:pre;overflow-x:auto;line-height:normal;font-family:Menlo,'DejaVu Sans Mono',consolas,'Courier New',monospace\">  Продукты - Вклады: <span style=\"color: #008080; text-decoration-color: #008080; font-weight: bold\">45</span>\n",
              "</pre>\n"
            ],
            "text/plain": [
              "  Продукты - Вклады: \u001b[1;36m45\u001b[0m\n"
            ]
          },
          "metadata": {},
          "output_type": "display_data"
        },
        {
          "data": {
            "text/html": [
              "<pre style=\"white-space:pre;overflow-x:auto;line-height:normal;font-family:Menlo,'DejaVu Sans Mono',consolas,'Courier New',monospace\">  Новые клиенты: <span style=\"color: #008080; text-decoration-color: #008080; font-weight: bold\">10</span>\n",
              "</pre>\n"
            ],
            "text/plain": [
              "  Новые клиенты: \u001b[1;36m10\u001b[0m\n"
            ]
          },
          "metadata": {},
          "output_type": "display_data"
        },
        {
          "data": {
            "text/html": [
              "<pre style=\"white-space:pre;overflow-x:auto;line-height:normal;font-family:Menlo,'DejaVu Sans Mono',consolas,'Courier New',monospace\">  Техническая поддержка: <span style=\"color: #008080; text-decoration-color: #008080; font-weight: bold\">6</span>\n",
              "</pre>\n"
            ],
            "text/plain": [
              "  Техническая поддержка: \u001b[1;36m6\u001b[0m\n"
            ]
          },
          "metadata": {},
          "output_type": "display_data"
        },
        {
          "data": {
            "image/png": "[encoded data removed]",
            "text/plain": [
              "<Figure size 1400x600 with 1 Axes>"
            ]
          },
          "metadata": {},
          "output_type": "display_data"
        }
      ],
      "source": [
        "category_counts = df_clean['Основная категория'].value_counts()\n",
        "\n",
        "print(\"Распределение по основным категориям:\")\n",
        "for cat, count in category_counts.items():\n",
        "    print(f\"  {cat}: {count}\")\n",
        "\n",
        "plt.figure(figsize=(14, 6))\n",
        "category_counts.plot(kind='bar')\n",
        "plt.title('Распределение вопросов по основным категориям')\n",
        "plt.xlabel('Категория')\n",
        "plt.ylabel('Количество вопросов')\n",
        "plt.xticks(rotation=45, ha='right')\n",
        "plt.tight_layout()\n",
        "plt.show()\n"
      ]
    },
    {
      "cell_type": "code",
      "execution_count": 32,
      "metadata": {},
      "outputs": [
        {
          "data": {
            "text/html": [
              "<pre style=\"white-space:pre;overflow-x:auto;line-height:normal;font-family:Menlo,'DejaVu Sans Mono',consolas,'Courier New',monospace\">\n",
              "Распределение по подкатегориям <span style=\"font-weight: bold\">(</span>топ <span style=\"color: #008080; text-decoration-color: #008080; font-weight: bold\">20</span><span style=\"font-weight: bold\">)</span>:\n",
              "</pre>\n"
            ],
            "text/plain": [
              "\n",
              "Распределение по подкатегориям \u001b[1m(\u001b[0mтоп \u001b[1;36m20\u001b[0m\u001b[1m)\u001b[0m:\n"
            ]
          },
          "metadata": {},
          "output_type": "display_data"
        },
        {
          "data": {
            "text/html": [
              "<pre style=\"white-space:pre;overflow-x:auto;line-height:normal;font-family:Menlo,'DejaVu Sans Mono',consolas,'Courier New',monospace\">       Основная категория                      Подкатегория  count\n",
              "<span style=\"color: #008080; text-decoration-color: #008080; font-weight: bold\">33</span>        Частные клиенты                           Кредиты     <span style=\"color: #008080; text-decoration-color: #008080; font-weight: bold\">22</span>\n",
              "<span style=\"color: #008080; text-decoration-color: #008080; font-weight: bold\">31</span>        Частные клиенты               Банковские карточки     <span style=\"color: #008080; text-decoration-color: #008080; font-weight: bold\">19</span>\n",
              "<span style=\"color: #008080; text-decoration-color: #008080; font-weight: bold\">32</span>        Частные клиенты                 Вклады и депозиты     <span style=\"color: #008080; text-decoration-color: #008080; font-weight: bold\">15</span>\n",
              "<span style=\"color: #008080; text-decoration-color: #008080; font-weight: bold\">17</span>       Продукты - Карты        Карты рассрочки - ЧЕРЕПАХА      <span style=\"color: #008080; text-decoration-color: #008080; font-weight: bold\">8</span>\n",
              "<span style=\"color: #008080; text-decoration-color: #008080; font-weight: bold\">12</span>       Продукты - Карты            Дебетовые карты - MORE      <span style=\"color: #008080; text-decoration-color: #008080; font-weight: bold\">8</span>\n",
              "<span style=\"color: #008080; text-decoration-color: #008080; font-weight: bold\">18</span>       Продукты - Карты         Кредитные карты - PLAT/ON      <span style=\"color: #008080; text-decoration-color: #008080; font-weight: bold\">7</span>\n",
              "<span style=\"color: #008080; text-decoration-color: #008080; font-weight: bold\">16</span>       Продукты - Карты          Карты рассрочки - КСТАТИ      <span style=\"color: #008080; text-decoration-color: #008080; font-weight: bold\">7</span>\n",
              "<span style=\"color: #008080; text-decoration-color: #008080; font-weight: bold\">15</span>       Продукты - Карты          Дебетовые карты - Форсаж      <span style=\"color: #008080; text-decoration-color: #008080; font-weight: bold\">7</span>\n",
              "<span style=\"color: #008080; text-decoration-color: #008080; font-weight: bold\">30</span>  Техническая поддержка                Проблемы и решения      <span style=\"color: #008080; text-decoration-color: #008080; font-weight: bold\">6</span>\n",
              "<span style=\"color: #008080; text-decoration-color: #008080; font-weight: bold\">26</span>     Продукты - Кредиты  Потребительские - На всё про всё      <span style=\"color: #008080; text-decoration-color: #008080; font-weight: bold\">6</span>\n",
              "<span style=\"color: #008080; text-decoration-color: #008080; font-weight: bold\">20</span>       Продукты - Карты    Кредитные карты - Портмоне <span style=\"color: #008080; text-decoration-color: #008080; font-weight: bold\">2.0</span>      <span style=\"color: #008080; text-decoration-color: #008080; font-weight: bold\">6</span>\n",
              "<span style=\"color: #008080; text-decoration-color: #008080; font-weight: bold\">14</span>       Продукты - Карты      Дебетовые карты - Комплимент      <span style=\"color: #008080; text-decoration-color: #008080; font-weight: bold\">6</span>\n",
              "<span style=\"color: #008080; text-decoration-color: #008080; font-weight: bold\">34</span>        Частные клиенты                    Онлайн-сервисы      <span style=\"color: #008080; text-decoration-color: #008080; font-weight: bold\">6</span>\n",
              "<span style=\"color: #008080; text-decoration-color: #008080; font-weight: bold\">13</span>       Продукты - Карты       Дебетовые карты - Signature      <span style=\"color: #008080; text-decoration-color: #008080; font-weight: bold\">5</span>\n",
              "<span style=\"color: #008080; text-decoration-color: #008080; font-weight: bold\">11</span>       Продукты - Карты        Дебетовые карты - Infinite      <span style=\"color: #008080; text-decoration-color: #008080; font-weight: bold\">5</span>\n",
              "<span style=\"color: #008080; text-decoration-color: #008080; font-weight: bold\">2</span>       Продукты - Вклады                    Валютные - CNY      <span style=\"color: #008080; text-decoration-color: #008080; font-weight: bold\">5</span>\n",
              "<span style=\"color: #008080; text-decoration-color: #008080; font-weight: bold\">3</span>       Продукты - Вклады                    Валютные - EUR      <span style=\"color: #008080; text-decoration-color: #008080; font-weight: bold\">5</span>\n",
              "<span style=\"color: #008080; text-decoration-color: #008080; font-weight: bold\">4</span>       Продукты - Вклады                    Валютные - RUB      <span style=\"color: #008080; text-decoration-color: #008080; font-weight: bold\">5</span>\n",
              "<span style=\"color: #008080; text-decoration-color: #008080; font-weight: bold\">5</span>       Продукты - Вклады                    Валютные - USD      <span style=\"color: #008080; text-decoration-color: #008080; font-weight: bold\">5</span>\n",
              "<span style=\"color: #008080; text-decoration-color: #008080; font-weight: bold\">29</span>     Продукты - Кредиты      Экспресс-кредиты - На роднае      <span style=\"color: #008080; text-decoration-color: #008080; font-weight: bold\">5</span>\n",
              "</pre>\n"
            ],
            "text/plain": [
              "       Основная категория                      Подкатегория  count\n",
              "\u001b[1;36m33\u001b[0m        Частные клиенты                           Кредиты     \u001b[1;36m22\u001b[0m\n",
              "\u001b[1;36m31\u001b[0m        Частные клиенты               Банковские карточки     \u001b[1;36m19\u001b[0m\n",
              "\u001b[1;36m32\u001b[0m        Частные клиенты                 Вклады и депозиты     \u001b[1;36m15\u001b[0m\n",
              "\u001b[1;36m17\u001b[0m       Продукты - Карты        Карты рассрочки - ЧЕРЕПАХА      \u001b[1;36m8\u001b[0m\n",
              "\u001b[1;36m12\u001b[0m       Продукты - Карты            Дебетовые карты - MORE      \u001b[1;36m8\u001b[0m\n",
              "\u001b[1;36m18\u001b[0m       Продукты - Карты         Кредитные карты - PLAT/ON      \u001b[1;36m7\u001b[0m\n",
              "\u001b[1;36m16\u001b[0m       Продукты - Карты          Карты рассрочки - КСТАТИ      \u001b[1;36m7\u001b[0m\n",
              "\u001b[1;36m15\u001b[0m       Продукты - Карты          Дебетовые карты - Форсаж      \u001b[1;36m7\u001b[0m\n",
              "\u001b[1;36m30\u001b[0m  Техническая поддержка                Проблемы и решения      \u001b[1;36m6\u001b[0m\n",
              "\u001b[1;36m26\u001b[0m     Продукты - Кредиты  Потребительские - На всё про всё      \u001b[1;36m6\u001b[0m\n",
              "\u001b[1;36m20\u001b[0m       Продукты - Карты    Кредитные карты - Портмоне \u001b[1;36m2.0\u001b[0m      \u001b[1;36m6\u001b[0m\n",
              "\u001b[1;36m14\u001b[0m       Продукты - Карты      Дебетовые карты - Комплимент      \u001b[1;36m6\u001b[0m\n",
              "\u001b[1;36m34\u001b[0m        Частные клиенты                    Онлайн-сервисы      \u001b[1;36m6\u001b[0m\n",
              "\u001b[1;36m13\u001b[0m       Продукты - Карты       Дебетовые карты - Signature      \u001b[1;36m5\u001b[0m\n",
              "\u001b[1;36m11\u001b[0m       Продукты - Карты        Дебетовые карты - Infinite      \u001b[1;36m5\u001b[0m\n",
              "\u001b[1;36m2\u001b[0m       Продукты - Вклады                    Валютные - CNY      \u001b[1;36m5\u001b[0m\n",
              "\u001b[1;36m3\u001b[0m       Продукты - Вклады                    Валютные - EUR      \u001b[1;36m5\u001b[0m\n",
              "\u001b[1;36m4\u001b[0m       Продукты - Вклады                    Валютные - RUB      \u001b[1;36m5\u001b[0m\n",
              "\u001b[1;36m5\u001b[0m       Продукты - Вклады                    Валютные - USD      \u001b[1;36m5\u001b[0m\n",
              "\u001b[1;36m29\u001b[0m     Продукты - Кредиты      Экспресс-кредиты - На роднае      \u001b[1;36m5\u001b[0m\n"
            ]
          },
          "metadata": {},
          "output_type": "display_data"
        },
        {
          "data": {
            "text/html": [
              "<pre style=\"white-space:pre;overflow-x:auto;line-height:normal;font-family:Menlo,'DejaVu Sans Mono',consolas,'Courier New',monospace\">\n",
              "Подкатегорий с ≤ <span style=\"color: #008080; text-decoration-color: #008080; font-weight: bold\">3</span> примерами: <span style=\"color: #008080; text-decoration-color: #008080; font-weight: bold\">0</span>\n",
              "</pre>\n"
            ],
            "text/plain": [
              "\n",
              "Подкатегорий с ≤ \u001b[1;36m3\u001b[0m примерами: \u001b[1;36m0\u001b[0m\n"
            ]
          },
          "metadata": {},
          "output_type": "display_data"
        },
        {
          "data": {
            "text/html": [
              "<pre style=\"white-space:pre;overflow-x:auto;line-height:normal;font-family:Menlo,'DejaVu Sans Mono',consolas,'Courier New',monospace\">Empty DataFrame\n",
              "Columns: <span style=\"font-weight: bold\">[</span>Основная категория, Подкатегория, count<span style=\"font-weight: bold\">]</span>\n",
              "Index: <span style=\"font-weight: bold\">[]</span>\n",
              "</pre>\n"
            ],
            "text/plain": [
              "Empty DataFrame\n",
              "Columns: \u001b[1m[\u001b[0mОсновная категория, Подкатегория, count\u001b[1m]\u001b[0m\n",
              "Index: \u001b[1m[\u001b[0m\u001b[1m]\u001b[0m\n"
            ]
          },
          "metadata": {},
          "output_type": "display_data"
        }
      ],
      "source": [
        "subcategory_counts = df_clean.groupby(['Основная категория', 'Подкатегория']).size().reset_index(name='count')\n",
        "subcategory_counts = subcategory_counts.sort_values('count', ascending=False)\n",
        "\n",
        "print(\"\\nРаспределение по подкатегориям (топ 20):\")\n",
        "print(subcategory_counts.head(20))\n",
        "\n",
        "subcategory_counts_bottom = subcategory_counts[subcategory_counts['count'] <= 3]\n",
        "print(f\"\\nПодкатегорий с ≤ 3 примерами: {len(subcategory_counts_bottom)}\")\n",
        "print(subcategory_counts_bottom)\n"
      ]
    },
    {
      "cell_type": "code",
      "execution_count": 33,
      "metadata": {},
      "outputs": [
        {
          "data": {
            "text/html": [
              "<pre style=\"white-space:pre;overflow-x:auto;line-height:normal;font-family:Menlo,'DejaVu Sans Mono',consolas,'Courier New',monospace\">\n",
              "Распределение по целевой аудитории:\n",
              "</pre>\n"
            ],
            "text/plain": [
              "\n",
              "Распределение по целевой аудитории:\n"
            ]
          },
          "metadata": {},
          "output_type": "display_data"
        },
        {
          "data": {
            "text/html": [
              "<pre style=\"white-space:pre;overflow-x:auto;line-height:normal;font-family:Menlo,'DejaVu Sans Mono',consolas,'Courier New',monospace\">Целевая аудитория\n",
              "новые клиенты    <span style=\"color: #008080; text-decoration-color: #008080; font-weight: bold\">179</span>\n",
              "все клиенты       <span style=\"color: #008080; text-decoration-color: #008080; font-weight: bold\">54</span>\n",
              "Name: count, dtype: int64\n",
              "</pre>\n"
            ],
            "text/plain": [
              "Целевая аудитория\n",
              "новые клиенты    \u001b[1;36m179\u001b[0m\n",
              "все клиенты       \u001b[1;36m54\u001b[0m\n",
              "Name: count, dtype: int64\n"
            ]
          },
          "metadata": {},
          "output_type": "display_data"
        }
      ],
      "source": [
        "audience_counts = df_clean['Целевая аудитория'].value_counts()\n",
        "print(\"\\nРаспределение по целевой аудитории:\")\n",
        "print(audience_counts)\n"
      ]
    },
    {
      "cell_type": "markdown",
      "metadata": {},
      "source": [
        "## 3. Определение категорий для аугментации\n"
      ]
    },
    {
      "cell_type": "code",
      "execution_count": 35,
      "metadata": {},
      "outputs": [
        {
          "data": {
            "text/html": [
              "<pre style=\"white-space:pre;overflow-x:auto;line-height:normal;font-family:Menlo,'DejaVu Sans Mono',consolas,'Courier New',monospace\">Категорий требующих аугментации: <span style=\"color: #008080; text-decoration-color: #008080; font-weight: bold\">32</span>\n",
              "</pre>\n"
            ],
            "text/plain": [
              "Категорий требующих аугментации: \u001b[1;36m32\u001b[0m\n"
            ]
          },
          "metadata": {},
          "output_type": "display_data"
        },
        {
          "data": {
            "text/html": [
              "<pre style=\"white-space:pre;overflow-x:auto;line-height:normal;font-family:Menlo,'DejaVu Sans Mono',consolas,'Courier New',monospace\">Всего нужно сгенерировать вопросов: <span style=\"color: #008080; text-decoration-color: #008080; font-weight: bold\">303</span>\n",
              "</pre>\n"
            ],
            "text/plain": [
              "Всего нужно сгенерировать вопросов: \u001b[1;36m303\u001b[0m\n"
            ]
          },
          "metadata": {},
          "output_type": "display_data"
        },
        {
          "data": {
            "text/html": [
              "<pre style=\"white-space:pre;overflow-x:auto;line-height:normal;font-family:Menlo,'DejaVu Sans Mono',consolas,'Courier New',monospace\">\n",
              "Детали:\n",
              "</pre>\n"
            ],
            "text/plain": [
              "\n",
              "Детали:\n"
            ]
          },
          "metadata": {},
          "output_type": "display_data"
        },
        {
          "data": {
            "text/html": [
              "<pre style=\"white-space:pre;overflow-x:auto;line-height:normal;font-family:Menlo,'DejaVu Sans Mono',consolas,'Courier New',monospace\">       Основная категория                              Подкатегория  count  \\\n",
              "<span style=\"color: #008080; text-decoration-color: #008080; font-weight: bold\">17</span>       Продукты - Карты                Карты рассрочки - ЧЕРЕПАХА      <span style=\"color: #008080; text-decoration-color: #008080; font-weight: bold\">8</span>   \n",
              "<span style=\"color: #008080; text-decoration-color: #008080; font-weight: bold\">12</span>       Продукты - Карты                    Дебетовые карты - MORE      <span style=\"color: #008080; text-decoration-color: #008080; font-weight: bold\">8</span>   \n",
              "<span style=\"color: #008080; text-decoration-color: #008080; font-weight: bold\">18</span>       Продукты - Карты                 Кредитные карты - PLAT/ON      <span style=\"color: #008080; text-decoration-color: #008080; font-weight: bold\">7</span>   \n",
              "<span style=\"color: #008080; text-decoration-color: #008080; font-weight: bold\">16</span>       Продукты - Карты                  Карты рассрочки - КСТАТИ      <span style=\"color: #008080; text-decoration-color: #008080; font-weight: bold\">7</span>   \n",
              "<span style=\"color: #008080; text-decoration-color: #008080; font-weight: bold\">15</span>       Продукты - Карты                  Дебетовые карты - Форсаж      <span style=\"color: #008080; text-decoration-color: #008080; font-weight: bold\">7</span>   \n",
              "<span style=\"color: #008080; text-decoration-color: #008080; font-weight: bold\">30</span>  Техническая поддержка                        Проблемы и решения      <span style=\"color: #008080; text-decoration-color: #008080; font-weight: bold\">6</span>   \n",
              "<span style=\"color: #008080; text-decoration-color: #008080; font-weight: bold\">26</span>     Продукты - Кредиты          Потребительские - На всё про всё      <span style=\"color: #008080; text-decoration-color: #008080; font-weight: bold\">6</span>   \n",
              "<span style=\"color: #008080; text-decoration-color: #008080; font-weight: bold\">20</span>       Продукты - Карты            Кредитные карты - Портмоне <span style=\"color: #008080; text-decoration-color: #008080; font-weight: bold\">2.0</span>      <span style=\"color: #008080; text-decoration-color: #008080; font-weight: bold\">6</span>   \n",
              "<span style=\"color: #008080; text-decoration-color: #008080; font-weight: bold\">14</span>       Продукты - Карты              Дебетовые карты - Комплимент      <span style=\"color: #008080; text-decoration-color: #008080; font-weight: bold\">6</span>   \n",
              "<span style=\"color: #008080; text-decoration-color: #008080; font-weight: bold\">34</span>        Частные клиенты                            Онлайн-сервисы      <span style=\"color: #008080; text-decoration-color: #008080; font-weight: bold\">6</span>   \n",
              "<span style=\"color: #008080; text-decoration-color: #008080; font-weight: bold\">13</span>       Продукты - Карты               Дебетовые карты - Signature      <span style=\"color: #008080; text-decoration-color: #008080; font-weight: bold\">5</span>   \n",
              "<span style=\"color: #008080; text-decoration-color: #008080; font-weight: bold\">11</span>       Продукты - Карты                Дебетовые карты - Infinite      <span style=\"color: #008080; text-decoration-color: #008080; font-weight: bold\">5</span>   \n",
              "<span style=\"color: #008080; text-decoration-color: #008080; font-weight: bold\">2</span>       Продукты - Вклады                            Валютные - CNY      <span style=\"color: #008080; text-decoration-color: #008080; font-weight: bold\">5</span>   \n",
              "<span style=\"color: #008080; text-decoration-color: #008080; font-weight: bold\">3</span>       Продукты - Вклады                            Валютные - EUR      <span style=\"color: #008080; text-decoration-color: #008080; font-weight: bold\">5</span>   \n",
              "<span style=\"color: #008080; text-decoration-color: #008080; font-weight: bold\">4</span>       Продукты - Вклады                            Валютные - RUB      <span style=\"color: #008080; text-decoration-color: #008080; font-weight: bold\">5</span>   \n",
              "<span style=\"color: #008080; text-decoration-color: #008080; font-weight: bold\">5</span>       Продукты - Вклады                            Валютные - USD      <span style=\"color: #008080; text-decoration-color: #008080; font-weight: bold\">5</span>   \n",
              "<span style=\"color: #008080; text-decoration-color: #008080; font-weight: bold\">29</span>     Продукты - Кредиты              Экспресс-кредиты - На роднае      <span style=\"color: #008080; text-decoration-color: #008080; font-weight: bold\">5</span>   \n",
              "<span style=\"color: #008080; text-decoration-color: #008080; font-weight: bold\">28</span>     Продукты - Кредиты  Экспресс-кредиты - В магазинах-партнерах      <span style=\"color: #008080; text-decoration-color: #008080; font-weight: bold\">5</span>   \n",
              "<span style=\"color: #008080; text-decoration-color: #008080; font-weight: bold\">27</span>     Продукты - Кредиты                   Потребительские - Старт      <span style=\"color: #008080; text-decoration-color: #008080; font-weight: bold\">5</span>   \n",
              "<span style=\"color: #008080; text-decoration-color: #008080; font-weight: bold\">6</span>       Продукты - Вклады                   Рублевые - Великий путь      <span style=\"color: #008080; text-decoration-color: #008080; font-weight: bold\">5</span>   \n",
              "<span style=\"color: #008080; text-decoration-color: #008080; font-weight: bold\">25</span>     Продукты - Кредиты           Потребительские - Легко платить      <span style=\"color: #008080; text-decoration-color: #008080; font-weight: bold\">5</span>   \n",
              "<span style=\"color: #008080; text-decoration-color: #008080; font-weight: bold\">24</span>     Продукты - Кредиты         Потребительские - Дальше - меньше      <span style=\"color: #008080; text-decoration-color: #008080; font-weight: bold\">5</span>   \n",
              "<span style=\"color: #008080; text-decoration-color: #008080; font-weight: bold\">23</span>     Продукты - Кредиты   Потребительские - Всё только начинается      <span style=\"color: #008080; text-decoration-color: #008080; font-weight: bold\">5</span>   \n",
              "<span style=\"color: #008080; text-decoration-color: #008080; font-weight: bold\">22</span>     Продукты - Кредиты           Онлайн кредиты - Проще в онлайн      <span style=\"color: #008080; text-decoration-color: #008080; font-weight: bold\">5</span>   \n",
              "<span style=\"color: #008080; text-decoration-color: #008080; font-weight: bold\">21</span>     Продукты - Кредиты       Автокредиты - Автокредит без залога      <span style=\"color: #008080; text-decoration-color: #008080; font-weight: bold\">5</span>   \n",
              "<span style=\"color: #008080; text-decoration-color: #008080; font-weight: bold\">7</span>       Продукты - Вклады                    Рублевые - Мои условия      <span style=\"color: #008080; text-decoration-color: #008080; font-weight: bold\">5</span>   \n",
              "<span style=\"color: #008080; text-decoration-color: #008080; font-weight: bold\">19</span>       Продукты - Карты                Кредитные карты - Отличник      <span style=\"color: #008080; text-decoration-color: #008080; font-weight: bold\">5</span>   \n",
              "<span style=\"color: #008080; text-decoration-color: #008080; font-weight: bold\">8</span>       Продукты - Вклады             Рублевые - Мои условия онлайн      <span style=\"color: #008080; text-decoration-color: #008080; font-weight: bold\">5</span>   \n",
              "<span style=\"color: #008080; text-decoration-color: #008080; font-weight: bold\">1</span>           Новые клиенты                   Регистрация и онбординг      <span style=\"color: #008080; text-decoration-color: #008080; font-weight: bold\">5</span>   \n",
              "<span style=\"color: #008080; text-decoration-color: #008080; font-weight: bold\">9</span>       Продукты - Вклады           Рублевые - Подушка безопасности      <span style=\"color: #008080; text-decoration-color: #008080; font-weight: bold\">5</span>   \n",
              "<span style=\"color: #008080; text-decoration-color: #008080; font-weight: bold\">10</span>      Продукты - Вклады                      Рублевые - СуперСемь      <span style=\"color: #008080; text-decoration-color: #008080; font-weight: bold\">5</span>   \n",
              "<span style=\"color: #008080; text-decoration-color: #008080; font-weight: bold\">0</span>           Новые клиенты                               Первые шаги      <span style=\"color: #008080; text-decoration-color: #008080; font-weight: bold\">5</span>   \n",
              "\n",
              "    samples_to_generate  \n",
              "<span style=\"color: #008080; text-decoration-color: #008080; font-weight: bold\">17</span>                    <span style=\"color: #008080; text-decoration-color: #008080; font-weight: bold\">7</span>  \n",
              "<span style=\"color: #008080; text-decoration-color: #008080; font-weight: bold\">12</span>                    <span style=\"color: #008080; text-decoration-color: #008080; font-weight: bold\">7</span>  \n",
              "<span style=\"color: #008080; text-decoration-color: #008080; font-weight: bold\">18</span>                    <span style=\"color: #008080; text-decoration-color: #008080; font-weight: bold\">8</span>  \n",
              "<span style=\"color: #008080; text-decoration-color: #008080; font-weight: bold\">16</span>                    <span style=\"color: #008080; text-decoration-color: #008080; font-weight: bold\">8</span>  \n",
              "<span style=\"color: #008080; text-decoration-color: #008080; font-weight: bold\">15</span>                    <span style=\"color: #008080; text-decoration-color: #008080; font-weight: bold\">8</span>  \n",
              "<span style=\"color: #008080; text-decoration-color: #008080; font-weight: bold\">30</span>                    <span style=\"color: #008080; text-decoration-color: #008080; font-weight: bold\">9</span>  \n",
              "<span style=\"color: #008080; text-decoration-color: #008080; font-weight: bold\">26</span>                    <span style=\"color: #008080; text-decoration-color: #008080; font-weight: bold\">9</span>  \n",
              "<span style=\"color: #008080; text-decoration-color: #008080; font-weight: bold\">20</span>                    <span style=\"color: #008080; text-decoration-color: #008080; font-weight: bold\">9</span>  \n",
              "<span style=\"color: #008080; text-decoration-color: #008080; font-weight: bold\">14</span>                    <span style=\"color: #008080; text-decoration-color: #008080; font-weight: bold\">9</span>  \n",
              "<span style=\"color: #008080; text-decoration-color: #008080; font-weight: bold\">34</span>                    <span style=\"color: #008080; text-decoration-color: #008080; font-weight: bold\">9</span>  \n",
              "<span style=\"color: #008080; text-decoration-color: #008080; font-weight: bold\">13</span>                   <span style=\"color: #008080; text-decoration-color: #008080; font-weight: bold\">10</span>  \n",
              "<span style=\"color: #008080; text-decoration-color: #008080; font-weight: bold\">11</span>                   <span style=\"color: #008080; text-decoration-color: #008080; font-weight: bold\">10</span>  \n",
              "<span style=\"color: #008080; text-decoration-color: #008080; font-weight: bold\">2</span>                    <span style=\"color: #008080; text-decoration-color: #008080; font-weight: bold\">10</span>  \n",
              "<span style=\"color: #008080; text-decoration-color: #008080; font-weight: bold\">3</span>                    <span style=\"color: #008080; text-decoration-color: #008080; font-weight: bold\">10</span>  \n",
              "<span style=\"color: #008080; text-decoration-color: #008080; font-weight: bold\">4</span>                    <span style=\"color: #008080; text-decoration-color: #008080; font-weight: bold\">10</span>  \n",
              "<span style=\"color: #008080; text-decoration-color: #008080; font-weight: bold\">5</span>                    <span style=\"color: #008080; text-decoration-color: #008080; font-weight: bold\">10</span>  \n",
              "<span style=\"color: #008080; text-decoration-color: #008080; font-weight: bold\">29</span>                   <span style=\"color: #008080; text-decoration-color: #008080; font-weight: bold\">10</span>  \n",
              "<span style=\"color: #008080; text-decoration-color: #008080; font-weight: bold\">28</span>                   <span style=\"color: #008080; text-decoration-color: #008080; font-weight: bold\">10</span>  \n",
              "<span style=\"color: #008080; text-decoration-color: #008080; font-weight: bold\">27</span>                   <span style=\"color: #008080; text-decoration-color: #008080; font-weight: bold\">10</span>  \n",
              "<span style=\"color: #008080; text-decoration-color: #008080; font-weight: bold\">6</span>                    <span style=\"color: #008080; text-decoration-color: #008080; font-weight: bold\">10</span>  \n",
              "<span style=\"color: #008080; text-decoration-color: #008080; font-weight: bold\">25</span>                   <span style=\"color: #008080; text-decoration-color: #008080; font-weight: bold\">10</span>  \n",
              "<span style=\"color: #008080; text-decoration-color: #008080; font-weight: bold\">24</span>                   <span style=\"color: #008080; text-decoration-color: #008080; font-weight: bold\">10</span>  \n",
              "<span style=\"color: #008080; text-decoration-color: #008080; font-weight: bold\">23</span>                   <span style=\"color: #008080; text-decoration-color: #008080; font-weight: bold\">10</span>  \n",
              "<span style=\"color: #008080; text-decoration-color: #008080; font-weight: bold\">22</span>                   <span style=\"color: #008080; text-decoration-color: #008080; font-weight: bold\">10</span>  \n",
              "<span style=\"color: #008080; text-decoration-color: #008080; font-weight: bold\">21</span>                   <span style=\"color: #008080; text-decoration-color: #008080; font-weight: bold\">10</span>  \n",
              "<span style=\"color: #008080; text-decoration-color: #008080; font-weight: bold\">7</span>                    <span style=\"color: #008080; text-decoration-color: #008080; font-weight: bold\">10</span>  \n",
              "<span style=\"color: #008080; text-decoration-color: #008080; font-weight: bold\">19</span>                   <span style=\"color: #008080; text-decoration-color: #008080; font-weight: bold\">10</span>  \n",
              "<span style=\"color: #008080; text-decoration-color: #008080; font-weight: bold\">8</span>                    <span style=\"color: #008080; text-decoration-color: #008080; font-weight: bold\">10</span>  \n",
              "<span style=\"color: #008080; text-decoration-color: #008080; font-weight: bold\">1</span>                    <span style=\"color: #008080; text-decoration-color: #008080; font-weight: bold\">10</span>  \n",
              "<span style=\"color: #008080; text-decoration-color: #008080; font-weight: bold\">9</span>                    <span style=\"color: #008080; text-decoration-color: #008080; font-weight: bold\">10</span>  \n",
              "<span style=\"color: #008080; text-decoration-color: #008080; font-weight: bold\">10</span>                   <span style=\"color: #008080; text-decoration-color: #008080; font-weight: bold\">10</span>  \n",
              "<span style=\"color: #008080; text-decoration-color: #008080; font-weight: bold\">0</span>                    <span style=\"color: #008080; text-decoration-color: #008080; font-weight: bold\">10</span>  \n",
              "</pre>\n"
            ],
            "text/plain": [
              "       Основная категория                              Подкатегория  count  \\\n",
              "\u001b[1;36m17\u001b[0m       Продукты - Карты                Карты рассрочки - ЧЕРЕПАХА      \u001b[1;36m8\u001b[0m   \n",
              "\u001b[1;36m12\u001b[0m       Продукты - Карты                    Дебетовые карты - MORE      \u001b[1;36m8\u001b[0m   \n",
              "\u001b[1;36m18\u001b[0m       Продукты - Карты                 Кредитные карты - PLAT/ON      \u001b[1;36m7\u001b[0m   \n",
              "\u001b[1;36m16\u001b[0m       Продукты - Карты                  Карты рассрочки - КСТАТИ      \u001b[1;36m7\u001b[0m   \n",
              "\u001b[1;36m15\u001b[0m       Продукты - Карты                  Дебетовые карты - Форсаж      \u001b[1;36m7\u001b[0m   \n",
              "\u001b[1;36m30\u001b[0m  Техническая поддержка                        Проблемы и решения      \u001b[1;36m6\u001b[0m   \n",
              "\u001b[1;36m26\u001b[0m     Продукты - Кредиты          Потребительские - На всё про всё      \u001b[1;36m6\u001b[0m   \n",
              "\u001b[1;36m20\u001b[0m       Продукты - Карты            Кредитные карты - Портмоне \u001b[1;36m2.0\u001b[0m      \u001b[1;36m6\u001b[0m   \n",
              "\u001b[1;36m14\u001b[0m       Продукты - Карты              Дебетовые карты - Комплимент      \u001b[1;36m6\u001b[0m   \n",
              "\u001b[1;36m34\u001b[0m        Частные клиенты                            Онлайн-сервисы      \u001b[1;36m6\u001b[0m   \n",
              "\u001b[1;36m13\u001b[0m       Продукты - Карты               Дебетовые карты - Signature      \u001b[1;36m5\u001b[0m   \n",
              "\u001b[1;36m11\u001b[0m       Продукты - Карты                Дебетовые карты - Infinite      \u001b[1;36m5\u001b[0m   \n",
              "\u001b[1;36m2\u001b[0m       Продукты - Вклады                            Валютные - CNY      \u001b[1;36m5\u001b[0m   \n",
              "\u001b[1;36m3\u001b[0m       Продукты - Вклады                            Валютные - EUR      \u001b[1;36m5\u001b[0m   \n",
              "\u001b[1;36m4\u001b[0m       Продукты - Вклады                            Валютные - RUB      \u001b[1;36m5\u001b[0m   \n",
              "\u001b[1;36m5\u001b[0m       Продукты - Вклады                            Валютные - USD      \u001b[1;36m5\u001b[0m   \n",
              "\u001b[1;36m29\u001b[0m     Продукты - Кредиты              Экспресс-кредиты - На роднае      \u001b[1;36m5\u001b[0m   \n",
              "\u001b[1;36m28\u001b[0m     Продукты - Кредиты  Экспресс-кредиты - В магазинах-партнерах      \u001b[1;36m5\u001b[0m   \n",
              "\u001b[1;36m27\u001b[0m     Продукты - Кредиты                   Потребительские - Старт      \u001b[1;36m5\u001b[0m   \n",
              "\u001b[1;36m6\u001b[0m       Продукты - Вклады                   Рублевые - Великий путь      \u001b[1;36m5\u001b[0m   \n",
              "\u001b[1;36m25\u001b[0m     Продукты - Кредиты           Потребительские - Легко платить      \u001b[1;36m5\u001b[0m   \n",
              "\u001b[1;36m24\u001b[0m     Продукты - Кредиты         Потребительские - Дальше - меньше      \u001b[1;36m5\u001b[0m   \n",
              "\u001b[1;36m23\u001b[0m     Продукты - Кредиты   Потребительские - Всё только начинается      \u001b[1;36m5\u001b[0m   \n",
              "\u001b[1;36m22\u001b[0m     Продукты - Кредиты           Онлайн кредиты - Проще в онлайн      \u001b[1;36m5\u001b[0m   \n",
              "\u001b[1;36m21\u001b[0m     Продукты - Кредиты       Автокредиты - Автокредит без залога      \u001b[1;36m5\u001b[0m   \n",
              "\u001b[1;36m7\u001b[0m       Продукты - Вклады                    Рублевые - Мои условия      \u001b[1;36m5\u001b[0m   \n",
              "\u001b[1;36m19\u001b[0m       Продукты - Карты                Кредитные карты - Отличник      \u001b[1;36m5\u001b[0m   \n",
              "\u001b[1;36m8\u001b[0m       Продукты - Вклады             Рублевые - Мои условия онлайн      \u001b[1;36m5\u001b[0m   \n",
              "\u001b[1;36m1\u001b[0m           Новые клиенты                   Регистрация и онбординг      \u001b[1;36m5\u001b[0m   \n",
              "\u001b[1;36m9\u001b[0m       Продукты - Вклады           Рублевые - Подушка безопасности      \u001b[1;36m5\u001b[0m   \n",
              "\u001b[1;36m10\u001b[0m      Продукты - Вклады                      Рублевые - СуперСемь      \u001b[1;36m5\u001b[0m   \n",
              "\u001b[1;36m0\u001b[0m           Новые клиенты                               Первые шаги      \u001b[1;36m5\u001b[0m   \n",
              "\n",
              "    samples_to_generate  \n",
              "\u001b[1;36m17\u001b[0m                    \u001b[1;36m7\u001b[0m  \n",
              "\u001b[1;36m12\u001b[0m                    \u001b[1;36m7\u001b[0m  \n",
              "\u001b[1;36m18\u001b[0m                    \u001b[1;36m8\u001b[0m  \n",
              "\u001b[1;36m16\u001b[0m                    \u001b[1;36m8\u001b[0m  \n",
              "\u001b[1;36m15\u001b[0m                    \u001b[1;36m8\u001b[0m  \n",
              "\u001b[1;36m30\u001b[0m                    \u001b[1;36m9\u001b[0m  \n",
              "\u001b[1;36m26\u001b[0m                    \u001b[1;36m9\u001b[0m  \n",
              "\u001b[1;36m20\u001b[0m                    \u001b[1;36m9\u001b[0m  \n",
              "\u001b[1;36m14\u001b[0m                    \u001b[1;36m9\u001b[0m  \n",
              "\u001b[1;36m34\u001b[0m                    \u001b[1;36m9\u001b[0m  \n",
              "\u001b[1;36m13\u001b[0m                   \u001b[1;36m10\u001b[0m  \n",
              "\u001b[1;36m11\u001b[0m                   \u001b[1;36m10\u001b[0m  \n",
              "\u001b[1;36m2\u001b[0m                    \u001b[1;36m10\u001b[0m  \n",
              "\u001b[1;36m3\u001b[0m                    \u001b[1;36m10\u001b[0m  \n",
              "\u001b[1;36m4\u001b[0m                    \u001b[1;36m10\u001b[0m  \n",
              "\u001b[1;36m5\u001b[0m                    \u001b[1;36m10\u001b[0m  \n",
              "\u001b[1;36m29\u001b[0m                   \u001b[1;36m10\u001b[0m  \n",
              "\u001b[1;36m28\u001b[0m                   \u001b[1;36m10\u001b[0m  \n",
              "\u001b[1;36m27\u001b[0m                   \u001b[1;36m10\u001b[0m  \n",
              "\u001b[1;36m6\u001b[0m                    \u001b[1;36m10\u001b[0m  \n",
              "\u001b[1;36m25\u001b[0m                   \u001b[1;36m10\u001b[0m  \n",
              "\u001b[1;36m24\u001b[0m                   \u001b[1;36m10\u001b[0m  \n",
              "\u001b[1;36m23\u001b[0m                   \u001b[1;36m10\u001b[0m  \n",
              "\u001b[1;36m22\u001b[0m                   \u001b[1;36m10\u001b[0m  \n",
              "\u001b[1;36m21\u001b[0m                   \u001b[1;36m10\u001b[0m  \n",
              "\u001b[1;36m7\u001b[0m                    \u001b[1;36m10\u001b[0m  \n",
              "\u001b[1;36m19\u001b[0m                   \u001b[1;36m10\u001b[0m  \n",
              "\u001b[1;36m8\u001b[0m                    \u001b[1;36m10\u001b[0m  \n",
              "\u001b[1;36m1\u001b[0m                    \u001b[1;36m10\u001b[0m  \n",
              "\u001b[1;36m9\u001b[0m                    \u001b[1;36m10\u001b[0m  \n",
              "\u001b[1;36m10\u001b[0m                   \u001b[1;36m10\u001b[0m  \n",
              "\u001b[1;36m0\u001b[0m                    \u001b[1;36m10\u001b[0m  \n"
            ]
          },
          "metadata": {},
          "output_type": "display_data"
        }
      ],
      "source": [
        "MIN_SAMPLES_PER_SUBCATEGORY = 15\n",
        "\n",
        "categories_need_augmentation = subcategory_counts[subcategory_counts['count'] < MIN_SAMPLES_PER_SUBCATEGORY].copy()\n",
        "categories_need_augmentation['samples_to_generate'] = MIN_SAMPLES_PER_SUBCATEGORY - categories_need_augmentation['count']\n",
        "\n",
        "print(f\"Категорий требующих аугментации: {len(categories_need_augmentation)}\")\n",
        "print(f\"Всего нужно сгенерировать вопросов: {categories_need_augmentation['samples_to_generate'].sum()}\")\n",
        "print(\"\\nДетали:\")\n",
        "print(categories_need_augmentation)\n"
      ]
    },
    {
      "cell_type": "markdown",
      "metadata": {},
      "source": [
        "## 4. Генерация синтетических вопросов\n"
      ]
    },
    {
      "cell_type": "code",
      "execution_count": 58,
      "metadata": {},
      "outputs": [],
      "source": [
        "from pydantic import BaseModel, Field\n",
        "from typing import Literal\n",
        "import openai\n",
        "import instructor\n",
        "from asyncio import Semaphore\n",
        "from tqdm.asyncio import tqdm_asyncio\n",
        "import asyncio\n",
        "from tenacity import retry, stop_after_attempt, wait_fixed\n",
        "from dotenv import load_dotenv\n",
        "import os\n",
        "\n",
        "load_dotenv()\n",
        "\n",
        "class SyntheticQuestion(BaseModel):\n",
        "    question: str = Field(description=\"Сгенерированный вопрос на русском языке\")\n",
        "    style: Literal[\"Жаргонный\", \"Технический жаргон\", \"Сленговый\", \"Официальный\"] = Field(\n",
        "        description=\"Стиль вопроса\"\n",
        "    )\n",
        "    reasoning: str = Field(description=\"Обоснование почему этот вопрос релевантен и почему выбран такой стиль\")\n",
        "\n",
        "class QuestionBatch(BaseModel):\n",
        "    questions: list[SyntheticQuestion] = Field(description=\"Список сгенерированных вопросов\")\n"
      ]
    },
    {
      "cell_type": "code",
      "execution_count": null,
      "metadata": {},
      "outputs": [],
      "source": [
        "client = instructor.from_openai(openai.AsyncOpenAI())\n",
        "\n",
        "    # \"Используйте другие формулировки и синонимы\",\n",
        "    # \"Добавьте конкретный контекст или ситуацию\",\n",
        "    # \"Сделайте вопрос более детальным с уточнениями\",\n",
        "    # \"Используйте разговорный стиль\",\n",
        "    # \"Сформулируйте вопрос от лица клиента с конкретной проблемой\"\n",
        "\n",
        "\n",
        "constraints = [\n",
        "    \"Используй разговорный стиль с сокращениями (типа 'не понял как', 'чё делать', 'а если')\",\n",
        "    \"Добавь эмоциональную окраску: раздражение или недовольство (например 'опять', 'уже замучился', 'почему всегда')\",\n",
        "    \"Используй неуверенность или растерянность ('не пойму', 'запутался', 'не могу разобраться')\",\n",
        "    \"Добавь срочность или беспокойство ('срочно нужно', 'что делать!', 'помогите')\",\n",
        "    \"Используй неформальный сленг и упрощенные фразы ('бабки', 'кэш', 'инет', 'чек', 'терик')\",\n",
        "    \"Сформулируй от лица пожилого человека с непониманием технологий\",\n",
        "    \"Добавь разговорные конструкции ('ну и как мне', 'а можно так', 'типа если я')\",\n",
        "    \"Используй вопрос с предысторией или конкретной бытовой ситуацией\",\n",
        "    \"Добавь удивление или недоумение ('Серьезно?!', 'И что теперь?', 'не может быть')\",\n",
        "    \"Используй молодежный сленг и упрощения ('прога', 'апп', 'забанили', 'зачислить')\",\n",
        "    \"Сформулируй максимально коротко и неполными предложениями\",\n",
        "    \"Добавь благодарность или вежливость наперед ('подскажите пожалуйста', 'будьте добры')\"\n",
        "]\n",
        "\n",
        "@retry(stop=stop_after_attempt(3), wait=wait_fixed(5))\n",
        "async def generate_questions_for_category(\n",
        "    category: str,\n",
        "    subcategory: str,\n",
        "    existing_questions: list[str],\n",
        "    template_answer: str,\n",
        "    num_questions: int,\n",
        "    sem: Semaphore\n",
        ") -> list[SyntheticQuestion]:\n",
        "    async with sem:\n",
        "        import random\n",
        "        selected_constraints = random.sample(constraints, min(3, len(constraints)))\n",
        "        \n",
        "        coro = client.chat.completions.create(\n",
        "            model=\"gpt-4o-mini\",\n",
        "            messages=[\n",
        "                {\n",
        "                    \"role\": \"system\",\n",
        "                    \"content\": \"\"\"Ты помощник, который генерирует РЕАЛИСТИЧНЫЕ вопросы для FAQ банка ВТБ (Беларусь). \n",
        "Вопросы должны звучать так, как РЕАЛЬНО спрашивают люди в техподдержку - с эмоциями, сленгом, неточностями.\n",
        "НЕ используй официальный банковский язык. Пиши как обычные люди говорят в жизни.\"\"\"\n",
        "                },\n",
        "                {\n",
        "                    \"role\": \"user\",\n",
        "                    \"content\": f\"\"\"\n",
        "Сгенерируй {num_questions} ЕСТЕСТВЕННЫХ вопроса для категории:\n",
        "\n",
        "Категория: {category}\n",
        "Подкатегория: {subcategory}\n",
        "\n",
        "Шаблонный ответ (для контекста):\n",
        "{template_answer[:300]}...\n",
        "\n",
        "Примеры уже существующих вопросов (НЕ копируй их!):\n",
        "{chr(10).join(f'- {q}' for q in existing_questions[:3])}\n",
        "\n",
        "ВАЖНЫЕ ПРАВИЛА:\n",
        "- Вопросы должны звучать ЕСТЕСТВЕННО, как говорят люди в жизни\n",
        "- Используй разговорный язык, сленг, эмоции\n",
        "- Формулировки должны быть МЕНЕЕ очевидными, непрямыми\n",
        "- Добавляй контекст из жизни (\"купил квартиру\", \"потерял телефон\", \"еду в отпуск\")\n",
        "- Можно использовать неполные предложения, разговорные обороты\n",
        "- Применяй эти стили: {', '.join(selected_constraints)}\n",
        "- Длина: 1-2 предложения или даже отрывистые фразы\n",
        "- Вопросы ОБЯЗАТЕЛЬНО должны относиться к теме и ответу\n",
        "\n",
        "СТИЛИ ВОПРОСОВ (определи для каждого вопроса):\n",
        "- \"Жаргонный\" - использует банковский/финансовый жаргон обычных людей (\"бабки\", \"кэш\", \"налик\", \"безнал\", \"пластик\")\n",
        "- \"Технический жаргон\" - использует IT и технические термины (\"апп\", \"прога\", \"логин\", \"пуш\", \"смс-ка\", \"юзать\")\n",
        "- \"Сленговый\" - молодежный или разговорный сленг, эмоции (\"чё\", \"типа\", \"забанили\", \"облом\", \"капец\")\n",
        "- \"Официальный\" - нейтральный, вежливый тон без жаргона и сленга (\"подскажите пожалуйста\", \"как можно\", \"не могли бы вы\")\n",
        "\n",
        "ПРИМЕРЫ по стилям:\n",
        "Жаргонный: \"А где мои бабки? Переводил налик на карту вчера\"\n",
        "Технический жаргон: \"Апп вылетает когда логинюсь через биометрию, что делать?\"\n",
        "Сленговый: \"Чё за фигня, карта не проходит опять, замучили уже!\"\n",
        "Официальный: \"Подскажите пожалуйста, как можно восстановить доступ к личному кабинету?\"\n",
        "\n",
        "Создавай РАЗНООБРАЗИЕ - используй разные стили!\n",
        "\"\"\"\n",
        "                }\n",
        "            ],\n",
        "            response_model=QuestionBatch,\n",
        "        )\n",
        "        \n",
        "        resp = await asyncio.wait_for(coro, timeout=60)\n",
        "        return resp.questions\n"
      ]
    },
    {
      "cell_type": "code",
      "execution_count": null,
      "metadata": {},
      "outputs": [
        {
          "data": {
            "text/html": [
              "<pre style=\"white-space:pre;overflow-x:auto;line-height:normal;font-family:Menlo,'DejaVu Sans Mono',consolas,'Courier New',monospace\">Категория: Новые клиенты\n",
              "</pre>\n"
            ],
            "text/plain": [
              "Категория: Новые клиенты\n"
            ]
          },
          "metadata": {},
          "output_type": "display_data"
        },
        {
          "data": {
            "text/html": [
              "<pre style=\"white-space:pre;overflow-x:auto;line-height:normal;font-family:Menlo,'DejaVu Sans Mono',consolas,'Courier New',monospace\">Подкатегория: Регистрация и онбординг\n",
              "</pre>\n"
            ],
            "text/plain": [
              "Подкатегория: Регистрация и онбординг\n"
            ]
          },
          "metadata": {},
          "output_type": "display_data"
        },
        {
          "data": {
            "text/html": [
              "<pre style=\"white-space:pre;overflow-x:auto;line-height:normal;font-family:Menlo,'DejaVu Sans Mono',consolas,'Courier New',monospace\">Пример вопроса: Как стать клиентом банка онлайн?\n",
              "</pre>\n"
            ],
            "text/plain": [
              "Пример вопроса: Как стать клиентом банка онлайн?\n"
            ]
          },
          "metadata": {},
          "output_type": "display_data"
        },
        {
          "data": {
            "text/html": [
              "<pre style=\"white-space:pre;overflow-x:auto;line-height:normal;font-family:Menlo,'DejaVu Sans Mono',consolas,'Courier New',monospace\">\n",
              "Ответ: Стать клиентом ВТБ <span style=\"font-weight: bold\">(</span>Беларусь<span style=\"font-weight: bold\">)</span> можно онлайн через сайт vtb.by или мобильное приложение VTB mBank. Для \n",
              "регистрации потребуется паспорт и номер телефона. После регистрации через МСИ <span style=\"font-weight: bold\">(</span>Межбанковскую систем<span style=\"color: #808000; text-decoration-color: #808000\">...</span>\n",
              "</pre>\n"
            ],
            "text/plain": [
              "\n",
              "Ответ: Стать клиентом ВТБ \u001b[1m(\u001b[0mБеларусь\u001b[1m)\u001b[0m можно онлайн через сайт vtb.by или мобильное приложение VTB mBank. Для \n",
              "регистрации потребуется паспорт и номер телефона. После регистрации через МСИ \u001b[1m(\u001b[0mМежбанковскую систем\u001b[33m...\u001b[0m\n"
            ]
          },
          "metadata": {},
          "output_type": "display_data"
        },
        {
          "data": {
            "text/html": [
              "<pre style=\"white-space:pre;overflow-x:auto;line-height:normal;font-family:Menlo,'DejaVu Sans Mono',consolas,'Courier New',monospace\">\n",
              "Сгенерированные вопросы:\n",
              "</pre>\n"
            ],
            "text/plain": [
              "\n",
              "Сгенерированные вопросы:\n"
            ]
          },
          "metadata": {},
          "output_type": "display_data"
        },
        {
          "data": {
            "text/html": [
              "<pre style=\"white-space:pre;overflow-x:auto;line-height:normal;font-family:Menlo,'DejaVu Sans Mono',consolas,'Courier New',monospace\">\n",
              "<span style=\"color: #008080; text-decoration-color: #008080; font-weight: bold\">1</span>. Ну и как мне зарегистрироваться в вашем банке, если я только заменил паспорт и он ещё не готов?\n",
              "</pre>\n"
            ],
            "text/plain": [
              "\n",
              "\u001b[1;36m1\u001b[0m. Ну и как мне зарегистрироваться в вашем банке, если я только заменил паспорт и он ещё не готов?\n"
            ]
          },
          "metadata": {},
          "output_type": "display_data"
        },
        {
          "data": {
            "text/html": [
              "<pre style=\"white-space:pre;overflow-x:auto;line-height:normal;font-family:Menlo,'DejaVu Sans Mono',consolas,'Courier New',monospace\">   Обоснование: Возникает ситуация, когда у клиента есть паспорт, но он ждёт его замены, и стоит вопрос о \n",
              "регистрации.\n",
              "</pre>\n"
            ],
            "text/plain": [
              "   Обоснование: Возникает ситуация, когда у клиента есть паспорт, но он ждёт его замены, и стоит вопрос о \n",
              "регистрации.\n"
            ]
          },
          "metadata": {},
          "output_type": "display_data"
        },
        {
          "data": {
            "text/html": [
              "<pre style=\"white-space:pre;overflow-x:auto;line-height:normal;font-family:Menlo,'DejaVu Sans Mono',consolas,'Courier New',monospace\">\n",
              "<span style=\"color: #008080; text-decoration-color: #008080; font-weight: bold\">2</span>. Что делать, если я в отпуске, а нужно срочно открыть счёт?\n",
              "</pre>\n"
            ],
            "text/plain": [
              "\n",
              "\u001b[1;36m2\u001b[0m. Что делать, если я в отпуске, а нужно срочно открыть счёт?\n"
            ]
          },
          "metadata": {},
          "output_type": "display_data"
        },
        {
          "data": {
            "text/html": [
              "<pre style=\"white-space:pre;overflow-x:auto;line-height:normal;font-family:Menlo,'DejaVu Sans Mono',consolas,'Courier New',monospace\">   Обоснование: Клиенты могут оказаться в ситуации, когда они не могут зарегистрироваться из-за нахождения за \n",
              "границей.\n",
              "</pre>\n"
            ],
            "text/plain": [
              "   Обоснование: Клиенты могут оказаться в ситуации, когда они не могут зарегистрироваться из-за нахождения за \n",
              "границей.\n"
            ]
          },
          "metadata": {},
          "output_type": "display_data"
        },
        {
          "data": {
            "text/html": [
              "<pre style=\"white-space:pre;overflow-x:auto;line-height:normal;font-family:Menlo,'DejaVu Sans Mono',consolas,'Courier New',monospace\">\n",
              "<span style=\"color: #008080; text-decoration-color: #008080; font-weight: bold\">3</span>. Как я могу стать вашим клиентом, если потерял телефон и теперь не могу получить код подтверждения?\n",
              "</pre>\n"
            ],
            "text/plain": [
              "\n",
              "\u001b[1;36m3\u001b[0m. Как я могу стать вашим клиентом, если потерял телефон и теперь не могу получить код подтверждения?\n"
            ]
          },
          "metadata": {},
          "output_type": "display_data"
        },
        {
          "data": {
            "text/html": [
              "<pre style=\"white-space:pre;overflow-x:auto;line-height:normal;font-family:Menlo,'DejaVu Sans Mono',consolas,'Courier New',monospace\">   Обоснование: Этот вопрос касается проблемы с доступом к телефонным данным для регистрации.\n",
              "</pre>\n"
            ],
            "text/plain": [
              "   Обоснование: Этот вопрос касается проблемы с доступом к телефонным данным для регистрации.\n"
            ]
          },
          "metadata": {},
          "output_type": "display_data"
        }
      ],
      "source": [
        "test_cat = df_clean[df_clean['Подкатегория'].notna()].iloc[0]\n",
        "\n",
        "print(f\"Категория: {test_cat['Основная категория']}\")\n",
        "print(f\"Подкатегория: {test_cat['Подкатегория']}\")\n",
        "print(f\"Пример вопроса: {test_cat['Пример вопроса']}\")\n",
        "print(f\"\\nОтвет: {test_cat['Шаблонный ответ'][:200]}...\")\n",
        "\n",
        "sem = Semaphore(1)\n",
        "test_questions = await generate_questions_for_category(\n",
        "    category=test_cat['Основная категория'],\n",
        "    subcategory=test_cat['Подкатегория'],\n",
        "    existing_questions=[test_cat['Пример вопроса']],\n",
        "    template_answer=test_cat['Шаблонный ответ'],\n",
        "    num_questions=3,\n",
        "    sem=sem\n",
        ")\n",
        "\n",
        "print(\"\\nСгенерированные вопросы:\")\n",
        "for i, q in enumerate(test_questions, 1):\n",
        "    print(f\"\\n{i}. {q.question}\")\n",
        "    print(f\"   Стиль: {q.style}\")\n",
        "    print(f\"   Обоснование: {q.reasoning}\")\n"
      ]
    },
    {
      "cell_type": "markdown",
      "metadata": {},
      "source": [
        "### Генерация для всех недостающих категорий\n"
      ]
    },
    {
      "cell_type": "code",
      "execution_count": null,
      "metadata": {},
      "outputs": [],
      "source": [
        "async def augment_dataset(df_original: pd.DataFrame, categories_to_augment: pd.DataFrame, max_concurrent: int = 5):\n",
        "    sem = Semaphore(max_concurrent)\n",
        "    tasks = []\n",
        "    \n",
        "    for _, row in categories_to_augment.iterrows():\n",
        "        cat = row['Основная категория']\n",
        "        subcat = row['Подкатегория']\n",
        "        num_to_gen = row['samples_to_generate']\n",
        "        \n",
        "        existing_data = df_original[\n",
        "            (df_original['Основная категория'] == cat) & \n",
        "            (df_original['Подкатегория'] == subcat)\n",
        "        ]\n",
        "        \n",
        "        if len(existing_data) == 0:\n",
        "            continue\n",
        "            \n",
        "        existing_questions = existing_data['Пример вопроса'].tolist()\n",
        "        template_answer = existing_data['Шаблонный ответ'].iloc[0]\n",
        "        target_audience = existing_data['Целевая аудитория'].iloc[0]\n",
        "        \n",
        "        task = {\n",
        "            'category': cat,\n",
        "            'subcategory': subcat,\n",
        "            'existing_questions': existing_questions,\n",
        "            'template_answer': template_answer,\n",
        "            'target_audience': target_audience,\n",
        "            'num_questions': num_to_gen\n",
        "        }\n",
        "        tasks.append(task)\n",
        "    \n",
        "    async def process_task(task):\n",
        "        questions = await generate_questions_for_category(\n",
        "            category=task['category'],\n",
        "            subcategory=task['subcategory'],\n",
        "            existing_questions=task['existing_questions'],\n",
        "            template_answer=task['template_answer'],\n",
        "            num_questions=task['num_questions'],\n",
        "            sem=sem\n",
        "        )\n",
        "        \n",
        "        return [\n",
        "            {\n",
        "                'Основная категория': task['category'],\n",
        "                'Подкатегория': task['subcategory'],\n",
        "                'Пример вопроса': q.question,\n",
        "                'Стиль вопроса': q.style,\n",
        "                'Целевая аудитория': task['target_audience'],\n",
        "                'Шаблонный ответ': task['template_answer'],\n",
        "                'is_original': False\n",
        "            }\n",
        "            for q in questions\n",
        "        ]\n",
        "    \n",
        "    results = []\n",
        "    for task_result in tqdm_asyncio.as_completed(\n",
        "        [process_task(task) for task in tasks],\n",
        "        total=len(tasks),\n",
        "        desc=\"Генерация вопросов\"\n",
        "    ):\n",
        "        result = await task_result\n",
        "        results.extend(result)\n",
        "    \n",
        "    return pd.DataFrame(results)\n"
      ]
    },
    {
      "cell_type": "code",
      "execution_count": 50,
      "metadata": {},
      "outputs": [
        {
          "name": "stderr",
          "output_type": "stream",
          "text": [
            "Генерация вопросов: 100%|██████████| 32/32 [01:19<00:00,  2.48s/it]\n"
          ]
        },
        {
          "data": {
            "text/html": [
              "<pre style=\"white-space:pre;overflow-x:auto;line-height:normal;font-family:Menlo,'DejaVu Sans Mono',consolas,'Courier New',monospace\">\n",
              "Сгенерировано синтетических вопросов: <span style=\"color: #008080; text-decoration-color: #008080; font-weight: bold\">294</span>\n",
              "</pre>\n"
            ],
            "text/plain": [
              "\n",
              "Сгенерировано синтетических вопросов: \u001b[1;36m294\u001b[0m\n"
            ]
          },
          "metadata": {},
          "output_type": "display_data"
        },
        {
          "data": {
            "text/html": [
              "<pre style=\"white-space:pre;overflow-x:auto;line-height:normal;font-family:Menlo,'DejaVu Sans Mono',consolas,'Courier New',monospace\">\n",
              "Примеры:\n",
              "</pre>\n"
            ],
            "text/plain": [
              "\n",
              "Примеры:\n"
            ]
          },
          "metadata": {},
          "output_type": "display_data"
        },
        {
          "data": {
            "text/html": [
              "<pre style=\"white-space:pre;overflow-x:auto;line-height:normal;font-family:Menlo,'DejaVu Sans Mono',consolas,'Courier New',monospace\">   Основная категория                    Подкатегория  \\\n",
              "<span style=\"color: #008080; text-decoration-color: #008080; font-weight: bold\">0</span>    Продукты - Карты  Кредитные карты - Портмоне <span style=\"color: #008080; text-decoration-color: #008080; font-weight: bold\">2.0</span>   \n",
              "<span style=\"color: #008080; text-decoration-color: #008080; font-weight: bold\">1</span>    Продукты - Карты  Кредитные карты - Портмоне <span style=\"color: #008080; text-decoration-color: #008080; font-weight: bold\">2.0</span>   \n",
              "<span style=\"color: #008080; text-decoration-color: #008080; font-weight: bold\">2</span>    Продукты - Карты  Кредитные карты - Портмоне <span style=\"color: #008080; text-decoration-color: #008080; font-weight: bold\">2.0</span>   \n",
              "<span style=\"color: #008080; text-decoration-color: #008080; font-weight: bold\">3</span>    Продукты - Карты  Кредитные карты - Портмоне <span style=\"color: #008080; text-decoration-color: #008080; font-weight: bold\">2.0</span>   \n",
              "<span style=\"color: #008080; text-decoration-color: #008080; font-weight: bold\">4</span>    Продукты - Карты  Кредитные карты - Портмоне <span style=\"color: #008080; text-decoration-color: #008080; font-weight: bold\">2.0</span>   \n",
              "<span style=\"color: #008080; text-decoration-color: #008080; font-weight: bold\">5</span>    Продукты - Карты  Кредитные карты - Портмоне <span style=\"color: #008080; text-decoration-color: #008080; font-weight: bold\">2.0</span>   \n",
              "<span style=\"color: #008080; text-decoration-color: #008080; font-weight: bold\">6</span>    Продукты - Карты  Кредитные карты - Портмоне <span style=\"color: #008080; text-decoration-color: #008080; font-weight: bold\">2.0</span>   \n",
              "<span style=\"color: #008080; text-decoration-color: #008080; font-weight: bold\">7</span>    Продукты - Карты  Кредитные карты - Портмоне <span style=\"color: #008080; text-decoration-color: #008080; font-weight: bold\">2.0</span>   \n",
              "<span style=\"color: #008080; text-decoration-color: #008080; font-weight: bold\">8</span>    Продукты - Карты  Кредитные карты - Портмоне <span style=\"color: #008080; text-decoration-color: #008080; font-weight: bold\">2.0</span>   \n",
              "<span style=\"color: #008080; text-decoration-color: #008080; font-weight: bold\">9</span>  Продукты - Кредиты         Потребительские - Старт   \n",
              "\n",
              "                                                                             Пример вопроса  \\\n",
              "<span style=\"color: #008080; text-decoration-color: #008080; font-weight: bold\">0</span>                       Что-то не так с этой картой Портмоне, может её блокировать или как?   \n",
              "<span style=\"color: #008080; text-decoration-color: #008080; font-weight: bold\">1</span>                                             Если я её потерял, как быстро получить новую?   \n",
              "<span style=\"color: #008080; text-decoration-color: #008080; font-weight: bold\">2</span>                                         А реально ли сделать карту Портмоне за один день?   \n",
              "<span style=\"color: #008080; text-decoration-color: #008080; font-weight: bold\">3</span>                                      Могу я контролировать расходы по карте в приложении?   \n",
              "<span style=\"color: #008080; text-decoration-color: #008080; font-weight: bold\">4</span>                           Как вообще пользоваться этой картой, там награды какие-то есть?   \n",
              "<span style=\"color: #008080; text-decoration-color: #008080; font-weight: bold\">5</span>                           Если купил что-то не то, можно вернуть деньги обратно на карту?   \n",
              "<span style=\"color: #008080; text-decoration-color: #008080; font-weight: bold\">6</span>                           Нужно ли сначала открывать счёт, чтобы оформить карту Портмоне?   \n",
              "<span style=\"color: #008080; text-decoration-color: #008080; font-weight: bold\">7</span>                       Что делать если в магазине карту не принимают, я ж уже всё оформил!   \n",
              "<span style=\"color: #008080; text-decoration-color: #008080; font-weight: bold\">8</span>              А можно ли пользоваться картой Портмоне за границей, если в отпуск сваливаю?   \n",
              "<span style=\"color: #008080; text-decoration-color: #008080; font-weight: bold\">9</span>  Слушайте, я тут квартиру купил, и что-то не пойму, как мне этот кредит <span style=\"color: #008000; text-decoration-color: #008000\">\"Старт\"</span> оформить?   \n",
              "\n",
              "  Целевая аудитория  \\\n",
              "<span style=\"color: #008080; text-decoration-color: #008080; font-weight: bold\">0</span>     новые клиенты   \n",
              "<span style=\"color: #008080; text-decoration-color: #008080; font-weight: bold\">1</span>     новые клиенты   \n",
              "<span style=\"color: #008080; text-decoration-color: #008080; font-weight: bold\">2</span>     новые клиенты   \n",
              "<span style=\"color: #008080; text-decoration-color: #008080; font-weight: bold\">3</span>     новые клиенты   \n",
              "<span style=\"color: #008080; text-decoration-color: #008080; font-weight: bold\">4</span>     новые клиенты   \n",
              "<span style=\"color: #008080; text-decoration-color: #008080; font-weight: bold\">5</span>     новые клиенты   \n",
              "<span style=\"color: #008080; text-decoration-color: #008080; font-weight: bold\">6</span>     новые клиенты   \n",
              "<span style=\"color: #008080; text-decoration-color: #008080; font-weight: bold\">7</span>     новые клиенты   \n",
              "<span style=\"color: #008080; text-decoration-color: #008080; font-weight: bold\">8</span>     новые клиенты   \n",
              "<span style=\"color: #008080; text-decoration-color: #008080; font-weight: bold\">9</span>     новые клиенты   \n",
              "\n",
              "                                                                                                   Шаблонный ответ \n",
              "\\\n",
              "<span style=\"color: #008080; text-decoration-color: #008080; font-weight: bold\">0</span>  Кредитную карту Портмоне <span style=\"color: #008080; text-decoration-color: #008080; font-weight: bold\">2.0</span> можно оформить в любом отделении банка. Используется карточка мгновенного выпуска. \n",
              "<span style=\"color: #008080; text-decoration-color: #008080; font-weight: bold\">1</span>  Кредитную карту Портмоне <span style=\"color: #008080; text-decoration-color: #008080; font-weight: bold\">2.0</span> можно оформить в любом отделении банка. Используется карточка мгновенного выпуска. \n",
              "<span style=\"color: #008080; text-decoration-color: #008080; font-weight: bold\">2</span>  Кредитную карту Портмоне <span style=\"color: #008080; text-decoration-color: #008080; font-weight: bold\">2.0</span> можно оформить в любом отделении банка. Используется карточка мгновенного выпуска. \n",
              "<span style=\"color: #008080; text-decoration-color: #008080; font-weight: bold\">3</span>  Кредитную карту Портмоне <span style=\"color: #008080; text-decoration-color: #008080; font-weight: bold\">2.0</span> можно оформить в любом отделении банка. Используется карточка мгновенного выпуска. \n",
              "<span style=\"color: #008080; text-decoration-color: #008080; font-weight: bold\">4</span>  Кредитную карту Портмоне <span style=\"color: #008080; text-decoration-color: #008080; font-weight: bold\">2.0</span> можно оформить в любом отделении банка. Используется карточка мгновенного выпуска. \n",
              "<span style=\"color: #008080; text-decoration-color: #008080; font-weight: bold\">5</span>  Кредитную карту Портмоне <span style=\"color: #008080; text-decoration-color: #008080; font-weight: bold\">2.0</span> можно оформить в любом отделении банка. Используется карточка мгновенного выпуска. \n",
              "<span style=\"color: #008080; text-decoration-color: #008080; font-weight: bold\">6</span>  Кредитную карту Портмоне <span style=\"color: #008080; text-decoration-color: #008080; font-weight: bold\">2.0</span> можно оформить в любом отделении банка. Используется карточка мгновенного выпуска. \n",
              "<span style=\"color: #008080; text-decoration-color: #008080; font-weight: bold\">7</span>  Кредитную карту Портмоне <span style=\"color: #008080; text-decoration-color: #008080; font-weight: bold\">2.0</span> можно оформить в любом отделении банка. Используется карточка мгновенного выпуска. \n",
              "<span style=\"color: #008080; text-decoration-color: #008080; font-weight: bold\">8</span>  Кредитную карту Портмоне <span style=\"color: #008080; text-decoration-color: #008080; font-weight: bold\">2.0</span> можно оформить в любом отделении банка. Используется карточка мгновенного выпуска. \n",
              "<span style=\"color: #008080; text-decoration-color: #008080; font-weight: bold\">9</span>          Сумма кредита <span style=\"color: #008000; text-decoration-color: #008000\">'Старт'</span> определяется индивидуально в зависимости от доходов и платежеспособности клиента. \n",
              "\n",
              "   is_original  \n",
              "<span style=\"color: #008080; text-decoration-color: #008080; font-weight: bold\">0</span>        <span style=\"color: #ff0000; text-decoration-color: #ff0000; font-style: italic\">False</span>  \n",
              "<span style=\"color: #008080; text-decoration-color: #008080; font-weight: bold\">1</span>        <span style=\"color: #ff0000; text-decoration-color: #ff0000; font-style: italic\">False</span>  \n",
              "<span style=\"color: #008080; text-decoration-color: #008080; font-weight: bold\">2</span>        <span style=\"color: #ff0000; text-decoration-color: #ff0000; font-style: italic\">False</span>  \n",
              "<span style=\"color: #008080; text-decoration-color: #008080; font-weight: bold\">3</span>        <span style=\"color: #ff0000; text-decoration-color: #ff0000; font-style: italic\">False</span>  \n",
              "<span style=\"color: #008080; text-decoration-color: #008080; font-weight: bold\">4</span>        <span style=\"color: #ff0000; text-decoration-color: #ff0000; font-style: italic\">False</span>  \n",
              "<span style=\"color: #008080; text-decoration-color: #008080; font-weight: bold\">5</span>        <span style=\"color: #ff0000; text-decoration-color: #ff0000; font-style: italic\">False</span>  \n",
              "<span style=\"color: #008080; text-decoration-color: #008080; font-weight: bold\">6</span>        <span style=\"color: #ff0000; text-decoration-color: #ff0000; font-style: italic\">False</span>  \n",
              "<span style=\"color: #008080; text-decoration-color: #008080; font-weight: bold\">7</span>        <span style=\"color: #ff0000; text-decoration-color: #ff0000; font-style: italic\">False</span>  \n",
              "<span style=\"color: #008080; text-decoration-color: #008080; font-weight: bold\">8</span>        <span style=\"color: #ff0000; text-decoration-color: #ff0000; font-style: italic\">False</span>  \n",
              "<span style=\"color: #008080; text-decoration-color: #008080; font-weight: bold\">9</span>        <span style=\"color: #ff0000; text-decoration-color: #ff0000; font-style: italic\">False</span>  \n",
              "</pre>\n"
            ],
            "text/plain": [
              "   Основная категория                    Подкатегория  \\\n",
              "\u001b[1;36m0\u001b[0m    Продукты - Карты  Кредитные карты - Портмоне \u001b[1;36m2.0\u001b[0m   \n",
              "\u001b[1;36m1\u001b[0m    Продукты - Карты  Кредитные карты - Портмоне \u001b[1;36m2.0\u001b[0m   \n",
              "\u001b[1;36m2\u001b[0m    Продукты - Карты  Кредитные карты - Портмоне \u001b[1;36m2.0\u001b[0m   \n",
              "\u001b[1;36m3\u001b[0m    Продукты - Карты  Кредитные карты - Портмоне \u001b[1;36m2.0\u001b[0m   \n",
              "\u001b[1;36m4\u001b[0m    Продукты - Карты  Кредитные карты - Портмоне \u001b[1;36m2.0\u001b[0m   \n",
              "\u001b[1;36m5\u001b[0m    Продукты - Карты  Кредитные карты - Портмоне \u001b[1;36m2.0\u001b[0m   \n",
              "\u001b[1;36m6\u001b[0m    Продукты - Карты  Кредитные карты - Портмоне \u001b[1;36m2.0\u001b[0m   \n",
              "\u001b[1;36m7\u001b[0m    Продукты - Карты  Кредитные карты - Портмоне \u001b[1;36m2.0\u001b[0m   \n",
              "\u001b[1;36m8\u001b[0m    Продукты - Карты  Кредитные карты - Портмоне \u001b[1;36m2.0\u001b[0m   \n",
              "\u001b[1;36m9\u001b[0m  Продукты - Кредиты         Потребительские - Старт   \n",
              "\n",
              "                                                                             Пример вопроса  \\\n",
              "\u001b[1;36m0\u001b[0m                       Что-то не так с этой картой Портмоне, может её блокировать или как?   \n",
              "\u001b[1;36m1\u001b[0m                                             Если я её потерял, как быстро получить новую?   \n",
              "\u001b[1;36m2\u001b[0m                                         А реально ли сделать карту Портмоне за один день?   \n",
              "\u001b[1;36m3\u001b[0m                                      Могу я контролировать расходы по карте в приложении?   \n",
              "\u001b[1;36m4\u001b[0m                           Как вообще пользоваться этой картой, там награды какие-то есть?   \n",
              "\u001b[1;36m5\u001b[0m                           Если купил что-то не то, можно вернуть деньги обратно на карту?   \n",
              "\u001b[1;36m6\u001b[0m                           Нужно ли сначала открывать счёт, чтобы оформить карту Портмоне?   \n",
              "\u001b[1;36m7\u001b[0m                       Что делать если в магазине карту не принимают, я ж уже всё оформил!   \n",
              "\u001b[1;36m8\u001b[0m              А можно ли пользоваться картой Портмоне за границей, если в отпуск сваливаю?   \n",
              "\u001b[1;36m9\u001b[0m  Слушайте, я тут квартиру купил, и что-то не пойму, как мне этот кредит \u001b[32m\"Старт\"\u001b[0m оформить?   \n",
              "\n",
              "  Целевая аудитория  \\\n",
              "\u001b[1;36m0\u001b[0m     новые клиенты   \n",
              "\u001b[1;36m1\u001b[0m     новые клиенты   \n",
              "\u001b[1;36m2\u001b[0m     новые клиенты   \n",
              "\u001b[1;36m3\u001b[0m     новые клиенты   \n",
              "\u001b[1;36m4\u001b[0m     новые клиенты   \n",
              "\u001b[1;36m5\u001b[0m     новые клиенты   \n",
              "\u001b[1;36m6\u001b[0m     новые клиенты   \n",
              "\u001b[1;36m7\u001b[0m     новые клиенты   \n",
              "\u001b[1;36m8\u001b[0m     новые клиенты   \n",
              "\u001b[1;36m9\u001b[0m     новые клиенты   \n",
              "\n",
              "                                                                                                   Шаблонный ответ \n",
              "\\\n",
              "\u001b[1;36m0\u001b[0m  Кредитную карту Портмоне \u001b[1;36m2.0\u001b[0m можно оформить в любом отделении банка. Используется карточка мгновенного выпуска. \n",
              "\u001b[1;36m1\u001b[0m  Кредитную карту Портмоне \u001b[1;36m2.0\u001b[0m можно оформить в любом отделении банка. Используется карточка мгновенного выпуска. \n",
              "\u001b[1;36m2\u001b[0m  Кредитную карту Портмоне \u001b[1;36m2.0\u001b[0m можно оформить в любом отделении банка. Используется карточка мгновенного выпуска. \n",
              "\u001b[1;36m3\u001b[0m  Кредитную карту Портмоне \u001b[1;36m2.0\u001b[0m можно оформить в любом отделении банка. Используется карточка мгновенного выпуска. \n",
              "\u001b[1;36m4\u001b[0m  Кредитную карту Портмоне \u001b[1;36m2.0\u001b[0m можно оформить в любом отделении банка. Используется карточка мгновенного выпуска. \n",
              "\u001b[1;36m5\u001b[0m  Кредитную карту Портмоне \u001b[1;36m2.0\u001b[0m можно оформить в любом отделении банка. Используется карточка мгновенного выпуска. \n",
              "\u001b[1;36m6\u001b[0m  Кредитную карту Портмоне \u001b[1;36m2.0\u001b[0m можно оформить в любом отделении банка. Используется карточка мгновенного выпуска. \n",
              "\u001b[1;36m7\u001b[0m  Кредитную карту Портмоне \u001b[1;36m2.0\u001b[0m можно оформить в любом отделении банка. Используется карточка мгновенного выпуска. \n",
              "\u001b[1;36m8\u001b[0m  Кредитную карту Портмоне \u001b[1;36m2.0\u001b[0m можно оформить в любом отделении банка. Используется карточка мгновенного выпуска. \n",
              "\u001b[1;36m9\u001b[0m          Сумма кредита \u001b[32m'Старт'\u001b[0m определяется индивидуально в зависимости от доходов и платежеспособности клиента. \n",
              "\n",
              "   is_original  \n",
              "\u001b[1;36m0\u001b[0m        \u001b[3;91mFalse\u001b[0m  \n",
              "\u001b[1;36m1\u001b[0m        \u001b[3;91mFalse\u001b[0m  \n",
              "\u001b[1;36m2\u001b[0m        \u001b[3;91mFalse\u001b[0m  \n",
              "\u001b[1;36m3\u001b[0m        \u001b[3;91mFalse\u001b[0m  \n",
              "\u001b[1;36m4\u001b[0m        \u001b[3;91mFalse\u001b[0m  \n",
              "\u001b[1;36m5\u001b[0m        \u001b[3;91mFalse\u001b[0m  \n",
              "\u001b[1;36m6\u001b[0m        \u001b[3;91mFalse\u001b[0m  \n",
              "\u001b[1;36m7\u001b[0m        \u001b[3;91mFalse\u001b[0m  \n",
              "\u001b[1;36m8\u001b[0m        \u001b[3;91mFalse\u001b[0m  \n",
              "\u001b[1;36m9\u001b[0m        \u001b[3;91mFalse\u001b[0m  \n"
            ]
          },
          "metadata": {},
          "output_type": "display_data"
        }
      ],
      "source": [
        "df_synthetic = await augment_dataset(df_clean, categories_need_augmentation, max_concurrent=5)\n",
        "\n",
        "print(f\"\\nСгенерировано синтетических вопросов: {len(df_synthetic)}\")\n",
        "print(f\"\\nПримеры:\")\n",
        "print(df_synthetic.head(10))\n"
      ]
    },
    {
      "cell_type": "markdown",
      "metadata": {},
      "source": [
        "## 5. Объединение оригинальных и синтетических данных\n"
      ]
    },
    {
      "cell_type": "code",
      "execution_count": null,
      "metadata": {},
      "outputs": [
        {
          "data": {
            "text/html": [
              "<pre style=\"white-space:pre;overflow-x:auto;line-height:normal;font-family:Menlo,'DejaVu Sans Mono',consolas,'Courier New',monospace\">Итоговый размер датасета: <span style=\"color: #008080; text-decoration-color: #008080; font-weight: bold\">527</span>\n",
              "</pre>\n"
            ],
            "text/plain": [
              "Итоговый размер датасета: \u001b[1;36m527\u001b[0m\n"
            ]
          },
          "metadata": {},
          "output_type": "display_data"
        },
        {
          "data": {
            "text/html": [
              "<pre style=\"white-space:pre;overflow-x:auto;line-height:normal;font-family:Menlo,'DejaVu Sans Mono',consolas,'Courier New',monospace\">Оригинальных вопросов: <span style=\"color: #008080; text-decoration-color: #008080; font-weight: bold\">233</span>\n",
              "</pre>\n"
            ],
            "text/plain": [
              "Оригинальных вопросов: \u001b[1;36m233\u001b[0m\n"
            ]
          },
          "metadata": {},
          "output_type": "display_data"
        },
        {
          "data": {
            "text/html": [
              "<pre style=\"white-space:pre;overflow-x:auto;line-height:normal;font-family:Menlo,'DejaVu Sans Mono',consolas,'Courier New',monospace\">Синтетических вопросов: <span style=\"color: #008080; text-decoration-color: #008080; font-weight: bold\">294</span>\n",
              "</pre>\n"
            ],
            "text/plain": [
              "Синтетических вопросов: \u001b[1;36m294\u001b[0m\n"
            ]
          },
          "metadata": {},
          "output_type": "display_data"
        },
        {
          "data": {
            "text/html": [
              "<pre style=\"white-space:pre;overflow-x:auto;line-height:normal;font-family:Menlo,'DejaVu Sans Mono',consolas,'Courier New',monospace\">\n",
              "Распределение после аугментации <span style=\"font-weight: bold\">(</span>минимальные<span style=\"font-weight: bold\">)</span>:\n",
              "</pre>\n"
            ],
            "text/plain": [
              "\n",
              "Распределение после аугментации \u001b[1m(\u001b[0mминимальные\u001b[1m)\u001b[0m:\n"
            ]
          },
          "metadata": {},
          "output_type": "display_data"
        },
        {
          "data": {
            "text/html": [
              "<pre style=\"white-space:pre;overflow-x:auto;line-height:normal;font-family:Menlo,'DejaVu Sans Mono',consolas,'Courier New',monospace\">       Основная категория                              Подкатегория  count\n",
              "<span style=\"color: #008080; text-decoration-color: #008080; font-weight: bold\">29</span>     Продукты - Кредиты              Экспресс-кредиты - На роднае      <span style=\"color: #008080; text-decoration-color: #008080; font-weight: bold\">6</span>\n",
              "<span style=\"color: #008080; text-decoration-color: #008080; font-weight: bold\">0</span>           Новые клиенты                               Первые шаги     <span style=\"color: #008080; text-decoration-color: #008080; font-weight: bold\">15</span>\n",
              "<span style=\"color: #008080; text-decoration-color: #008080; font-weight: bold\">32</span>        Частные клиенты                         Вклады и депозиты     <span style=\"color: #008080; text-decoration-color: #008080; font-weight: bold\">15</span>\n",
              "<span style=\"color: #008080; text-decoration-color: #008080; font-weight: bold\">30</span>  Техническая поддержка                        Проблемы и решения     <span style=\"color: #008080; text-decoration-color: #008080; font-weight: bold\">15</span>\n",
              "<span style=\"color: #008080; text-decoration-color: #008080; font-weight: bold\">28</span>     Продукты - Кредиты  Экспресс-кредиты - В магазинах-партнерах     <span style=\"color: #008080; text-decoration-color: #008080; font-weight: bold\">15</span>\n",
              "<span style=\"color: #008080; text-decoration-color: #008080; font-weight: bold\">27</span>     Продукты - Кредиты                   Потребительские - Старт     <span style=\"color: #008080; text-decoration-color: #008080; font-weight: bold\">15</span>\n",
              "<span style=\"color: #008080; text-decoration-color: #008080; font-weight: bold\">26</span>     Продукты - Кредиты          Потребительские - На всё про всё     <span style=\"color: #008080; text-decoration-color: #008080; font-weight: bold\">15</span>\n",
              "<span style=\"color: #008080; text-decoration-color: #008080; font-weight: bold\">25</span>     Продукты - Кредиты           Потребительские - Легко платить     <span style=\"color: #008080; text-decoration-color: #008080; font-weight: bold\">15</span>\n",
              "<span style=\"color: #008080; text-decoration-color: #008080; font-weight: bold\">24</span>     Продукты - Кредиты         Потребительские - Дальше - меньше     <span style=\"color: #008080; text-decoration-color: #008080; font-weight: bold\">15</span>\n",
              "<span style=\"color: #008080; text-decoration-color: #008080; font-weight: bold\">23</span>     Продукты - Кредиты   Потребительские - Всё только начинается     <span style=\"color: #008080; text-decoration-color: #008080; font-weight: bold\">15</span>\n",
              "</pre>\n"
            ],
            "text/plain": [
              "       Основная категория                              Подкатегория  count\n",
              "\u001b[1;36m29\u001b[0m     Продукты - Кредиты              Экспресс-кредиты - На роднае      \u001b[1;36m6\u001b[0m\n",
              "\u001b[1;36m0\u001b[0m           Новые клиенты                               Первые шаги     \u001b[1;36m15\u001b[0m\n",
              "\u001b[1;36m32\u001b[0m        Частные клиенты                         Вклады и депозиты     \u001b[1;36m15\u001b[0m\n",
              "\u001b[1;36m30\u001b[0m  Техническая поддержка                        Проблемы и решения     \u001b[1;36m15\u001b[0m\n",
              "\u001b[1;36m28\u001b[0m     Продукты - Кредиты  Экспресс-кредиты - В магазинах-партнерах     \u001b[1;36m15\u001b[0m\n",
              "\u001b[1;36m27\u001b[0m     Продукты - Кредиты                   Потребительские - Старт     \u001b[1;36m15\u001b[0m\n",
              "\u001b[1;36m26\u001b[0m     Продукты - Кредиты          Потребительские - На всё про всё     \u001b[1;36m15\u001b[0m\n",
              "\u001b[1;36m25\u001b[0m     Продукты - Кредиты           Потребительские - Легко платить     \u001b[1;36m15\u001b[0m\n",
              "\u001b[1;36m24\u001b[0m     Продукты - Кредиты         Потребительские - Дальше - меньше     \u001b[1;36m15\u001b[0m\n",
              "\u001b[1;36m23\u001b[0m     Продукты - Кредиты   Потребительские - Всё только начинается     \u001b[1;36m15\u001b[0m\n"
            ]
          },
          "metadata": {},
          "output_type": "display_data"
        }
      ],
      "source": [
        "df_augmented = pd.concat([df_clean, df_synthetic], ignore_index=True)\n",
        "\n",
        "print(f\"Итоговый размер датасета: {len(df_augmented)}\")\n",
        "print(f\"Оригинальных вопросов: {df_augmented['is_original'].sum()}\")\n",
        "print(f\"Синтетических вопросов: {(~df_augmented['is_original']).sum()}\")\n",
        "\n",
        "print(\"\\nРаспределение по стилям вопросов:\")\n",
        "style_counts = df_augmented['Стиль вопроса'].value_counts(dropna=False)\n",
        "for style, count in style_counts.items():\n",
        "    percentage = count / len(df_augmented) * 100\n",
        "    print(f\"  {style if style else 'Не указан (оригинальные)'}: {count} ({percentage:.1f}%)\")\n",
        "\n",
        "augmented_subcategory_counts = df_augmented.groupby(['Основная категория', 'Подкатегория']).size().reset_index(name='count')\n",
        "augmented_subcategory_counts = augmented_subcategory_counts.sort_values('count')\n",
        "\n",
        "print(\"\\nРаспределение после аугментации (минимальные):\")\n",
        "print(augmented_subcategory_counts.head(10))\n"
      ]
    },
    {
      "cell_type": "markdown",
      "metadata": {},
      "source": [
        "## 6. Сохранение результатов\n"
      ]
    },
    {
      "cell_type": "code",
      "execution_count": 52,
      "metadata": {},
      "outputs": [
        {
          "data": {
            "text/html": [
              "<pre style=\"white-space:pre;overflow-x:auto;line-height:normal;font-family:Menlo,'DejaVu Sans Mono',consolas,'Courier New',monospace\">Аугментированный датасет сохранен в: ..<span style=\"color: #800080; text-decoration-color: #800080\">/data/</span><span style=\"color: #ff00ff; text-decoration-color: #ff00ff\">knowledge_base_augmented2.csv</span>\n",
              "</pre>\n"
            ],
            "text/plain": [
              "Аугментированный датасет сохранен в: ..\u001b[35m/data/\u001b[0m\u001b[95mknowledge_base_augmented2.csv\u001b[0m\n"
            ]
          },
          "metadata": {},
          "output_type": "display_data"
        },
        {
          "data": {
            "text/html": [
              "<pre style=\"white-space:pre;overflow-x:auto;line-height:normal;font-family:Menlo,'DejaVu Sans Mono',consolas,'Courier New',monospace\">\n",
              "Статистика:\n",
              "</pre>\n"
            ],
            "text/plain": [
              "\n",
              "Статистика:\n"
            ]
          },
          "metadata": {},
          "output_type": "display_data"
        },
        {
          "data": {
            "text/html": [
              "<pre style=\"white-space:pre;overflow-x:auto;line-height:normal;font-family:Menlo,'DejaVu Sans Mono',consolas,'Courier New',monospace\">- Всего записей: <span style=\"color: #008080; text-decoration-color: #008080; font-weight: bold\">527</span>\n",
              "</pre>\n"
            ],
            "text/plain": [
              "- Всего записей: \u001b[1;36m527\u001b[0m\n"
            ]
          },
          "metadata": {},
          "output_type": "display_data"
        },
        {
          "data": {
            "text/html": [
              "<pre style=\"white-space:pre;overflow-x:auto;line-height:normal;font-family:Menlo,'DejaVu Sans Mono',consolas,'Courier New',monospace\">- Оригинальных: <span style=\"color: #008080; text-decoration-color: #008080; font-weight: bold\">233</span>\n",
              "</pre>\n"
            ],
            "text/plain": [
              "- Оригинальных: \u001b[1;36m233\u001b[0m\n"
            ]
          },
          "metadata": {},
          "output_type": "display_data"
        },
        {
          "data": {
            "text/html": [
              "<pre style=\"white-space:pre;overflow-x:auto;line-height:normal;font-family:Menlo,'DejaVu Sans Mono',consolas,'Courier New',monospace\">- Синтетических: <span style=\"color: #008080; text-decoration-color: #008080; font-weight: bold\">294</span>\n",
              "</pre>\n"
            ],
            "text/plain": [
              "- Синтетических: \u001b[1;36m294\u001b[0m\n"
            ]
          },
          "metadata": {},
          "output_type": "display_data"
        },
        {
          "data": {
            "text/html": [
              "<pre style=\"white-space:pre;overflow-x:auto;line-height:normal;font-family:Menlo,'DejaVu Sans Mono',consolas,'Courier New',monospace\">- Уникальных категорий: <span style=\"color: #008080; text-decoration-color: #008080; font-weight: bold\">6</span>\n",
              "</pre>\n"
            ],
            "text/plain": [
              "- Уникальных категорий: \u001b[1;36m6\u001b[0m\n"
            ]
          },
          "metadata": {},
          "output_type": "display_data"
        },
        {
          "data": {
            "text/html": [
              "<pre style=\"white-space:pre;overflow-x:auto;line-height:normal;font-family:Menlo,'DejaVu Sans Mono',consolas,'Courier New',monospace\">- Уникальных подкатегорий: <span style=\"color: #008080; text-decoration-color: #008080; font-weight: bold\">35</span>\n",
              "</pre>\n"
            ],
            "text/plain": [
              "- Уникальных подкатегорий: \u001b[1;36m35\u001b[0m\n"
            ]
          },
          "metadata": {},
          "output_type": "display_data"
        }
      ],
      "source": [
        "output_path = Path('../data/knowledge_base_augmented2.csv')\n",
        "df_augmented.to_csv(output_path, index=False, encoding='utf-8')\n",
        "\n",
        "print(f\"Аугментированный датасет сохранен в: {output_path}\")\n",
        "print(f\"\\nСтатистика:\")\n",
        "print(f\"- Всего записей: {len(df_augmented)}\")\n",
        "print(f\"- Оригинальных: {df_augmented['is_original'].sum()}\")\n",
        "print(f\"- Синтетических: {(~df_augmented['is_original']).sum()}\")\n",
        "print(f\"- Уникальных категорий: {df_augmented['Основная категория'].nunique()}\")\n",
        "print(f\"- Уникальных подкатегорий: {df_augmented['Подкатегория'].nunique()}\")\n"
      ]
    },
    {
      "cell_type": "code",
      "execution_count": 53,
      "metadata": {},
      "outputs": [],
      "source": [
        "df_augmented.loc[df_augmented.index > 201, 'is_original'] = False"
      ]
    },
    {
      "cell_type": "code",
      "execution_count": 55,
      "metadata": {},
      "outputs": [
        {
          "data": {
            "text/html": [
              "<pre style=\"white-space:pre;overflow-x:auto;line-height:normal;font-family:Menlo,'DejaVu Sans Mono',consolas,'Courier New',monospace\">Аугментированный датасет сохранен в: ..<span style=\"color: #800080; text-decoration-color: #800080\">/data/</span><span style=\"color: #ff00ff; text-decoration-color: #ff00ff\">knowledge_base_augmented3.csv</span>\n",
              "</pre>\n"
            ],
            "text/plain": [
              "Аугментированный датасет сохранен в: ..\u001b[35m/data/\u001b[0m\u001b[95mknowledge_base_augmented3.csv\u001b[0m\n"
            ]
          },
          "metadata": {},
          "output_type": "display_data"
        },
        {
          "data": {
            "text/html": [
              "<pre style=\"white-space:pre;overflow-x:auto;line-height:normal;font-family:Menlo,'DejaVu Sans Mono',consolas,'Courier New',monospace\">\n",
              "Статистика:\n",
              "</pre>\n"
            ],
            "text/plain": [
              "\n",
              "Статистика:\n"
            ]
          },
          "metadata": {},
          "output_type": "display_data"
        },
        {
          "data": {
            "text/html": [
              "<pre style=\"white-space:pre;overflow-x:auto;line-height:normal;font-family:Menlo,'DejaVu Sans Mono',consolas,'Courier New',monospace\">- Всего записей: <span style=\"color: #008080; text-decoration-color: #008080; font-weight: bold\">527</span>\n",
              "</pre>\n"
            ],
            "text/plain": [
              "- Всего записей: \u001b[1;36m527\u001b[0m\n"
            ]
          },
          "metadata": {},
          "output_type": "display_data"
        },
        {
          "data": {
            "text/html": [
              "<pre style=\"white-space:pre;overflow-x:auto;line-height:normal;font-family:Menlo,'DejaVu Sans Mono',consolas,'Courier New',monospace\">- Оригинальных: <span style=\"color: #008080; text-decoration-color: #008080; font-weight: bold\">202</span>\n",
              "</pre>\n"
            ],
            "text/plain": [
              "- Оригинальных: \u001b[1;36m202\u001b[0m\n"
            ]
          },
          "metadata": {},
          "output_type": "display_data"
        },
        {
          "data": {
            "text/html": [
              "<pre style=\"white-space:pre;overflow-x:auto;line-height:normal;font-family:Menlo,'DejaVu Sans Mono',consolas,'Courier New',monospace\">- Синтетических: <span style=\"color: #008080; text-decoration-color: #008080; font-weight: bold\">325</span>\n",
              "</pre>\n"
            ],
            "text/plain": [
              "- Синтетических: \u001b[1;36m325\u001b[0m\n"
            ]
          },
          "metadata": {},
          "output_type": "display_data"
        },
        {
          "data": {
            "text/html": [
              "<pre style=\"white-space:pre;overflow-x:auto;line-height:normal;font-family:Menlo,'DejaVu Sans Mono',consolas,'Courier New',monospace\">- Уникальных категорий: <span style=\"color: #008080; text-decoration-color: #008080; font-weight: bold\">6</span>\n",
              "</pre>\n"
            ],
            "text/plain": [
              "- Уникальных категорий: \u001b[1;36m6\u001b[0m\n"
            ]
          },
          "metadata": {},
          "output_type": "display_data"
        },
        {
          "data": {
            "text/html": [
              "<pre style=\"white-space:pre;overflow-x:auto;line-height:normal;font-family:Menlo,'DejaVu Sans Mono',consolas,'Courier New',monospace\">- Уникальных подкатегорий: <span style=\"color: #008080; text-decoration-color: #008080; font-weight: bold\">35</span>\n",
              "</pre>\n"
            ],
            "text/plain": [
              "- Уникальных подкатегорий: \u001b[1;36m35\u001b[0m\n"
            ]
          },
          "metadata": {},
          "output_type": "display_data"
        }
      ],
      "source": [
        "output_path = Path('../data/knowledge_base_augmented3.csv')\n",
        "df_augmented.to_csv(output_path, index=False, encoding='utf-8')\n",
        "\n",
        "print(f\"Аугментированный датасет сохранен в: {output_path}\")\n",
        "print(f\"\\nСтатистика:\")\n",
        "print(f\"- Всего записей: {len(df_augmented)}\")\n",
        "print(f\"- Оригинальных: {df_augmented['is_original'].sum()}\")\n",
        "print(f\"- Синтетических: {(~df_augmented['is_original']).sum()}\")\n",
        "print(f\"- Уникальных категорий: {df_augmented['Основная категория'].nunique()}\")\n",
        "print(f\"- Уникальных подкатегорий: {df_augmented['Подкатегория'].nunique()}\")"
      ]
    },
    {
      "cell_type": "markdown",
      "metadata": {},
      "source": [
        "## 7. Визуализация результатов\n"
      ]
    },
    {
      "cell_type": "code",
      "execution_count": 54,
      "metadata": {},
      "outputs": [
        {
          "data": {
            "image/png": "[encoded data removed]",
            "text/plain": [
              "<Figure size 1600x600 with 2 Axes>"
            ]
          },
          "metadata": {},
          "output_type": "display_data"
        },
        {
          "data": {
            "text/html": [
              "<pre style=\"white-space:pre;overflow-x:auto;line-height:normal;font-family:Menlo,'DejaVu Sans Mono',consolas,'Courier New',monospace\">Визуализация сохранена в: ..<span style=\"color: #800080; text-decoration-color: #800080\">/data/</span><span style=\"color: #ff00ff; text-decoration-color: #ff00ff\">augmentation_comparison.png</span>\n",
              "</pre>\n"
            ],
            "text/plain": [
              "Визуализация сохранена в: ..\u001b[35m/data/\u001b[0m\u001b[95maugmentation_comparison.png\u001b[0m\n"
            ]
          },
          "metadata": {},
          "output_type": "display_data"
        }
      ],
      "source": [
        "fig, axes = plt.subplots(1, 2, figsize=(16, 6))\n",
        "\n",
        "df_clean.groupby('Основная категория').size().plot(kind='bar', ax=axes[0], color='steelblue')\n",
        "axes[0].set_title('До аугментации')\n",
        "axes[0].set_xlabel('Категория')\n",
        "axes[0].set_ylabel('Количество вопросов')\n",
        "axes[0].tick_params(axis='x', rotation=45)\n",
        "\n",
        "df_augmented.groupby('Основная категория').size().plot(kind='bar', ax=axes[1], color='forestgreen')\n",
        "axes[1].set_title('После аугментации')\n",
        "axes[1].set_xlabel('Категория')\n",
        "axes[1].set_ylabel('Количество вопросов')\n",
        "axes[1].tick_params(axis='x', rotation=45)\n",
        "\n",
        "plt.tight_layout()\n",
        "plt.savefig('../data/augmentation_comparison.png', dpi=150, bbox_inches='tight')\n",
        "plt.show()\n",
        "\n",
        "print(\"Визуализация сохранена в: ../data/augmentation_comparison.png\")\n"
      ]
    },
    {
      "cell_type": "code",
      "execution_count": null,
      "metadata": {},
      "outputs": [],
      "source": [
        "style_counts = df_augmented['Стиль вопроса'].value_counts(dropna=False)\n",
        "style_counts.index = style_counts.index.fillna('Не указан (оригинальные)')\n",
        "\n",
        "plt.figure(figsize=(10, 6))\n",
        "style_counts.plot(kind='bar', color='coral')\n",
        "plt.title('Распределение синтетических вопросов по стилям')\n",
        "plt.xlabel('Стиль вопроса')\n",
        "plt.ylabel('Количество вопросов')\n",
        "plt.xticks(rotation=45, ha='right')\n",
        "plt.tight_layout()\n",
        "plt.savefig('../data/style_distribution.png', dpi=150, bbox_inches='tight')\n",
        "plt.show()\n",
        "\n",
        "print(\"Визуализация сохранена в: ../data/style_distribution.png\")\n"
      ]
    },
    {
      "cell_type": "markdown",
      "metadata": {},
      "source": [
        "### Примеры вопросов по стилям\n"
      ]
    },
    {
      "cell_type": "code",
      "execution_count": null,
      "metadata": {},
      "outputs": [],
      "source": [
        "synthetic_only = df_augmented[df_augmented['is_original'] == False]\n",
        "\n",
        "styles = [\"Жаргонный\", \"Технический жаргон\", \"Сленговый\", \"Официальный\"]\n",
        "\n",
        "for style in styles:\n",
        "    style_examples = synthetic_only[synthetic_only['Стиль вопроса'] == style]\n",
        "    if len(style_examples) > 0:\n",
        "        print(f\"\\n{'='*80}\")\n",
        "        print(f\"Стиль: {style} ({len(style_examples)} вопросов)\")\n",
        "        print(f\"{'='*80}\")\n",
        "        \n",
        "        for i, (_, row) in enumerate(style_examples.head(5).iterrows(), 1):\n",
        "            print(f\"\\n{i}. {row['Пример вопроса']}\")\n",
        "            print(f\"   Категория: {row['Основная категория']} / {row['Подкатегория']}\")\n"
      ]
    },
    {
      "cell_type": "markdown",
      "metadata": {},
      "source": [
        "## 8. Классификация стилей для существующего датасета\n",
        "\n",
        "Загружаем существующий датасет и добавляем классификацию стилей для всех вопросов\n"
      ]
    },
    {
      "cell_type": "code",
      "execution_count": 56,
      "metadata": {},
      "outputs": [
        {
          "data": {
            "text/html": [
              "<pre style=\"white-space:pre;overflow-x:auto;line-height:normal;font-family:Menlo,'DejaVu Sans Mono',consolas,'Courier New',monospace\">Загружен датасет: <span style=\"color: #008080; text-decoration-color: #008080; font-weight: bold\">527</span> записей\n",
              "</pre>\n"
            ],
            "text/plain": [
              "Загружен датасет: \u001b[1;36m527\u001b[0m записей\n"
            ]
          },
          "metadata": {},
          "output_type": "display_data"
        },
        {
          "data": {
            "text/html": [
              "<pre style=\"white-space:pre;overflow-x:auto;line-height:normal;font-family:Menlo,'DejaVu Sans Mono',consolas,'Courier New',monospace\">Колонки: <span style=\"font-weight: bold\">[</span><span style=\"color: #008000; text-decoration-color: #008000\">'Основная категория'</span>, <span style=\"color: #008000; text-decoration-color: #008000\">'Подкатегория'</span>, <span style=\"color: #008000; text-decoration-color: #008000\">'Пример вопроса'</span>, <span style=\"color: #008000; text-decoration-color: #008000\">'Целевая аудитория'</span>, <span style=\"color: #008000; text-decoration-color: #008000\">'Шаблонный ответ'</span>, \n",
              "<span style=\"color: #008000; text-decoration-color: #008000\">'is_original'</span><span style=\"font-weight: bold\">]</span>\n",
              "</pre>\n"
            ],
            "text/plain": [
              "Колонки: \u001b[1m[\u001b[0m\u001b[32m'Основная категория'\u001b[0m, \u001b[32m'Подкатегория'\u001b[0m, \u001b[32m'Пример вопроса'\u001b[0m, \u001b[32m'Целевая аудитория'\u001b[0m, \u001b[32m'Шаблонный ответ'\u001b[0m, \n",
              "\u001b[32m'is_original'\u001b[0m\u001b[1m]\u001b[0m\n"
            ]
          },
          "metadata": {},
          "output_type": "display_data"
        },
        {
          "data": {
            "text/html": [
              "<pre style=\"white-space:pre;overflow-x:auto;line-height:normal;font-family:Menlo,'DejaVu Sans Mono',consolas,'Courier New',monospace\">\n",
              "Первые строки:\n",
              "</pre>\n"
            ],
            "text/plain": [
              "\n",
              "Первые строки:\n"
            ]
          },
          "metadata": {},
          "output_type": "display_data"
        },
        {
          "data": {
            "text/html": [
              "<div>\n",
              "<style scoped>\n",
              "    .dataframe tbody tr th:only-of-type {\n",
              "        vertical-align: middle;\n",
              "    }\n",
              "\n",
              "    .dataframe tbody tr th {\n",
              "        vertical-align: top;\n",
              "    }\n",
              "\n",
              "    .dataframe thead th {\n",
              "        text-align: right;\n",
              "    }\n",
              "</style>\n",
              "<table border=\"1\" class=\"dataframe\">\n",
              "  <thead>\n",
              "    <tr style=\"text-align: right;\">\n",
              "      <th></th>\n",
              "      <th>Основная категория</th>\n",
              "      <th>Подкатегория</th>\n",
              "      <th>Пример вопроса</th>\n",
              "      <th>Целевая аудитория</th>\n",
              "      <th>Шаблонный ответ</th>\n",
              "      <th>is_original</th>\n",
              "    </tr>\n",
              "  </thead>\n",
              "  <tbody>\n",
              "    <tr>\n",
              "      <th>0</th>\n",
              "      <td>Новые клиенты</td>\n",
              "      <td>Регистрация и онбординг</td>\n",
              "      <td>Как стать клиентом банка онлайн?</td>\n",
              "      <td>новые клиенты</td>\n",
              "      <td>Стать клиентом ВТБ (Беларусь) можно онлайн через сайт vtb.by или мобильное приложение VTB mBank. Для регистрации потребуется паспорт и номер телефона. После регистрации через МСИ (Межбанковскую систему идентификации) вы получите доступ к банковским услугам.</td>\n",
              "      <td>True</td>\n",
              "    </tr>\n",
              "    <tr>\n",
              "      <th>1</th>\n",
              "      <td>Новые клиенты</td>\n",
              "      <td>Регистрация и онбординг</td>\n",
              "      <td>Регистрация через МСИ (Межбанковская система идентификации)</td>\n",
              "      <td>новые клиенты</td>\n",
              "      <td>МСИ позволяет пройти идентификацию онлайн, используя данные других банков, где вы уже являетесь клиентом. Это упрощает процедуру регистрации и делает её быстрой и безопасной.</td>\n",
              "      <td>True</td>\n",
              "    </tr>\n",
              "    <tr>\n",
              "      <th>2</th>\n",
              "      <td>Новые клиенты</td>\n",
              "      <td>Регистрация и онбординг</td>\n",
              "      <td>Документы для регистрации нового клиента</td>\n",
              "      <td>новые клиенты</td>\n",
              "      <td>Для регистрации в качестве нового клиента необходим паспорт гражданина Республики Беларусь и контактный номер мобильного телефона для получения SMS-подтверждений.</td>\n",
              "      <td>True</td>\n",
              "    </tr>\n",
              "    <tr>\n",
              "      <th>3</th>\n",
              "      <td>Новые клиенты</td>\n",
              "      <td>Первые шаги</td>\n",
              "      <td>Первый вход в Интернет-банк</td>\n",
              "      <td>новые клиенты</td>\n",
              "      <td>После регистрации вы получите логин и пароль для входа в систему Интернет-банк. При первом входе рекомендуется изменить временный пароль на постоянный и настроить дополнительные параметры безопасности.</td>\n",
              "      <td>True</td>\n",
              "    </tr>\n",
              "    <tr>\n",
              "      <th>4</th>\n",
              "      <td>Новые клиенты</td>\n",
              "      <td>Первые шаги</td>\n",
              "      <td>Как скачать и настроить мобильное приложение?</td>\n",
              "      <td>новые клиенты</td>\n",
              "      <td>Мобильное приложение VTB mBank можно скачать в App Store для iOS или Google Play для Android. После установки войдите с логином и паролем от Интернет-банка и пройдите первоначальную настройку.</td>\n",
              "      <td>True</td>\n",
              "    </tr>\n",
              "  </tbody>\n",
              "</table>\n",
              "</div>"
            ],
            "text/plain": [
              "  Основная категория             Подкатегория  \\\n",
              "0      Новые клиенты  Регистрация и онбординг   \n",
              "1      Новые клиенты  Регистрация и онбординг   \n",
              "2      Новые клиенты  Регистрация и онбординг   \n",
              "3      Новые клиенты              Первые шаги   \n",
              "4      Новые клиенты              Первые шаги   \n",
              "\n",
              "                                                Пример вопроса  \\\n",
              "0                             Как стать клиентом банка онлайн?   \n",
              "1  Регистрация через МСИ (Межбанковская система идентификации)   \n",
              "2                     Документы для регистрации нового клиента   \n",
              "3                                  Первый вход в Интернет-банк   \n",
              "4                Как скачать и настроить мобильное приложение?   \n",
              "\n",
              "  Целевая аудитория  \\\n",
              "0     новые клиенты   \n",
              "1     новые клиенты   \n",
              "2     новые клиенты   \n",
              "3     новые клиенты   \n",
              "4     новые клиенты   \n",
              "\n",
              "                                                                                                                                                                                                                                                     Шаблонный ответ  \\\n",
              "0  Стать клиентом ВТБ (Беларусь) можно онлайн через сайт vtb.by или мобильное приложение VTB mBank. Для регистрации потребуется паспорт и номер телефона. После регистрации через МСИ (Межбанковскую систему идентификации) вы получите доступ к банковским услугам.   \n",
              "1                                                                                     МСИ позволяет пройти идентификацию онлайн, используя данные других банков, где вы уже являетесь клиентом. Это упрощает процедуру регистрации и делает её быстрой и безопасной.   \n",
              "2                                                                                                 Для регистрации в качестве нового клиента необходим паспорт гражданина Республики Беларусь и контактный номер мобильного телефона для получения SMS-подтверждений.   \n",
              "3                                                          После регистрации вы получите логин и пароль для входа в систему Интернет-банк. При первом входе рекомендуется изменить временный пароль на постоянный и настроить дополнительные параметры безопасности.   \n",
              "4                                                                   Мобильное приложение VTB mBank можно скачать в App Store для iOS или Google Play для Android. После установки войдите с логином и паролем от Интернет-банка и пройдите первоначальную настройку.   \n",
              "\n",
              "   is_original  \n",
              "0         True  \n",
              "1         True  \n",
              "2         True  \n",
              "3         True  \n",
              "4         True  "
            ]
          },
          "execution_count": 56,
          "metadata": {},
          "output_type": "execute_result"
        }
      ],
      "source": [
        "existing_dataset_path = Path('../data/knowledge_base_augmented3.csv')\n",
        "df_existing = pd.read_csv(existing_dataset_path)\n",
        "\n",
        "print(f\"Загружен датасет: {len(df_existing)} записей\")\n",
        "print(f\"Колонки: {list(df_existing.columns)}\")\n",
        "print(f\"\\nПервые строки:\")\n",
        "df_existing.head()\n"
      ]
    },
    {
      "cell_type": "code",
      "execution_count": 59,
      "metadata": {},
      "outputs": [],
      "source": [
        "class QuestionStyle(BaseModel):\n",
        "    style: Literal[\"Жаргонный\", \"Технический жаргон\", \"Сленговый\", \"Официальный\"] = Field(\n",
        "        description=\"Стиль вопроса\"\n",
        "    )\n",
        "    reasoning: str = Field(description=\"Краткое обоснование выбора стиля\")\n",
        "\n",
        "@retry(stop=stop_after_attempt(3), wait=wait_fixed(5))\n",
        "async def classify_question_style(question: str, sem: Semaphore) -> QuestionStyle:\n",
        "    async with sem:\n",
        "        coro = client.chat.completions.create(\n",
        "            model=\"gpt-4o-mini\",\n",
        "            messages=[\n",
        "                {\n",
        "                    \"role\": \"system\",\n",
        "                    \"content\": \"\"\"Ты эксперт по классификации стилей вопросов для банковской техподдержки.\n",
        "Твоя задача - определить стиль вопроса на русском языке.\"\"\"\n",
        "                },\n",
        "                {\n",
        "                    \"role\": \"user\",\n",
        "                    \"content\": f\"\"\"\n",
        "Определи стиль следующего вопроса:\n",
        "\n",
        "\"{question}\"\n",
        "\n",
        "СТИЛИ:\n",
        "- \"Жаргонный\" - использует банковский/финансовый жаргон обычных людей (\"бабки\", \"кэш\", \"налик\", \"безнал\", \"пластик\")\n",
        "- \"Технический жаргон\" - использует IT и технические термины (\"апп\", \"прога\", \"логин\", \"пуш\", \"смс-ка\", \"юзать\")\n",
        "- \"Сленговый\" - молодежный или разговорный сленг, эмоции (\"чё\", \"типа\", \"забанили\", \"облом\", \"капец\")\n",
        "- \"Официальный\" - нейтральный, вежливый тон без жаргона и сленга (\"подскажите пожалуйста\", \"как можно\", \"не могли бы вы\")\n",
        "\n",
        "Выбери ОДИН наиболее подходящий стиль.\n",
        "\"\"\"\n",
        "                }\n",
        "            ],\n",
        "            response_model=QuestionStyle,\n",
        "        )\n",
        "        \n",
        "        resp = await asyncio.wait_for(coro, timeout=30)\n",
        "        return resp\n"
      ]
    },
    {
      "cell_type": "code",
      "execution_count": 60,
      "metadata": {},
      "outputs": [],
      "source": [
        "async def classify_all_questions(df: pd.DataFrame, max_concurrent: int = 10):\n",
        "    sem = Semaphore(max_concurrent)\n",
        "    \n",
        "    async def classify_row(idx, question):\n",
        "        try:\n",
        "            result = await classify_question_style(question, sem)\n",
        "            return idx, result.style\n",
        "        except Exception as e:\n",
        "            print(f\"Ошибка при классификации вопроса {idx}: {e}\")\n",
        "            return idx, \"Официальный\"\n",
        "    \n",
        "    tasks = [\n",
        "        classify_row(idx, row['Пример вопроса'])\n",
        "        for idx, row in df.iterrows()\n",
        "    ]\n",
        "    \n",
        "    results = {}\n",
        "    for task_result in tqdm_asyncio.as_completed(tasks, total=len(tasks), desc=\"Классификация вопросов\"):\n",
        "        idx, style = await task_result\n",
        "        results[idx] = style\n",
        "    \n",
        "    return results\n"
      ]
    },
    {
      "cell_type": "markdown",
      "metadata": {},
      "source": [
        "### Тестовая классификация\n"
      ]
    },
    {
      "cell_type": "code",
      "execution_count": 61,
      "metadata": {},
      "outputs": [
        {
          "name": "stderr",
          "output_type": "stream",
          "text": [
            "Классификация вопросов:   0%|          | 0/10 [00:00<?, ?it/s]"
          ]
        },
        {
          "data": {
            "text/html": [
              "<pre style=\"white-space:pre;overflow-x:auto;line-height:normal;font-family:Menlo,'DejaVu Sans Mono',consolas,'Courier New',monospace\">Ошибка при классификации вопроса <span style=\"color: #008080; text-decoration-color: #008080; font-weight: bold\">0</span>: RetryError<span style=\"font-weight: bold\">[&lt;</span><span style=\"color: #ff00ff; text-decoration-color: #ff00ff; font-weight: bold\">Future</span><span style=\"color: #000000; text-decoration-color: #000000\"> at </span><span style=\"color: #008080; text-decoration-color: #008080; font-weight: bold\">0x164cb1d10</span><span style=\"color: #000000; text-decoration-color: #000000\"> </span><span style=\"color: #808000; text-decoration-color: #808000\">state</span><span style=\"color: #000000; text-decoration-color: #000000\">=</span><span style=\"color: #800080; text-decoration-color: #800080\">finished</span><span style=\"color: #000000; text-decoration-color: #000000\"> raised </span>\n",
              "<span style=\"color: #000000; text-decoration-color: #000000\">InstructorRetryException</span><span style=\"font-weight: bold\">&gt;]</span>\n",
              "</pre>\n"
            ],
            "text/plain": [
              "Ошибка при классификации вопроса \u001b[1;36m0\u001b[0m: RetryError\u001b[1m[\u001b[0m\u001b[1m<\u001b[0m\u001b[1;95mFuture\u001b[0m\u001b[39m at \u001b[0m\u001b[1;36m0x164cb1d10\u001b[0m\u001b[39m \u001b[0m\u001b[33mstate\u001b[0m\u001b[39m=\u001b[0m\u001b[35mfinished\u001b[0m\u001b[39m raised \u001b[0m\n",
              "\u001b[39mInstructorRetryException\u001b[0m\u001b[1m>\u001b[0m\u001b[1m]\u001b[0m\n"
            ]
          },
          "metadata": {},
          "output_type": "display_data"
        },
        {
          "name": "stderr",
          "output_type": "stream",
          "text": [
            "Классификация вопросов:  10%|█         | 1/10 [00:49<07:25, 49.47s/it]"
          ]
        },
        {
          "data": {
            "text/html": [
              "<pre style=\"white-space:pre;overflow-x:auto;line-height:normal;font-family:Menlo,'DejaVu Sans Mono',consolas,'Courier New',monospace\">Ошибка при классификации вопроса <span style=\"color: #008080; text-decoration-color: #008080; font-weight: bold\">4</span>: RetryError<span style=\"font-weight: bold\">[&lt;</span><span style=\"color: #ff00ff; text-decoration-color: #ff00ff; font-weight: bold\">Future</span><span style=\"color: #000000; text-decoration-color: #000000\"> at </span><span style=\"color: #008080; text-decoration-color: #008080; font-weight: bold\">0x164b71150</span><span style=\"color: #000000; text-decoration-color: #000000\"> </span><span style=\"color: #808000; text-decoration-color: #808000\">state</span><span style=\"color: #000000; text-decoration-color: #000000\">=</span><span style=\"color: #800080; text-decoration-color: #800080\">finished</span><span style=\"color: #000000; text-decoration-color: #000000\"> raised </span>\n",
              "<span style=\"color: #000000; text-decoration-color: #000000\">InstructorRetryException</span><span style=\"font-weight: bold\">&gt;]</span>\n",
              "</pre>\n"
            ],
            "text/plain": [
              "Ошибка при классификации вопроса \u001b[1;36m4\u001b[0m: RetryError\u001b[1m[\u001b[0m\u001b[1m<\u001b[0m\u001b[1;95mFuture\u001b[0m\u001b[39m at \u001b[0m\u001b[1;36m0x164b71150\u001b[0m\u001b[39m \u001b[0m\u001b[33mstate\u001b[0m\u001b[39m=\u001b[0m\u001b[35mfinished\u001b[0m\u001b[39m raised \u001b[0m\n",
              "\u001b[39mInstructorRetryException\u001b[0m\u001b[1m>\u001b[0m\u001b[1m]\u001b[0m\n"
            ]
          },
          "metadata": {},
          "output_type": "display_data"
        },
        {
          "data": {
            "text/html": [
              "<pre style=\"white-space:pre;overflow-x:auto;line-height:normal;font-family:Menlo,'DejaVu Sans Mono',consolas,'Courier New',monospace\">Ошибка при классификации вопроса <span style=\"color: #008080; text-decoration-color: #008080; font-weight: bold\">6</span>: RetryError<span style=\"font-weight: bold\">[&lt;</span><span style=\"color: #ff00ff; text-decoration-color: #ff00ff; font-weight: bold\">Future</span><span style=\"color: #000000; text-decoration-color: #000000\"> at </span><span style=\"color: #008080; text-decoration-color: #008080; font-weight: bold\">0x164c73fd0</span><span style=\"color: #000000; text-decoration-color: #000000\"> </span><span style=\"color: #808000; text-decoration-color: #808000\">state</span><span style=\"color: #000000; text-decoration-color: #000000\">=</span><span style=\"color: #800080; text-decoration-color: #800080\">finished</span><span style=\"color: #000000; text-decoration-color: #000000\"> raised </span>\n",
              "<span style=\"color: #000000; text-decoration-color: #000000\">InstructorRetryException</span><span style=\"font-weight: bold\">&gt;]</span>\n",
              "</pre>\n"
            ],
            "text/plain": [
              "Ошибка при классификации вопроса \u001b[1;36m6\u001b[0m: RetryError\u001b[1m[\u001b[0m\u001b[1m<\u001b[0m\u001b[1;95mFuture\u001b[0m\u001b[39m at \u001b[0m\u001b[1;36m0x164c73fd0\u001b[0m\u001b[39m \u001b[0m\u001b[33mstate\u001b[0m\u001b[39m=\u001b[0m\u001b[35mfinished\u001b[0m\u001b[39m raised \u001b[0m\n",
              "\u001b[39mInstructorRetryException\u001b[0m\u001b[1m>\u001b[0m\u001b[1m]\u001b[0m\n"
            ]
          },
          "metadata": {},
          "output_type": "display_data"
        },
        {
          "data": {
            "text/html": [
              "<pre style=\"white-space:pre;overflow-x:auto;line-height:normal;font-family:Menlo,'DejaVu Sans Mono',consolas,'Courier New',monospace\">Ошибка при классификации вопроса <span style=\"color: #008080; text-decoration-color: #008080; font-weight: bold\">8</span>: RetryError<span style=\"font-weight: bold\">[&lt;</span><span style=\"color: #ff00ff; text-decoration-color: #ff00ff; font-weight: bold\">Future</span><span style=\"color: #000000; text-decoration-color: #000000\"> at </span><span style=\"color: #008080; text-decoration-color: #008080; font-weight: bold\">0x164cf45d0</span><span style=\"color: #000000; text-decoration-color: #000000\"> </span><span style=\"color: #808000; text-decoration-color: #808000\">state</span><span style=\"color: #000000; text-decoration-color: #000000\">=</span><span style=\"color: #800080; text-decoration-color: #800080\">finished</span><span style=\"color: #000000; text-decoration-color: #000000\"> raised </span>\n",
              "<span style=\"color: #000000; text-decoration-color: #000000\">InstructorRetryException</span><span style=\"font-weight: bold\">&gt;]</span>\n",
              "</pre>\n"
            ],
            "text/plain": [
              "Ошибка при классификации вопроса \u001b[1;36m8\u001b[0m: RetryError\u001b[1m[\u001b[0m\u001b[1m<\u001b[0m\u001b[1;95mFuture\u001b[0m\u001b[39m at \u001b[0m\u001b[1;36m0x164cf45d0\u001b[0m\u001b[39m \u001b[0m\u001b[33mstate\u001b[0m\u001b[39m=\u001b[0m\u001b[35mfinished\u001b[0m\u001b[39m raised \u001b[0m\n",
              "\u001b[39mInstructorRetryException\u001b[0m\u001b[1m>\u001b[0m\u001b[1m]\u001b[0m\n"
            ]
          },
          "metadata": {},
          "output_type": "display_data"
        },
        {
          "data": {
            "text/html": [
              "<pre style=\"white-space:pre;overflow-x:auto;line-height:normal;font-family:Menlo,'DejaVu Sans Mono',consolas,'Courier New',monospace\">Ошибка при классификации вопроса <span style=\"color: #008080; text-decoration-color: #008080; font-weight: bold\">2</span>: RetryError<span style=\"font-weight: bold\">[&lt;</span><span style=\"color: #ff00ff; text-decoration-color: #ff00ff; font-weight: bold\">Future</span><span style=\"color: #000000; text-decoration-color: #000000\"> at </span><span style=\"color: #008080; text-decoration-color: #008080; font-weight: bold\">0x164cf6290</span><span style=\"color: #000000; text-decoration-color: #000000\"> </span><span style=\"color: #808000; text-decoration-color: #808000\">state</span><span style=\"color: #000000; text-decoration-color: #000000\">=</span><span style=\"color: #800080; text-decoration-color: #800080\">finished</span><span style=\"color: #000000; text-decoration-color: #000000\"> raised </span>\n",
              "<span style=\"color: #000000; text-decoration-color: #000000\">InstructorRetryException</span><span style=\"font-weight: bold\">&gt;]</span>\n",
              "</pre>\n"
            ],
            "text/plain": [
              "Ошибка при классификации вопроса \u001b[1;36m2\u001b[0m: RetryError\u001b[1m[\u001b[0m\u001b[1m<\u001b[0m\u001b[1;95mFuture\u001b[0m\u001b[39m at \u001b[0m\u001b[1;36m0x164cf6290\u001b[0m\u001b[39m \u001b[0m\u001b[33mstate\u001b[0m\u001b[39m=\u001b[0m\u001b[35mfinished\u001b[0m\u001b[39m raised \u001b[0m\n",
              "\u001b[39mInstructorRetryException\u001b[0m\u001b[1m>\u001b[0m\u001b[1m]\u001b[0m\n"
            ]
          },
          "metadata": {},
          "output_type": "display_data"
        },
        {
          "data": {
            "text/html": [
              "<pre style=\"white-space:pre;overflow-x:auto;line-height:normal;font-family:Menlo,'DejaVu Sans Mono',consolas,'Courier New',monospace\">Ошибка при классификации вопроса <span style=\"color: #008080; text-decoration-color: #008080; font-weight: bold\">9</span>: RetryError<span style=\"font-weight: bold\">[&lt;</span><span style=\"color: #ff00ff; text-decoration-color: #ff00ff; font-weight: bold\">Future</span><span style=\"color: #000000; text-decoration-color: #000000\"> at </span><span style=\"color: #008080; text-decoration-color: #008080; font-weight: bold\">0x164d7ee10</span><span style=\"color: #000000; text-decoration-color: #000000\"> </span><span style=\"color: #808000; text-decoration-color: #808000\">state</span><span style=\"color: #000000; text-decoration-color: #000000\">=</span><span style=\"color: #800080; text-decoration-color: #800080\">finished</span><span style=\"color: #000000; text-decoration-color: #000000\"> raised </span>\n",
              "<span style=\"color: #000000; text-decoration-color: #000000\">InstructorRetryException</span><span style=\"font-weight: bold\">&gt;]</span>\n",
              "</pre>\n"
            ],
            "text/plain": [
              "Ошибка при классификации вопроса \u001b[1;36m9\u001b[0m: RetryError\u001b[1m[\u001b[0m\u001b[1m<\u001b[0m\u001b[1;95mFuture\u001b[0m\u001b[39m at \u001b[0m\u001b[1;36m0x164d7ee10\u001b[0m\u001b[39m \u001b[0m\u001b[33mstate\u001b[0m\u001b[39m=\u001b[0m\u001b[35mfinished\u001b[0m\u001b[39m raised \u001b[0m\n",
              "\u001b[39mInstructorRetryException\u001b[0m\u001b[1m>\u001b[0m\u001b[1m]\u001b[0m\n"
            ]
          },
          "metadata": {},
          "output_type": "display_data"
        },
        {
          "name": "stderr",
          "output_type": "stream",
          "text": [
            "Классификация вопросов:  60%|██████    | 6/10 [00:54<00:27,  6.95s/it]"
          ]
        },
        {
          "data": {
            "text/html": [
              "<pre style=\"white-space:pre;overflow-x:auto;line-height:normal;font-family:Menlo,'DejaVu Sans Mono',consolas,'Courier New',monospace\">Ошибка при классификации вопроса <span style=\"color: #008080; text-decoration-color: #008080; font-weight: bold\">3</span>: RetryError<span style=\"font-weight: bold\">[&lt;</span><span style=\"color: #ff00ff; text-decoration-color: #ff00ff; font-weight: bold\">Future</span><span style=\"color: #000000; text-decoration-color: #000000\"> at </span><span style=\"color: #008080; text-decoration-color: #008080; font-weight: bold\">0x164d88790</span><span style=\"color: #000000; text-decoration-color: #000000\"> </span><span style=\"color: #808000; text-decoration-color: #808000\">state</span><span style=\"color: #000000; text-decoration-color: #000000\">=</span><span style=\"color: #800080; text-decoration-color: #800080\">finished</span><span style=\"color: #000000; text-decoration-color: #000000\"> raised </span>\n",
              "<span style=\"color: #000000; text-decoration-color: #000000\">InstructorRetryException</span><span style=\"font-weight: bold\">&gt;]</span>\n",
              "</pre>\n"
            ],
            "text/plain": [
              "Ошибка при классификации вопроса \u001b[1;36m3\u001b[0m: RetryError\u001b[1m[\u001b[0m\u001b[1m<\u001b[0m\u001b[1;95mFuture\u001b[0m\u001b[39m at \u001b[0m\u001b[1;36m0x164d88790\u001b[0m\u001b[39m \u001b[0m\u001b[33mstate\u001b[0m\u001b[39m=\u001b[0m\u001b[35mfinished\u001b[0m\u001b[39m raised \u001b[0m\n",
              "\u001b[39mInstructorRetryException\u001b[0m\u001b[1m>\u001b[0m\u001b[1m]\u001b[0m\n"
            ]
          },
          "metadata": {},
          "output_type": "display_data"
        },
        {
          "data": {
            "text/html": [
              "<pre style=\"white-space:pre;overflow-x:auto;line-height:normal;font-family:Menlo,'DejaVu Sans Mono',consolas,'Courier New',monospace\">Ошибка при классификации вопроса <span style=\"color: #008080; text-decoration-color: #008080; font-weight: bold\">5</span>: RetryError<span style=\"font-weight: bold\">[&lt;</span><span style=\"color: #ff00ff; text-decoration-color: #ff00ff; font-weight: bold\">Future</span><span style=\"color: #000000; text-decoration-color: #000000\"> at </span><span style=\"color: #008080; text-decoration-color: #008080; font-weight: bold\">0x164d88e50</span><span style=\"color: #000000; text-decoration-color: #000000\"> </span><span style=\"color: #808000; text-decoration-color: #808000\">state</span><span style=\"color: #000000; text-decoration-color: #000000\">=</span><span style=\"color: #800080; text-decoration-color: #800080\">finished</span><span style=\"color: #000000; text-decoration-color: #000000\"> raised </span>\n",
              "<span style=\"color: #000000; text-decoration-color: #000000\">InstructorRetryException</span><span style=\"font-weight: bold\">&gt;]</span>\n",
              "</pre>\n"
            ],
            "text/plain": [
              "Ошибка при классификации вопроса \u001b[1;36m5\u001b[0m: RetryError\u001b[1m[\u001b[0m\u001b[1m<\u001b[0m\u001b[1;95mFuture\u001b[0m\u001b[39m at \u001b[0m\u001b[1;36m0x164d88e50\u001b[0m\u001b[39m \u001b[0m\u001b[33mstate\u001b[0m\u001b[39m=\u001b[0m\u001b[35mfinished\u001b[0m\u001b[39m raised \u001b[0m\n",
              "\u001b[39mInstructorRetryException\u001b[0m\u001b[1m>\u001b[0m\u001b[1m]\u001b[0m\n"
            ]
          },
          "metadata": {},
          "output_type": "display_data"
        },
        {
          "data": {
            "text/html": [
              "<pre style=\"white-space:pre;overflow-x:auto;line-height:normal;font-family:Menlo,'DejaVu Sans Mono',consolas,'Courier New',monospace\">Ошибка при классификации вопроса <span style=\"color: #008080; text-decoration-color: #008080; font-weight: bold\">7</span>: RetryError<span style=\"font-weight: bold\">[&lt;</span><span style=\"color: #ff00ff; text-decoration-color: #ff00ff; font-weight: bold\">Future</span><span style=\"color: #000000; text-decoration-color: #000000\"> at </span><span style=\"color: #008080; text-decoration-color: #008080; font-weight: bold\">0x164d6a310</span><span style=\"color: #000000; text-decoration-color: #000000\"> </span><span style=\"color: #808000; text-decoration-color: #808000\">state</span><span style=\"color: #000000; text-decoration-color: #000000\">=</span><span style=\"color: #800080; text-decoration-color: #800080\">finished</span><span style=\"color: #000000; text-decoration-color: #000000\"> raised </span>\n",
              "<span style=\"color: #000000; text-decoration-color: #000000\">InstructorRetryException</span><span style=\"font-weight: bold\">&gt;]</span>\n",
              "</pre>\n"
            ],
            "text/plain": [
              "Ошибка при классификации вопроса \u001b[1;36m7\u001b[0m: RetryError\u001b[1m[\u001b[0m\u001b[1m<\u001b[0m\u001b[1;95mFuture\u001b[0m\u001b[39m at \u001b[0m\u001b[1;36m0x164d6a310\u001b[0m\u001b[39m \u001b[0m\u001b[33mstate\u001b[0m\u001b[39m=\u001b[0m\u001b[35mfinished\u001b[0m\u001b[39m raised \u001b[0m\n",
              "\u001b[39mInstructorRetryException\u001b[0m\u001b[1m>\u001b[0m\u001b[1m]\u001b[0m\n"
            ]
          },
          "metadata": {},
          "output_type": "display_data"
        },
        {
          "data": {
            "text/html": [
              "<pre style=\"white-space:pre;overflow-x:auto;line-height:normal;font-family:Menlo,'DejaVu Sans Mono',consolas,'Courier New',monospace\">Ошибка при классификации вопроса <span style=\"color: #008080; text-decoration-color: #008080; font-weight: bold\">1</span>: RetryError<span style=\"font-weight: bold\">[&lt;</span><span style=\"color: #ff00ff; text-decoration-color: #ff00ff; font-weight: bold\">Future</span><span style=\"color: #000000; text-decoration-color: #000000\"> at </span><span style=\"color: #008080; text-decoration-color: #008080; font-weight: bold\">0x164d7f950</span><span style=\"color: #000000; text-decoration-color: #000000\"> </span><span style=\"color: #808000; text-decoration-color: #808000\">state</span><span style=\"color: #000000; text-decoration-color: #000000\">=</span><span style=\"color: #800080; text-decoration-color: #800080\">finished</span><span style=\"color: #000000; text-decoration-color: #000000\"> raised </span>\n",
              "<span style=\"color: #000000; text-decoration-color: #000000\">InstructorRetryException</span><span style=\"font-weight: bold\">&gt;]</span>\n",
              "</pre>\n"
            ],
            "text/plain": [
              "Ошибка при классификации вопроса \u001b[1;36m1\u001b[0m: RetryError\u001b[1m[\u001b[0m\u001b[1m<\u001b[0m\u001b[1;95mFuture\u001b[0m\u001b[39m at \u001b[0m\u001b[1;36m0x164d7f950\u001b[0m\u001b[39m \u001b[0m\u001b[33mstate\u001b[0m\u001b[39m=\u001b[0m\u001b[35mfinished\u001b[0m\u001b[39m raised \u001b[0m\n",
              "\u001b[39mInstructorRetryException\u001b[0m\u001b[1m>\u001b[0m\u001b[1m]\u001b[0m\n"
            ]
          },
          "metadata": {},
          "output_type": "display_data"
        },
        {
          "name": "stderr",
          "output_type": "stream",
          "text": [
            "Классификация вопросов: 100%|██████████| 10/10 [00:54<00:00,  5.45s/it]\n"
          ]
        },
        {
          "data": {
            "text/html": [
              "<pre style=\"white-space:pre;overflow-x:auto;line-height:normal;font-family:Menlo,'DejaVu Sans Mono',consolas,'Courier New',monospace\">\n",
              "Результаты классификации:\n",
              "</pre>\n"
            ],
            "text/plain": [
              "\n",
              "Результаты классификации:\n"
            ]
          },
          "metadata": {},
          "output_type": "display_data"
        },
        {
          "data": {
            "text/html": [
              "<pre style=\"white-space:pre;overflow-x:auto;line-height:normal;font-family:Menlo,'DejaVu Sans Mono',consolas,'Courier New',monospace\">\n",
              "Вопрос: Как стать клиентом банка онлайн?\n",
              "</pre>\n"
            ],
            "text/plain": [
              "\n",
              "Вопрос: Как стать клиентом банка онлайн?\n"
            ]
          },
          "metadata": {},
          "output_type": "display_data"
        },
        {
          "data": {
            "text/html": [
              "<pre style=\"white-space:pre;overflow-x:auto;line-height:normal;font-family:Menlo,'DejaVu Sans Mono',consolas,'Courier New',monospace\">Стиль: Официальный\n",
              "</pre>\n"
            ],
            "text/plain": [
              "Стиль: Официальный\n"
            ]
          },
          "metadata": {},
          "output_type": "display_data"
        },
        {
          "data": {
            "text/html": [
              "<pre style=\"white-space:pre;overflow-x:auto;line-height:normal;font-family:Menlo,'DejaVu Sans Mono',consolas,'Courier New',monospace\">\n",
              "Вопрос: Регистрация через МСИ <span style=\"font-weight: bold\">(</span>Межбанковская система идентификации<span style=\"font-weight: bold\">)</span>\n",
              "</pre>\n"
            ],
            "text/plain": [
              "\n",
              "Вопрос: Регистрация через МСИ \u001b[1m(\u001b[0mМежбанковская система идентификации\u001b[1m)\u001b[0m\n"
            ]
          },
          "metadata": {},
          "output_type": "display_data"
        },
        {
          "data": {
            "text/html": [
              "<pre style=\"white-space:pre;overflow-x:auto;line-height:normal;font-family:Menlo,'DejaVu Sans Mono',consolas,'Courier New',monospace\">Стиль: Официальный\n",
              "</pre>\n"
            ],
            "text/plain": [
              "Стиль: Официальный\n"
            ]
          },
          "metadata": {},
          "output_type": "display_data"
        },
        {
          "data": {
            "text/html": [
              "<pre style=\"white-space:pre;overflow-x:auto;line-height:normal;font-family:Menlo,'DejaVu Sans Mono',consolas,'Courier New',monospace\">\n",
              "Вопрос: Документы для регистрации нового клиента\n",
              "</pre>\n"
            ],
            "text/plain": [
              "\n",
              "Вопрос: Документы для регистрации нового клиента\n"
            ]
          },
          "metadata": {},
          "output_type": "display_data"
        },
        {
          "data": {
            "text/html": [
              "<pre style=\"white-space:pre;overflow-x:auto;line-height:normal;font-family:Menlo,'DejaVu Sans Mono',consolas,'Courier New',monospace\">Стиль: Официальный\n",
              "</pre>\n"
            ],
            "text/plain": [
              "Стиль: Официальный\n"
            ]
          },
          "metadata": {},
          "output_type": "display_data"
        },
        {
          "data": {
            "text/html": [
              "<pre style=\"white-space:pre;overflow-x:auto;line-height:normal;font-family:Menlo,'DejaVu Sans Mono',consolas,'Courier New',monospace\">\n",
              "Вопрос: Первый вход в Интернет-банк\n",
              "</pre>\n"
            ],
            "text/plain": [
              "\n",
              "Вопрос: Первый вход в Интернет-банк\n"
            ]
          },
          "metadata": {},
          "output_type": "display_data"
        },
        {
          "data": {
            "text/html": [
              "<pre style=\"white-space:pre;overflow-x:auto;line-height:normal;font-family:Menlo,'DejaVu Sans Mono',consolas,'Courier New',monospace\">Стиль: Официальный\n",
              "</pre>\n"
            ],
            "text/plain": [
              "Стиль: Официальный\n"
            ]
          },
          "metadata": {},
          "output_type": "display_data"
        },
        {
          "data": {
            "text/html": [
              "<pre style=\"white-space:pre;overflow-x:auto;line-height:normal;font-family:Menlo,'DejaVu Sans Mono',consolas,'Courier New',monospace\">\n",
              "Вопрос: Как скачать и настроить мобильное приложение?\n",
              "</pre>\n"
            ],
            "text/plain": [
              "\n",
              "Вопрос: Как скачать и настроить мобильное приложение?\n"
            ]
          },
          "metadata": {},
          "output_type": "display_data"
        },
        {
          "data": {
            "text/html": [
              "<pre style=\"white-space:pre;overflow-x:auto;line-height:normal;font-family:Menlo,'DejaVu Sans Mono',consolas,'Courier New',monospace\">Стиль: Официальный\n",
              "</pre>\n"
            ],
            "text/plain": [
              "Стиль: Официальный\n"
            ]
          },
          "metadata": {},
          "output_type": "display_data"
        },
        {
          "data": {
            "text/html": [
              "<pre style=\"white-space:pre;overflow-x:auto;line-height:normal;font-family:Menlo,'DejaVu Sans Mono',consolas,'Courier New',monospace\">\n",
              "Вопрос: Не могу войти в Интернет-банк\n",
              "</pre>\n"
            ],
            "text/plain": [
              "\n",
              "Вопрос: Не могу войти в Интернет-банк\n"
            ]
          },
          "metadata": {},
          "output_type": "display_data"
        },
        {
          "data": {
            "text/html": [
              "<pre style=\"white-space:pre;overflow-x:auto;line-height:normal;font-family:Menlo,'DejaVu Sans Mono',consolas,'Courier New',monospace\">Стиль: Официальный\n",
              "</pre>\n"
            ],
            "text/plain": [
              "Стиль: Официальный\n"
            ]
          },
          "metadata": {},
          "output_type": "display_data"
        },
        {
          "data": {
            "text/html": [
              "<pre style=\"white-space:pre;overflow-x:auto;line-height:normal;font-family:Menlo,'DejaVu Sans Mono',consolas,'Courier New',monospace\">\n",
              "Вопрос: Я нахожусь за пределами Республики Беларусь. Как я могу связаться с работниками банка, за исключением \n",
              "телефонного звонка?\n",
              "</pre>\n"
            ],
            "text/plain": [
              "\n",
              "Вопрос: Я нахожусь за пределами Республики Беларусь. Как я могу связаться с работниками банка, за исключением \n",
              "телефонного звонка?\n"
            ]
          },
          "metadata": {},
          "output_type": "display_data"
        },
        {
          "data": {
            "text/html": [
              "<pre style=\"white-space:pre;overflow-x:auto;line-height:normal;font-family:Menlo,'DejaVu Sans Mono',consolas,'Courier New',monospace\">Стиль: Официальный\n",
              "</pre>\n"
            ],
            "text/plain": [
              "Стиль: Официальный\n"
            ]
          },
          "metadata": {},
          "output_type": "display_data"
        },
        {
          "data": {
            "text/html": [
              "<pre style=\"white-space:pre;overflow-x:auto;line-height:normal;font-family:Menlo,'DejaVu Sans Mono',consolas,'Courier New',monospace\">\n",
              "Вопрос: Забыл пароль от мобильного приложения\n",
              "</pre>\n"
            ],
            "text/plain": [
              "\n",
              "Вопрос: Забыл пароль от мобильного приложения\n"
            ]
          },
          "metadata": {},
          "output_type": "display_data"
        },
        {
          "data": {
            "text/html": [
              "<pre style=\"white-space:pre;overflow-x:auto;line-height:normal;font-family:Menlo,'DejaVu Sans Mono',consolas,'Courier New',monospace\">Стиль: Официальный\n",
              "</pre>\n"
            ],
            "text/plain": [
              "Стиль: Официальный\n"
            ]
          },
          "metadata": {},
          "output_type": "display_data"
        },
        {
          "data": {
            "text/html": [
              "<pre style=\"white-space:pre;overflow-x:auto;line-height:normal;font-family:Menlo,'DejaVu Sans Mono',consolas,'Courier New',monospace\">\n",
              "Вопрос: Карта заблокирована - что делать?\n",
              "</pre>\n"
            ],
            "text/plain": [
              "\n",
              "Вопрос: Карта заблокирована - что делать?\n"
            ]
          },
          "metadata": {},
          "output_type": "display_data"
        },
        {
          "data": {
            "text/html": [
              "<pre style=\"white-space:pre;overflow-x:auto;line-height:normal;font-family:Menlo,'DejaVu Sans Mono',consolas,'Courier New',monospace\">Стиль: Официальный\n",
              "</pre>\n"
            ],
            "text/plain": [
              "Стиль: Официальный\n"
            ]
          },
          "metadata": {},
          "output_type": "display_data"
        },
        {
          "data": {
            "text/html": [
              "<pre style=\"white-space:pre;overflow-x:auto;line-height:normal;font-family:Menlo,'DejaVu Sans Mono',consolas,'Courier New',monospace\">\n",
              "Вопрос: Могу ли я оставить обращение, не обращаясь лично в офис банка?\n",
              "\n",
              "</pre>\n"
            ],
            "text/plain": [
              "\n",
              "Вопрос: Могу ли я оставить обращение, не обращаясь лично в офис банка?\n",
              "\n"
            ]
          },
          "metadata": {},
          "output_type": "display_data"
        },
        {
          "data": {
            "text/html": [
              "<pre style=\"white-space:pre;overflow-x:auto;line-height:normal;font-family:Menlo,'DejaVu Sans Mono',consolas,'Courier New',monospace\">Стиль: Официальный\n",
              "</pre>\n"
            ],
            "text/plain": [
              "Стиль: Официальный\n"
            ]
          },
          "metadata": {},
          "output_type": "display_data"
        }
      ],
      "source": [
        "test_df = df_existing.head(10).copy()\n",
        "\n",
        "test_results = await classify_all_questions(test_df, max_concurrent=5)\n",
        "\n",
        "test_df['Стиль вопроса'] = test_df.index.map(test_results)\n",
        "\n",
        "print(\"\\nРезультаты классификации:\")\n",
        "for idx, row in test_df.iterrows():\n",
        "    print(f\"\\nВопрос: {row['Пример вопроса']}\")\n",
        "    print(f\"Стиль: {row['Стиль вопроса']}\")\n"
      ]
    },
    {
      "cell_type": "markdown",
      "metadata": {},
      "source": [
        "### Классификация всего датасета\n",
        "\n",
        "ВАЖНО: Это займет некоторое время в зависимости от размера датасета\n"
      ]
    },
    {
      "cell_type": "code",
      "execution_count": 62,
      "metadata": {},
      "outputs": [
        {
          "data": {
            "text/html": [
              "<pre style=\"white-space:pre;overflow-x:auto;line-height:normal;font-family:Menlo,'DejaVu Sans Mono',consolas,'Courier New',monospace\">Начинаем классификацию <span style=\"color: #008080; text-decoration-color: #008080; font-weight: bold\">527</span> вопросов<span style=\"color: #808000; text-decoration-color: #808000\">...</span>\n",
              "</pre>\n"
            ],
            "text/plain": [
              "Начинаем классификацию \u001b[1;36m527\u001b[0m вопросов\u001b[33m...\u001b[0m\n"
            ]
          },
          "metadata": {},
          "output_type": "display_data"
        },
        {
          "data": {
            "text/html": [
              "<pre style=\"white-space:pre;overflow-x:auto;line-height:normal;font-family:Menlo,'DejaVu Sans Mono',consolas,'Courier New',monospace\">Это займет примерно <span style=\"color: #008080; text-decoration-color: #008080; font-weight: bold\">52</span> минут\n",
              "</pre>\n"
            ],
            "text/plain": [
              "Это займет примерно \u001b[1;36m52\u001b[0m минут\n"
            ]
          },
          "metadata": {},
          "output_type": "display_data"
        },
        {
          "name": "stderr",
          "output_type": "stream",
          "text": [
            "Классификация вопросов: 100%|██████████| 527/527 [01:48<00:00,  4.84it/s]\n"
          ]
        },
        {
          "data": {
            "text/html": [
              "<pre style=\"white-space:pre;overflow-x:auto;line-height:normal;font-family:Menlo,'DejaVu Sans Mono',consolas,'Courier New',monospace\">\n",
              "✓ Классификация завершена!\n",
              "</pre>\n"
            ],
            "text/plain": [
              "\n",
              "✓ Классификация завершена!\n"
            ]
          },
          "metadata": {},
          "output_type": "display_data"
        },
        {
          "data": {
            "text/html": [
              "<pre style=\"white-space:pre;overflow-x:auto;line-height:normal;font-family:Menlo,'DejaVu Sans Mono',consolas,'Courier New',monospace\">\n",
              "Распределение по стилям:\n",
              "</pre>\n"
            ],
            "text/plain": [
              "\n",
              "Распределение по стилям:\n"
            ]
          },
          "metadata": {},
          "output_type": "display_data"
        },
        {
          "data": {
            "text/html": [
              "<pre style=\"white-space:pre;overflow-x:auto;line-height:normal;font-family:Menlo,'DejaVu Sans Mono',consolas,'Courier New',monospace\">  Официальный: <span style=\"color: #008080; text-decoration-color: #008080; font-weight: bold\">275</span> <span style=\"font-weight: bold\">(</span><span style=\"color: #008080; text-decoration-color: #008080; font-weight: bold\">52.2</span>%<span style=\"font-weight: bold\">)</span>\n",
              "</pre>\n"
            ],
            "text/plain": [
              "  Официальный: \u001b[1;36m275\u001b[0m \u001b[1m(\u001b[0m\u001b[1;36m52.2\u001b[0m%\u001b[1m)\u001b[0m\n"
            ]
          },
          "metadata": {},
          "output_type": "display_data"
        },
        {
          "data": {
            "text/html": [
              "<pre style=\"white-space:pre;overflow-x:auto;line-height:normal;font-family:Menlo,'DejaVu Sans Mono',consolas,'Courier New',monospace\">  Сленговый: <span style=\"color: #008080; text-decoration-color: #008080; font-weight: bold\">202</span> <span style=\"font-weight: bold\">(</span><span style=\"color: #008080; text-decoration-color: #008080; font-weight: bold\">38.3</span>%<span style=\"font-weight: bold\">)</span>\n",
              "</pre>\n"
            ],
            "text/plain": [
              "  Сленговый: \u001b[1;36m202\u001b[0m \u001b[1m(\u001b[0m\u001b[1;36m38.3\u001b[0m%\u001b[1m)\u001b[0m\n"
            ]
          },
          "metadata": {},
          "output_type": "display_data"
        },
        {
          "data": {
            "text/html": [
              "<pre style=\"white-space:pre;overflow-x:auto;line-height:normal;font-family:Menlo,'DejaVu Sans Mono',consolas,'Courier New',monospace\">  Жаргонный: <span style=\"color: #008080; text-decoration-color: #008080; font-weight: bold\">45</span> <span style=\"font-weight: bold\">(</span><span style=\"color: #008080; text-decoration-color: #008080; font-weight: bold\">8.5</span>%<span style=\"font-weight: bold\">)</span>\n",
              "</pre>\n"
            ],
            "text/plain": [
              "  Жаргонный: \u001b[1;36m45\u001b[0m \u001b[1m(\u001b[0m\u001b[1;36m8.5\u001b[0m%\u001b[1m)\u001b[0m\n"
            ]
          },
          "metadata": {},
          "output_type": "display_data"
        },
        {
          "data": {
            "text/html": [
              "<pre style=\"white-space:pre;overflow-x:auto;line-height:normal;font-family:Menlo,'DejaVu Sans Mono',consolas,'Courier New',monospace\">  Технический жаргон: <span style=\"color: #008080; text-decoration-color: #008080; font-weight: bold\">5</span> <span style=\"font-weight: bold\">(</span><span style=\"color: #008080; text-decoration-color: #008080; font-weight: bold\">0.9</span>%<span style=\"font-weight: bold\">)</span>\n",
              "</pre>\n"
            ],
            "text/plain": [
              "  Технический жаргон: \u001b[1;36m5\u001b[0m \u001b[1m(\u001b[0m\u001b[1;36m0.9\u001b[0m%\u001b[1m)\u001b[0m\n"
            ]
          },
          "metadata": {},
          "output_type": "display_data"
        }
      ],
      "source": [
        "print(f\"Начинаем классификацию {len(df_existing)} вопросов...\")\n",
        "print(\"Это займет примерно\", len(df_existing) // 10, \"минут\")\n",
        "\n",
        "all_results = await classify_all_questions(df_existing, max_concurrent=10)\n",
        "\n",
        "df_existing['Стиль вопроса'] = df_existing.index.map(all_results)\n",
        "\n",
        "print(\"\\n✓ Классификация завершена!\")\n",
        "print(f\"\\nРаспределение по стилям:\")\n",
        "style_dist = df_existing['Стиль вопроса'].value_counts()\n",
        "for style, count in style_dist.items():\n",
        "    percentage = count / len(df_existing) * 100\n",
        "    print(f\"  {style}: {count} ({percentage:.1f}%)\")\n"
      ]
    },
    {
      "cell_type": "markdown",
      "metadata": {},
      "source": [
        "### Сохранение проиндексированного датасета\n"
      ]
    },
    {
      "cell_type": "code",
      "execution_count": 63,
      "metadata": {},
      "outputs": [
        {
          "data": {
            "text/html": [
              "<pre style=\"white-space:pre;overflow-x:auto;line-height:normal;font-family:Menlo,'DejaVu Sans Mono',consolas,'Courier New',monospace\">✓ Датасет с классификацией стилей сохранен: ..<span style=\"color: #800080; text-decoration-color: #800080\">/data/</span><span style=\"color: #ff00ff; text-decoration-color: #ff00ff\">knowledge_base_augmented_styled.csv</span>\n",
              "</pre>\n"
            ],
            "text/plain": [
              "✓ Датасет с классификацией стилей сохранен: ..\u001b[35m/data/\u001b[0m\u001b[95mknowledge_base_augmented_styled.csv\u001b[0m\n"
            ]
          },
          "metadata": {},
          "output_type": "display_data"
        },
        {
          "data": {
            "text/html": [
              "<pre style=\"white-space:pre;overflow-x:auto;line-height:normal;font-family:Menlo,'DejaVu Sans Mono',consolas,'Courier New',monospace\">\n",
              "Итоговая статистика:\n",
              "</pre>\n"
            ],
            "text/plain": [
              "\n",
              "Итоговая статистика:\n"
            ]
          },
          "metadata": {},
          "output_type": "display_data"
        },
        {
          "data": {
            "text/html": [
              "<pre style=\"white-space:pre;overflow-x:auto;line-height:normal;font-family:Menlo,'DejaVu Sans Mono',consolas,'Courier New',monospace\">- Всего записей: <span style=\"color: #008080; text-decoration-color: #008080; font-weight: bold\">527</span>\n",
              "</pre>\n"
            ],
            "text/plain": [
              "- Всего записей: \u001b[1;36m527\u001b[0m\n"
            ]
          },
          "metadata": {},
          "output_type": "display_data"
        },
        {
          "data": {
            "text/html": [
              "<pre style=\"white-space:pre;overflow-x:auto;line-height:normal;font-family:Menlo,'DejaVu Sans Mono',consolas,'Courier New',monospace\">- Оригинальных: <span style=\"color: #008080; text-decoration-color: #008080; font-weight: bold\">202</span>\n",
              "</pre>\n"
            ],
            "text/plain": [
              "- Оригинальных: \u001b[1;36m202\u001b[0m\n"
            ]
          },
          "metadata": {},
          "output_type": "display_data"
        },
        {
          "data": {
            "text/html": [
              "<pre style=\"white-space:pre;overflow-x:auto;line-height:normal;font-family:Menlo,'DejaVu Sans Mono',consolas,'Courier New',monospace\">- Синтетических: <span style=\"color: #008080; text-decoration-color: #008080; font-weight: bold\">325</span>\n",
              "</pre>\n"
            ],
            "text/plain": [
              "- Синтетических: \u001b[1;36m325\u001b[0m\n"
            ]
          },
          "metadata": {},
          "output_type": "display_data"
        },
        {
          "data": {
            "text/html": [
              "<pre style=\"white-space:pre;overflow-x:auto;line-height:normal;font-family:Menlo,'DejaVu Sans Mono',consolas,'Courier New',monospace\">\n",
              "Колонки датасета:\n",
              "</pre>\n"
            ],
            "text/plain": [
              "\n",
              "Колонки датасета:\n"
            ]
          },
          "metadata": {},
          "output_type": "display_data"
        },
        {
          "data": {
            "text/html": [
              "<pre style=\"white-space:pre;overflow-x:auto;line-height:normal;font-family:Menlo,'DejaVu Sans Mono',consolas,'Courier New',monospace\"><span style=\"font-weight: bold\">[</span>\n",
              "    <span style=\"color: #008000; text-decoration-color: #008000\">'Основная категория'</span>,\n",
              "    <span style=\"color: #008000; text-decoration-color: #008000\">'Подкатегория'</span>,\n",
              "    <span style=\"color: #008000; text-decoration-color: #008000\">'Пример вопроса'</span>,\n",
              "    <span style=\"color: #008000; text-decoration-color: #008000\">'Целевая аудитория'</span>,\n",
              "    <span style=\"color: #008000; text-decoration-color: #008000\">'Шаблонный ответ'</span>,\n",
              "    <span style=\"color: #008000; text-decoration-color: #008000\">'is_original'</span>,\n",
              "    <span style=\"color: #008000; text-decoration-color: #008000\">'Стиль вопроса'</span>\n",
              "<span style=\"font-weight: bold\">]</span>\n",
              "</pre>\n"
            ],
            "text/plain": [
              "\u001b[1m[\u001b[0m\n",
              "    \u001b[32m'Основная категория'\u001b[0m,\n",
              "    \u001b[32m'Подкатегория'\u001b[0m,\n",
              "    \u001b[32m'Пример вопроса'\u001b[0m,\n",
              "    \u001b[32m'Целевая аудитория'\u001b[0m,\n",
              "    \u001b[32m'Шаблонный ответ'\u001b[0m,\n",
              "    \u001b[32m'is_original'\u001b[0m,\n",
              "    \u001b[32m'Стиль вопроса'\u001b[0m\n",
              "\u001b[1m]\u001b[0m\n"
            ]
          },
          "metadata": {},
          "output_type": "display_data"
        }
      ],
      "source": [
        "output_path_styled = Path('../data/knowledge_base_augmented_styled.csv')\n",
        "df_existing.to_csv(output_path_styled, index=False, encoding='utf-8')\n",
        "\n",
        "print(f\"✓ Датасет с классификацией стилей сохранен: {output_path_styled}\")\n",
        "print(f\"\\nИтоговая статистика:\")\n",
        "print(f\"- Всего записей: {len(df_existing)}\")\n",
        "print(f\"- Оригинальных: {df_existing['is_original'].sum()}\")\n",
        "print(f\"- Синтетических: {(~df_existing['is_original']).sum()}\")\n",
        "print(f\"\\nКолонки датасета:\")\n",
        "print(list(df_existing.columns))\n"
      ]
    },
    {
      "cell_type": "markdown",
      "metadata": {},
      "source": [
        "### Примеры классифицированных вопросов\n"
      ]
    },
    {
      "cell_type": "code",
      "execution_count": 64,
      "metadata": {},
      "outputs": [
        {
          "data": {
            "text/html": [
              "<pre style=\"white-space:pre;overflow-x:auto;line-height:normal;font-family:Menlo,'DejaVu Sans Mono',consolas,'Courier New',monospace\">\n",
              "================================================================================\n",
              "</pre>\n"
            ],
            "text/plain": [
              "\n",
              "================================================================================\n"
            ]
          },
          "metadata": {},
          "output_type": "display_data"
        },
        {
          "data": {
            "text/html": [
              "<pre style=\"white-space:pre;overflow-x:auto;line-height:normal;font-family:Menlo,'DejaVu Sans Mono',consolas,'Courier New',monospace\">Стиль: Жаргонный <span style=\"font-weight: bold\">(</span><span style=\"color: #008080; text-decoration-color: #008080; font-weight: bold\">45</span> вопросов<span style=\"font-weight: bold\">)</span>\n",
              "</pre>\n"
            ],
            "text/plain": [
              "Стиль: Жаргонный \u001b[1m(\u001b[0m\u001b[1;36m45\u001b[0m вопросов\u001b[1m)\u001b[0m\n"
            ]
          },
          "metadata": {},
          "output_type": "display_data"
        },
        {
          "data": {
            "text/html": [
              "<pre style=\"white-space:pre;overflow-x:auto;line-height:normal;font-family:Menlo,'DejaVu Sans Mono',consolas,'Courier New',monospace\">================================================================================\n",
              "</pre>\n"
            ],
            "text/plain": [
              "================================================================================\n"
            ]
          },
          "metadata": {},
          "output_type": "display_data"
        },
        {
          "data": {
            "text/html": [
              "<pre style=\"white-space:pre;overflow-x:auto;line-height:normal;font-family:Menlo,'DejaVu Sans Mono',consolas,'Courier New',monospace\">\n",
              "<span style=\"color: #008080; text-decoration-color: #008080; font-weight: bold\">1</span>. Как бесплатно пополнить карточку MORE?\n",
              "</pre>\n"
            ],
            "text/plain": [
              "\n",
              "\u001b[1;36m1\u001b[0m. Как бесплатно пополнить карточку MORE?\n"
            ]
          },
          "metadata": {},
          "output_type": "display_data"
        },
        {
          "data": {
            "text/html": [
              "<pre style=\"white-space:pre;overflow-x:auto;line-height:normal;font-family:Menlo,'DejaVu Sans Mono',consolas,'Courier New',monospace\">   <span style=\"font-weight: bold\">[</span>Оригинальный<span style=\"font-weight: bold\">]</span> Категория: Продукты - Карты\n",
              "</pre>\n"
            ],
            "text/plain": [
              "   \u001b[1m[\u001b[0mОригинальный\u001b[1m]\u001b[0m Категория: Продукты - Карты\n"
            ]
          },
          "metadata": {},
          "output_type": "display_data"
        },
        {
          "data": {
            "text/html": [
              "<pre style=\"white-space:pre;overflow-x:auto;line-height:normal;font-family:Menlo,'DejaVu Sans Mono',consolas,'Courier New',monospace\">\n",
              "<span style=\"color: #008080; text-decoration-color: #008080; font-weight: bold\">2</span>. Когда платеж по карте PLAT/ON?\n",
              "</pre>\n"
            ],
            "text/plain": [
              "\n",
              "\u001b[1;36m2\u001b[0m. Когда платеж по карте PLAT/ON?\n"
            ]
          },
          "metadata": {},
          "output_type": "display_data"
        },
        {
          "data": {
            "text/html": [
              "<pre style=\"white-space:pre;overflow-x:auto;line-height:normal;font-family:Menlo,'DejaVu Sans Mono',consolas,'Courier New',monospace\">   <span style=\"font-weight: bold\">[</span>Оригинальный<span style=\"font-weight: bold\">]</span> Категория: Продукты - Карты\n",
              "</pre>\n"
            ],
            "text/plain": [
              "   \u001b[1m[\u001b[0mОригинальный\u001b[1m]\u001b[0m Категория: Продукты - Карты\n"
            ]
          },
          "metadata": {},
          "output_type": "display_data"
        },
        {
          "data": {
            "text/html": [
              "<pre style=\"white-space:pre;overflow-x:auto;line-height:normal;font-family:Menlo,'DejaVu Sans Mono',consolas,'Courier New',monospace\">\n",
              "<span style=\"color: #008080; text-decoration-color: #008080; font-weight: bold\">3</span>. Где можно оформить карту ЧЕРЕПАХА?\n",
              "</pre>\n"
            ],
            "text/plain": [
              "\n",
              "\u001b[1;36m3\u001b[0m. Где можно оформить карту ЧЕРЕПАХА?\n"
            ]
          },
          "metadata": {},
          "output_type": "display_data"
        },
        {
          "data": {
            "text/html": [
              "<pre style=\"white-space:pre;overflow-x:auto;line-height:normal;font-family:Menlo,'DejaVu Sans Mono',consolas,'Courier New',monospace\">   <span style=\"font-weight: bold\">[</span>Оригинальный<span style=\"font-weight: bold\">]</span> Категория: Продукты - Карты\n",
              "</pre>\n"
            ],
            "text/plain": [
              "   \u001b[1m[\u001b[0mОригинальный\u001b[1m]\u001b[0m Категория: Продукты - Карты\n"
            ]
          },
          "metadata": {},
          "output_type": "display_data"
        },
        {
          "data": {
            "text/html": [
              "<pre style=\"white-space:pre;overflow-x:auto;line-height:normal;font-family:Menlo,'DejaVu Sans Mono',consolas,'Courier New',monospace\">\n",
              "<span style=\"color: #008080; text-decoration-color: #008080; font-weight: bold\">4</span>. Какие операции доступны по карточке ЧЕРЕПАХА?\n",
              "</pre>\n"
            ],
            "text/plain": [
              "\n",
              "\u001b[1;36m4\u001b[0m. Какие операции доступны по карточке ЧЕРЕПАХА?\n"
            ]
          },
          "metadata": {},
          "output_type": "display_data"
        },
        {
          "data": {
            "text/html": [
              "<pre style=\"white-space:pre;overflow-x:auto;line-height:normal;font-family:Menlo,'DejaVu Sans Mono',consolas,'Courier New',monospace\">   <span style=\"font-weight: bold\">[</span>Оригинальный<span style=\"font-weight: bold\">]</span> Категория: Продукты - Карты\n",
              "</pre>\n"
            ],
            "text/plain": [
              "   \u001b[1m[\u001b[0mОригинальный\u001b[1m]\u001b[0m Категория: Продукты - Карты\n"
            ]
          },
          "metadata": {},
          "output_type": "display_data"
        },
        {
          "data": {
            "text/html": [
              "<pre style=\"white-space:pre;overflow-x:auto;line-height:normal;font-family:Menlo,'DejaVu Sans Mono',consolas,'Courier New',monospace\">\n",
              "<span style=\"color: #008080; text-decoration-color: #008080; font-weight: bold\">5</span>. Как узнать текущий долг по ЧЕРЕПАХЕ?\n",
              "</pre>\n"
            ],
            "text/plain": [
              "\n",
              "\u001b[1;36m5\u001b[0m. Как узнать текущий долг по ЧЕРЕПАХЕ?\n"
            ]
          },
          "metadata": {},
          "output_type": "display_data"
        },
        {
          "data": {
            "text/html": [
              "<pre style=\"white-space:pre;overflow-x:auto;line-height:normal;font-family:Menlo,'DejaVu Sans Mono',consolas,'Courier New',monospace\">   <span style=\"font-weight: bold\">[</span>Оригинальный<span style=\"font-weight: bold\">]</span> Категория: Продукты - Карты\n",
              "</pre>\n"
            ],
            "text/plain": [
              "   \u001b[1m[\u001b[0mОригинальный\u001b[1m]\u001b[0m Категория: Продукты - Карты\n"
            ]
          },
          "metadata": {},
          "output_type": "display_data"
        },
        {
          "data": {
            "text/html": [
              "<pre style=\"white-space:pre;overflow-x:auto;line-height:normal;font-family:Menlo,'DejaVu Sans Mono',consolas,'Courier New',monospace\">\n",
              "<span style=\"color: #008080; text-decoration-color: #008080; font-weight: bold\">6</span>. Какая рассрочка доступна по ЧЕРЕПАХЕ?\n",
              "</pre>\n"
            ],
            "text/plain": [
              "\n",
              "\u001b[1;36m6\u001b[0m. Какая рассрочка доступна по ЧЕРЕПАХЕ?\n"
            ]
          },
          "metadata": {},
          "output_type": "display_data"
        },
        {
          "data": {
            "text/html": [
              "<pre style=\"white-space:pre;overflow-x:auto;line-height:normal;font-family:Menlo,'DejaVu Sans Mono',consolas,'Courier New',monospace\">   <span style=\"font-weight: bold\">[</span>Оригинальный<span style=\"font-weight: bold\">]</span> Категория: Продукты - Карты\n",
              "</pre>\n"
            ],
            "text/plain": [
              "   \u001b[1m[\u001b[0mОригинальный\u001b[1m]\u001b[0m Категория: Продукты - Карты\n"
            ]
          },
          "metadata": {},
          "output_type": "display_data"
        },
        {
          "data": {
            "text/html": [
              "<pre style=\"white-space:pre;overflow-x:auto;line-height:normal;font-family:Menlo,'DejaVu Sans Mono',consolas,'Courier New',monospace\">\n",
              "<span style=\"color: #008080; text-decoration-color: #008080; font-weight: bold\">7</span>. Как погашать долг по ЧЕРЕПАХЕ?\n",
              "</pre>\n"
            ],
            "text/plain": [
              "\n",
              "\u001b[1;36m7\u001b[0m. Как погашать долг по ЧЕРЕПАХЕ?\n"
            ]
          },
          "metadata": {},
          "output_type": "display_data"
        },
        {
          "data": {
            "text/html": [
              "<pre style=\"white-space:pre;overflow-x:auto;line-height:normal;font-family:Menlo,'DejaVu Sans Mono',consolas,'Courier New',monospace\">   <span style=\"font-weight: bold\">[</span>Оригинальный<span style=\"font-weight: bold\">]</span> Категория: Продукты - Карты\n",
              "</pre>\n"
            ],
            "text/plain": [
              "   \u001b[1m[\u001b[0mОригинальный\u001b[1m]\u001b[0m Категория: Продукты - Карты\n"
            ]
          },
          "metadata": {},
          "output_type": "display_data"
        },
        {
          "data": {
            "text/html": [
              "<pre style=\"white-space:pre;overflow-x:auto;line-height:normal;font-family:Menlo,'DejaVu Sans Mono',consolas,'Courier New',monospace\">\n",
              "================================================================================\n",
              "</pre>\n"
            ],
            "text/plain": [
              "\n",
              "================================================================================\n"
            ]
          },
          "metadata": {},
          "output_type": "display_data"
        },
        {
          "data": {
            "text/html": [
              "<pre style=\"white-space:pre;overflow-x:auto;line-height:normal;font-family:Menlo,'DejaVu Sans Mono',consolas,'Courier New',monospace\">Стиль: Технический жаргон <span style=\"font-weight: bold\">(</span><span style=\"color: #008080; text-decoration-color: #008080; font-weight: bold\">5</span> вопросов<span style=\"font-weight: bold\">)</span>\n",
              "</pre>\n"
            ],
            "text/plain": [
              "Стиль: Технический жаргон \u001b[1m(\u001b[0m\u001b[1;36m5\u001b[0m вопросов\u001b[1m)\u001b[0m\n"
            ]
          },
          "metadata": {},
          "output_type": "display_data"
        },
        {
          "data": {
            "text/html": [
              "<pre style=\"white-space:pre;overflow-x:auto;line-height:normal;font-family:Menlo,'DejaVu Sans Mono',consolas,'Courier New',monospace\">================================================================================\n",
              "</pre>\n"
            ],
            "text/plain": [
              "================================================================================\n"
            ]
          },
          "metadata": {},
          "output_type": "display_data"
        },
        {
          "data": {
            "text/html": [
              "<pre style=\"white-space:pre;overflow-x:auto;line-height:normal;font-family:Menlo,'DejaVu Sans Mono',consolas,'Courier New',monospace\">\n",
              "<span style=\"color: #008080; text-decoration-color: #008080; font-weight: bold\">1</span>. Как переключить бонусный период PLAT/ON?\n",
              "</pre>\n"
            ],
            "text/plain": [
              "\n",
              "\u001b[1;36m1\u001b[0m. Как переключить бонусный период PLAT/ON?\n"
            ]
          },
          "metadata": {},
          "output_type": "display_data"
        },
        {
          "data": {
            "text/html": [
              "<pre style=\"white-space:pre;overflow-x:auto;line-height:normal;font-family:Menlo,'DejaVu Sans Mono',consolas,'Courier New',monospace\">   <span style=\"font-weight: bold\">[</span>Оригинальный<span style=\"font-weight: bold\">]</span> Категория: Продукты - Карты\n",
              "</pre>\n"
            ],
            "text/plain": [
              "   \u001b[1m[\u001b[0mОригинальный\u001b[1m]\u001b[0m Категория: Продукты - Карты\n"
            ]
          },
          "metadata": {},
          "output_type": "display_data"
        },
        {
          "data": {
            "text/html": [
              "<pre style=\"white-space:pre;overflow-x:auto;line-height:normal;font-family:Menlo,'DejaVu Sans Mono',consolas,'Courier New',monospace\">\n",
              "<span style=\"color: #008080; text-decoration-color: #008080; font-weight: bold\">2</span>. USSD-запросы для получения информации о платеже\n",
              "</pre>\n"
            ],
            "text/plain": [
              "\n",
              "\u001b[1;36m2\u001b[0m. USSD-запросы для получения информации о платеже\n"
            ]
          },
          "metadata": {},
          "output_type": "display_data"
        },
        {
          "data": {
            "text/html": [
              "<pre style=\"white-space:pre;overflow-x:auto;line-height:normal;font-family:Menlo,'DejaVu Sans Mono',consolas,'Courier New',monospace\">   <span style=\"font-weight: bold\">[</span>Оригинальный<span style=\"font-weight: bold\">]</span> Категория: Частные клиенты\n",
              "</pre>\n"
            ],
            "text/plain": [
              "   \u001b[1m[\u001b[0mОригинальный\u001b[1m]\u001b[0m Категория: Частные клиенты\n"
            ]
          },
          "metadata": {},
          "output_type": "display_data"
        },
        {
          "data": {
            "text/html": [
              "<pre style=\"white-space:pre;overflow-x:auto;line-height:normal;font-family:Menlo,'DejaVu Sans Mono',consolas,'Courier New',monospace\">\n",
              "<span style=\"color: #008080; text-decoration-color: #008080; font-weight: bold\">3</span>. Почему не получается войти под логином и паролем из старого ДБО?\n",
              "</pre>\n"
            ],
            "text/plain": [
              "\n",
              "\u001b[1;36m3\u001b[0m. Почему не получается войти под логином и паролем из старого ДБО?\n"
            ]
          },
          "metadata": {},
          "output_type": "display_data"
        },
        {
          "data": {
            "text/html": [
              "<pre style=\"white-space:pre;overflow-x:auto;line-height:normal;font-family:Menlo,'DejaVu Sans Mono',consolas,'Courier New',monospace\">   <span style=\"font-weight: bold\">[</span>Оригинальный<span style=\"font-weight: bold\">]</span> Категория: Частные клиенты\n",
              "</pre>\n"
            ],
            "text/plain": [
              "   \u001b[1m[\u001b[0mОригинальный\u001b[1m]\u001b[0m Категория: Частные клиенты\n"
            ]
          },
          "metadata": {},
          "output_type": "display_data"
        },
        {
          "data": {
            "text/html": [
              "<pre style=\"white-space:pre;overflow-x:auto;line-height:normal;font-family:Menlo,'DejaVu Sans Mono',consolas,'Courier New',monospace\">\n",
              "<span style=\"color: #008080; text-decoration-color: #008080; font-weight: bold\">4</span>. А логин и пароль в новом Интернет-банке и Мобильном банке отличаются?\n",
              "</pre>\n"
            ],
            "text/plain": [
              "\n",
              "\u001b[1;36m4\u001b[0m. А логин и пароль в новом Интернет-банке и Мобильном банке отличаются?\n"
            ]
          },
          "metadata": {},
          "output_type": "display_data"
        },
        {
          "data": {
            "text/html": [
              "<pre style=\"white-space:pre;overflow-x:auto;line-height:normal;font-family:Menlo,'DejaVu Sans Mono',consolas,'Courier New',monospace\">   <span style=\"font-weight: bold\">[</span>Оригинальный<span style=\"font-weight: bold\">]</span> Категория: Частные клиенты\n",
              "</pre>\n"
            ],
            "text/plain": [
              "   \u001b[1m[\u001b[0mОригинальный\u001b[1m]\u001b[0m Категория: Частные клиенты\n"
            ]
          },
          "metadata": {},
          "output_type": "display_data"
        },
        {
          "data": {
            "text/html": [
              "<pre style=\"white-space:pre;overflow-x:auto;line-height:normal;font-family:Menlo,'DejaVu Sans Mono',consolas,'Courier New',monospace\">\n",
              "<span style=\"color: #008080; text-decoration-color: #008080; font-weight: bold\">5</span>. Так, а где мой логин? Как его найти после регистрации?\n",
              "</pre>\n"
            ],
            "text/plain": [
              "\n",
              "\u001b[1;36m5\u001b[0m. Так, а где мой логин? Как его найти после регистрации?\n"
            ]
          },
          "metadata": {},
          "output_type": "display_data"
        },
        {
          "data": {
            "text/html": [
              "<pre style=\"white-space:pre;overflow-x:auto;line-height:normal;font-family:Menlo,'DejaVu Sans Mono',consolas,'Courier New',monospace\">   <span style=\"font-weight: bold\">[</span>Синтетический<span style=\"font-weight: bold\">]</span> Категория: Новые клиенты\n",
              "</pre>\n"
            ],
            "text/plain": [
              "   \u001b[1m[\u001b[0mСинтетический\u001b[1m]\u001b[0m Категория: Новые клиенты\n"
            ]
          },
          "metadata": {},
          "output_type": "display_data"
        },
        {
          "data": {
            "text/html": [
              "<pre style=\"white-space:pre;overflow-x:auto;line-height:normal;font-family:Menlo,'DejaVu Sans Mono',consolas,'Courier New',monospace\">\n",
              "================================================================================\n",
              "</pre>\n"
            ],
            "text/plain": [
              "\n",
              "================================================================================\n"
            ]
          },
          "metadata": {},
          "output_type": "display_data"
        },
        {
          "data": {
            "text/html": [
              "<pre style=\"white-space:pre;overflow-x:auto;line-height:normal;font-family:Menlo,'DejaVu Sans Mono',consolas,'Courier New',monospace\">Стиль: Сленговый <span style=\"font-weight: bold\">(</span><span style=\"color: #008080; text-decoration-color: #008080; font-weight: bold\">202</span> вопросов<span style=\"font-weight: bold\">)</span>\n",
              "</pre>\n"
            ],
            "text/plain": [
              "Стиль: Сленговый \u001b[1m(\u001b[0m\u001b[1;36m202\u001b[0m вопросов\u001b[1m)\u001b[0m\n"
            ]
          },
          "metadata": {},
          "output_type": "display_data"
        },
        {
          "data": {
            "text/html": [
              "<pre style=\"white-space:pre;overflow-x:auto;line-height:normal;font-family:Menlo,'DejaVu Sans Mono',consolas,'Courier New',monospace\">================================================================================\n",
              "</pre>\n"
            ],
            "text/plain": [
              "================================================================================\n"
            ]
          },
          "metadata": {},
          "output_type": "display_data"
        },
        {
          "data": {
            "text/html": [
              "<pre style=\"white-space:pre;overflow-x:auto;line-height:normal;font-family:Menlo,'DejaVu Sans Mono',consolas,'Courier New',monospace\">\n",
              "<span style=\"color: #008080; text-decoration-color: #008080; font-weight: bold\">1</span>. В каких магазинах принимается ЧЕРЕПАХА?\n",
              "</pre>\n"
            ],
            "text/plain": [
              "\n",
              "\u001b[1;36m1\u001b[0m. В каких магазинах принимается ЧЕРЕПАХА?\n"
            ]
          },
          "metadata": {},
          "output_type": "display_data"
        },
        {
          "data": {
            "text/html": [
              "<pre style=\"white-space:pre;overflow-x:auto;line-height:normal;font-family:Menlo,'DejaVu Sans Mono',consolas,'Courier New',monospace\">   <span style=\"font-weight: bold\">[</span>Оригинальный<span style=\"font-weight: bold\">]</span> Категория: Продукты - Карты\n",
              "</pre>\n"
            ],
            "text/plain": [
              "   \u001b[1m[\u001b[0mОригинальный\u001b[1m]\u001b[0m Категория: Продукты - Карты\n"
            ]
          },
          "metadata": {},
          "output_type": "display_data"
        },
        {
          "data": {
            "text/html": [
              "<pre style=\"white-space:pre;overflow-x:auto;line-height:normal;font-family:Menlo,'DejaVu Sans Mono',consolas,'Courier New',monospace\">\n",
              "<span style=\"color: #008080; text-decoration-color: #008080; font-weight: bold\">2</span>. Какие лимиты по карте КСТАТИ?\n",
              "</pre>\n"
            ],
            "text/plain": [
              "\n",
              "\u001b[1;36m2\u001b[0m. Какие лимиты по карте КСТАТИ?\n"
            ]
          },
          "metadata": {},
          "output_type": "display_data"
        },
        {
          "data": {
            "text/html": [
              "<pre style=\"white-space:pre;overflow-x:auto;line-height:normal;font-family:Menlo,'DejaVu Sans Mono',consolas,'Courier New',monospace\">   <span style=\"font-weight: bold\">[</span>Оригинальный<span style=\"font-weight: bold\">]</span> Категория: Продукты - Карты\n",
              "</pre>\n"
            ],
            "text/plain": [
              "   \u001b[1m[\u001b[0mОригинальный\u001b[1m]\u001b[0m Категория: Продукты - Карты\n"
            ]
          },
          "metadata": {},
          "output_type": "display_data"
        },
        {
          "data": {
            "text/html": [
              "<pre style=\"white-space:pre;overflow-x:auto;line-height:normal;font-family:Menlo,'DejaVu Sans Mono',consolas,'Courier New',monospace\">\n",
              "<span style=\"color: #008080; text-decoration-color: #008080; font-weight: bold\">3</span>. Как узнать баланс карты КСТАТИ?\n",
              "</pre>\n"
            ],
            "text/plain": [
              "\n",
              "\u001b[1;36m3\u001b[0m. Как узнать баланс карты КСТАТИ?\n"
            ]
          },
          "metadata": {},
          "output_type": "display_data"
        },
        {
          "data": {
            "text/html": [
              "<pre style=\"white-space:pre;overflow-x:auto;line-height:normal;font-family:Menlo,'DejaVu Sans Mono',consolas,'Courier New',monospace\">   <span style=\"font-weight: bold\">[</span>Оригинальный<span style=\"font-weight: bold\">]</span> Категория: Продукты - Карты\n",
              "</pre>\n"
            ],
            "text/plain": [
              "   \u001b[1m[\u001b[0mОригинальный\u001b[1m]\u001b[0m Категория: Продукты - Карты\n"
            ]
          },
          "metadata": {},
          "output_type": "display_data"
        },
        {
          "data": {
            "text/html": [
              "<pre style=\"white-space:pre;overflow-x:auto;line-height:normal;font-family:Menlo,'DejaVu Sans Mono',consolas,'Courier New',monospace\">\n",
              "<span style=\"color: #008080; text-decoration-color: #008080; font-weight: bold\">4</span>. Как оформить кредит На всё про всё?\n",
              "</pre>\n"
            ],
            "text/plain": [
              "\n",
              "\u001b[1;36m4\u001b[0m. Как оформить кредит На всё про всё?\n"
            ]
          },
          "metadata": {},
          "output_type": "display_data"
        },
        {
          "data": {
            "text/html": [
              "<pre style=\"white-space:pre;overflow-x:auto;line-height:normal;font-family:Menlo,'DejaVu Sans Mono',consolas,'Courier New',monospace\">   <span style=\"font-weight: bold\">[</span>Оригинальный<span style=\"font-weight: bold\">]</span> Категория: Продукты - Кредиты\n",
              "</pre>\n"
            ],
            "text/plain": [
              "   \u001b[1m[\u001b[0mОригинальный\u001b[1m]\u001b[0m Категория: Продукты - Кредиты\n"
            ]
          },
          "metadata": {},
          "output_type": "display_data"
        },
        {
          "data": {
            "text/html": [
              "<pre style=\"white-space:pre;overflow-x:auto;line-height:normal;font-family:Menlo,'DejaVu Sans Mono',consolas,'Courier New',monospace\">\n",
              "<span style=\"color: #008080; text-decoration-color: #008080; font-weight: bold\">5</span>. Что-то не так с этой картой Портмоне, может её блокировать или как?\n",
              "</pre>\n"
            ],
            "text/plain": [
              "\n",
              "\u001b[1;36m5\u001b[0m. Что-то не так с этой картой Портмоне, может её блокировать или как?\n"
            ]
          },
          "metadata": {},
          "output_type": "display_data"
        },
        {
          "data": {
            "text/html": [
              "<pre style=\"white-space:pre;overflow-x:auto;line-height:normal;font-family:Menlo,'DejaVu Sans Mono',consolas,'Courier New',monospace\">   <span style=\"font-weight: bold\">[</span>Синтетический<span style=\"font-weight: bold\">]</span> Категория: Продукты - Карты\n",
              "</pre>\n"
            ],
            "text/plain": [
              "   \u001b[1m[\u001b[0mСинтетический\u001b[1m]\u001b[0m Категория: Продукты - Карты\n"
            ]
          },
          "metadata": {},
          "output_type": "display_data"
        },
        {
          "data": {
            "text/html": [
              "<pre style=\"white-space:pre;overflow-x:auto;line-height:normal;font-family:Menlo,'DejaVu Sans Mono',consolas,'Courier New',monospace\">\n",
              "<span style=\"color: #008080; text-decoration-color: #008080; font-weight: bold\">6</span>. А реально ли сделать карту Портмоне за один день?\n",
              "</pre>\n"
            ],
            "text/plain": [
              "\n",
              "\u001b[1;36m6\u001b[0m. А реально ли сделать карту Портмоне за один день?\n"
            ]
          },
          "metadata": {},
          "output_type": "display_data"
        },
        {
          "data": {
            "text/html": [
              "<pre style=\"white-space:pre;overflow-x:auto;line-height:normal;font-family:Menlo,'DejaVu Sans Mono',consolas,'Courier New',monospace\">   <span style=\"font-weight: bold\">[</span>Синтетический<span style=\"font-weight: bold\">]</span> Категория: Продукты - Карты\n",
              "</pre>\n"
            ],
            "text/plain": [
              "   \u001b[1m[\u001b[0mСинтетический\u001b[1m]\u001b[0m Категория: Продукты - Карты\n"
            ]
          },
          "metadata": {},
          "output_type": "display_data"
        },
        {
          "data": {
            "text/html": [
              "<pre style=\"white-space:pre;overflow-x:auto;line-height:normal;font-family:Menlo,'DejaVu Sans Mono',consolas,'Courier New',monospace\">\n",
              "<span style=\"color: #008080; text-decoration-color: #008080; font-weight: bold\">7</span>. Как вообще пользоваться этой картой, там награды какие-то есть?\n",
              "</pre>\n"
            ],
            "text/plain": [
              "\n",
              "\u001b[1;36m7\u001b[0m. Как вообще пользоваться этой картой, там награды какие-то есть?\n"
            ]
          },
          "metadata": {},
          "output_type": "display_data"
        },
        {
          "data": {
            "text/html": [
              "<pre style=\"white-space:pre;overflow-x:auto;line-height:normal;font-family:Menlo,'DejaVu Sans Mono',consolas,'Courier New',monospace\">   <span style=\"font-weight: bold\">[</span>Синтетический<span style=\"font-weight: bold\">]</span> Категория: Продукты - Карты\n",
              "</pre>\n"
            ],
            "text/plain": [
              "   \u001b[1m[\u001b[0mСинтетический\u001b[1m]\u001b[0m Категория: Продукты - Карты\n"
            ]
          },
          "metadata": {},
          "output_type": "display_data"
        },
        {
          "data": {
            "text/html": [
              "<pre style=\"white-space:pre;overflow-x:auto;line-height:normal;font-family:Menlo,'DejaVu Sans Mono',consolas,'Courier New',monospace\">\n",
              "================================================================================\n",
              "</pre>\n"
            ],
            "text/plain": [
              "\n",
              "================================================================================\n"
            ]
          },
          "metadata": {},
          "output_type": "display_data"
        },
        {
          "data": {
            "text/html": [
              "<pre style=\"white-space:pre;overflow-x:auto;line-height:normal;font-family:Menlo,'DejaVu Sans Mono',consolas,'Courier New',monospace\">Стиль: Официальный <span style=\"font-weight: bold\">(</span><span style=\"color: #008080; text-decoration-color: #008080; font-weight: bold\">275</span> вопросов<span style=\"font-weight: bold\">)</span>\n",
              "</pre>\n"
            ],
            "text/plain": [
              "Стиль: Официальный \u001b[1m(\u001b[0m\u001b[1;36m275\u001b[0m вопросов\u001b[1m)\u001b[0m\n"
            ]
          },
          "metadata": {},
          "output_type": "display_data"
        },
        {
          "data": {
            "text/html": [
              "<pre style=\"white-space:pre;overflow-x:auto;line-height:normal;font-family:Menlo,'DejaVu Sans Mono',consolas,'Courier New',monospace\">================================================================================\n",
              "</pre>\n"
            ],
            "text/plain": [
              "================================================================================\n"
            ]
          },
          "metadata": {},
          "output_type": "display_data"
        },
        {
          "data": {
            "text/html": [
              "<pre style=\"white-space:pre;overflow-x:auto;line-height:normal;font-family:Menlo,'DejaVu Sans Mono',consolas,'Courier New',monospace\">\n",
              "<span style=\"color: #008080; text-decoration-color: #008080; font-weight: bold\">1</span>. Как стать клиентом банка онлайн?\n",
              "</pre>\n"
            ],
            "text/plain": [
              "\n",
              "\u001b[1;36m1\u001b[0m. Как стать клиентом банка онлайн?\n"
            ]
          },
          "metadata": {},
          "output_type": "display_data"
        },
        {
          "data": {
            "text/html": [
              "<pre style=\"white-space:pre;overflow-x:auto;line-height:normal;font-family:Menlo,'DejaVu Sans Mono',consolas,'Courier New',monospace\">   <span style=\"font-weight: bold\">[</span>Оригинальный<span style=\"font-weight: bold\">]</span> Категория: Новые клиенты\n",
              "</pre>\n"
            ],
            "text/plain": [
              "   \u001b[1m[\u001b[0mОригинальный\u001b[1m]\u001b[0m Категория: Новые клиенты\n"
            ]
          },
          "metadata": {},
          "output_type": "display_data"
        },
        {
          "data": {
            "text/html": [
              "<pre style=\"white-space:pre;overflow-x:auto;line-height:normal;font-family:Menlo,'DejaVu Sans Mono',consolas,'Courier New',monospace\">\n",
              "<span style=\"color: #008080; text-decoration-color: #008080; font-weight: bold\">2</span>. Регистрация через МСИ <span style=\"font-weight: bold\">(</span>Межбанковская система идентификации<span style=\"font-weight: bold\">)</span>\n",
              "</pre>\n"
            ],
            "text/plain": [
              "\n",
              "\u001b[1;36m2\u001b[0m. Регистрация через МСИ \u001b[1m(\u001b[0mМежбанковская система идентификации\u001b[1m)\u001b[0m\n"
            ]
          },
          "metadata": {},
          "output_type": "display_data"
        },
        {
          "data": {
            "text/html": [
              "<pre style=\"white-space:pre;overflow-x:auto;line-height:normal;font-family:Menlo,'DejaVu Sans Mono',consolas,'Courier New',monospace\">   <span style=\"font-weight: bold\">[</span>Оригинальный<span style=\"font-weight: bold\">]</span> Категория: Новые клиенты\n",
              "</pre>\n"
            ],
            "text/plain": [
              "   \u001b[1m[\u001b[0mОригинальный\u001b[1m]\u001b[0m Категория: Новые клиенты\n"
            ]
          },
          "metadata": {},
          "output_type": "display_data"
        },
        {
          "data": {
            "text/html": [
              "<pre style=\"white-space:pre;overflow-x:auto;line-height:normal;font-family:Menlo,'DejaVu Sans Mono',consolas,'Courier New',monospace\">\n",
              "<span style=\"color: #008080; text-decoration-color: #008080; font-weight: bold\">3</span>. Документы для регистрации нового клиента\n",
              "</pre>\n"
            ],
            "text/plain": [
              "\n",
              "\u001b[1;36m3\u001b[0m. Документы для регистрации нового клиента\n"
            ]
          },
          "metadata": {},
          "output_type": "display_data"
        },
        {
          "data": {
            "text/html": [
              "<pre style=\"white-space:pre;overflow-x:auto;line-height:normal;font-family:Menlo,'DejaVu Sans Mono',consolas,'Courier New',monospace\">   <span style=\"font-weight: bold\">[</span>Оригинальный<span style=\"font-weight: bold\">]</span> Категория: Новые клиенты\n",
              "</pre>\n"
            ],
            "text/plain": [
              "   \u001b[1m[\u001b[0mОригинальный\u001b[1m]\u001b[0m Категория: Новые клиенты\n"
            ]
          },
          "metadata": {},
          "output_type": "display_data"
        },
        {
          "data": {
            "text/html": [
              "<pre style=\"white-space:pre;overflow-x:auto;line-height:normal;font-family:Menlo,'DejaVu Sans Mono',consolas,'Courier New',monospace\">\n",
              "<span style=\"color: #008080; text-decoration-color: #008080; font-weight: bold\">4</span>. Первый вход в Интернет-банк\n",
              "</pre>\n"
            ],
            "text/plain": [
              "\n",
              "\u001b[1;36m4\u001b[0m. Первый вход в Интернет-банк\n"
            ]
          },
          "metadata": {},
          "output_type": "display_data"
        },
        {
          "data": {
            "text/html": [
              "<pre style=\"white-space:pre;overflow-x:auto;line-height:normal;font-family:Menlo,'DejaVu Sans Mono',consolas,'Courier New',monospace\">   <span style=\"font-weight: bold\">[</span>Оригинальный<span style=\"font-weight: bold\">]</span> Категория: Новые клиенты\n",
              "</pre>\n"
            ],
            "text/plain": [
              "   \u001b[1m[\u001b[0mОригинальный\u001b[1m]\u001b[0m Категория: Новые клиенты\n"
            ]
          },
          "metadata": {},
          "output_type": "display_data"
        },
        {
          "data": {
            "text/html": [
              "<pre style=\"white-space:pre;overflow-x:auto;line-height:normal;font-family:Menlo,'DejaVu Sans Mono',consolas,'Courier New',monospace\">\n",
              "<span style=\"color: #008080; text-decoration-color: #008080; font-weight: bold\">5</span>. Как скачать и настроить мобильное приложение?\n",
              "</pre>\n"
            ],
            "text/plain": [
              "\n",
              "\u001b[1;36m5\u001b[0m. Как скачать и настроить мобильное приложение?\n"
            ]
          },
          "metadata": {},
          "output_type": "display_data"
        },
        {
          "data": {
            "text/html": [
              "<pre style=\"white-space:pre;overflow-x:auto;line-height:normal;font-family:Menlo,'DejaVu Sans Mono',consolas,'Courier New',monospace\">   <span style=\"font-weight: bold\">[</span>Оригинальный<span style=\"font-weight: bold\">]</span> Категория: Новые клиенты\n",
              "</pre>\n"
            ],
            "text/plain": [
              "   \u001b[1m[\u001b[0mОригинальный\u001b[1m]\u001b[0m Категория: Новые клиенты\n"
            ]
          },
          "metadata": {},
          "output_type": "display_data"
        },
        {
          "data": {
            "text/html": [
              "<pre style=\"white-space:pre;overflow-x:auto;line-height:normal;font-family:Menlo,'DejaVu Sans Mono',consolas,'Courier New',monospace\">\n",
              "<span style=\"color: #008080; text-decoration-color: #008080; font-weight: bold\">6</span>. Не могу войти в Интернет-банк\n",
              "</pre>\n"
            ],
            "text/plain": [
              "\n",
              "\u001b[1;36m6\u001b[0m. Не могу войти в Интернет-банк\n"
            ]
          },
          "metadata": {},
          "output_type": "display_data"
        },
        {
          "data": {
            "text/html": [
              "<pre style=\"white-space:pre;overflow-x:auto;line-height:normal;font-family:Menlo,'DejaVu Sans Mono',consolas,'Courier New',monospace\">   <span style=\"font-weight: bold\">[</span>Оригинальный<span style=\"font-weight: bold\">]</span> Категория: Техническая поддержка\n",
              "</pre>\n"
            ],
            "text/plain": [
              "   \u001b[1m[\u001b[0mОригинальный\u001b[1m]\u001b[0m Категория: Техническая поддержка\n"
            ]
          },
          "metadata": {},
          "output_type": "display_data"
        },
        {
          "data": {
            "text/html": [
              "<pre style=\"white-space:pre;overflow-x:auto;line-height:normal;font-family:Menlo,'DejaVu Sans Mono',consolas,'Courier New',monospace\">\n",
              "<span style=\"color: #008080; text-decoration-color: #008080; font-weight: bold\">7</span>. Я нахожусь за пределами Республики Беларусь. Как я могу связаться с работниками банка, за исключением \n",
              "телефонного звонка?\n",
              "</pre>\n"
            ],
            "text/plain": [
              "\n",
              "\u001b[1;36m7\u001b[0m. Я нахожусь за пределами Республики Беларусь. Как я могу связаться с работниками банка, за исключением \n",
              "телефонного звонка?\n"
            ]
          },
          "metadata": {},
          "output_type": "display_data"
        },
        {
          "data": {
            "text/html": [
              "<pre style=\"white-space:pre;overflow-x:auto;line-height:normal;font-family:Menlo,'DejaVu Sans Mono',consolas,'Courier New',monospace\">   <span style=\"font-weight: bold\">[</span>Оригинальный<span style=\"font-weight: bold\">]</span> Категория: Техническая поддержка\n",
              "</pre>\n"
            ],
            "text/plain": [
              "   \u001b[1m[\u001b[0mОригинальный\u001b[1m]\u001b[0m Категория: Техническая поддержка\n"
            ]
          },
          "metadata": {},
          "output_type": "display_data"
        }
      ],
      "source": [
        "styles = [\"Жаргонный\", \"Технический жаргон\", \"Сленговый\", \"Официальный\"]\n",
        "\n",
        "for style in styles:\n",
        "    style_questions = df_existing[df_existing['Стиль вопроса'] == style]\n",
        "    if len(style_questions) > 0:\n",
        "        print(f\"\\n{'='*80}\")\n",
        "        print(f\"Стиль: {style} ({len(style_questions)} вопросов)\")\n",
        "        print(f\"{'='*80}\")\n",
        "        \n",
        "        for i, (_, row) in enumerate(style_questions.head(7).iterrows(), 1):\n",
        "            print(f\"\\n{i}. {row['Пример вопроса']}\")\n",
        "            origin = \"Оригинальный\" if row['is_original'] else \"Синтетический\"\n",
        "            print(f\"   [{origin}] Категория: {row['Основная категория']}\")\n"
      ]
    },
    {
      "cell_type": "code",
      "execution_count": null,
      "metadata": {},
      "outputs": [],
      "source": [
        "fig, axes = plt.subplots(1, 2, figsize=(16, 6))\n",
        "\n",
        "df_existing['Стиль вопроса'].value_counts().plot(kind='bar', ax=axes[0], color='coral')\n",
        "axes[0].set_title('Распределение по стилям вопросов (весь датасет)')\n",
        "axes[0].set_xlabel('Стиль')\n",
        "axes[0].set_ylabel('Количество вопросов')\n",
        "axes[0].tick_params(axis='x', rotation=45)\n",
        "\n",
        "original_vs_synthetic = df_existing.groupby(['Стиль вопроса', 'is_original']).size().unstack(fill_value=0)\n",
        "original_vs_synthetic.plot(kind='bar', ax=axes[1], stacked=True)\n",
        "axes[1].set_title('Распределение стилей: оригинальные vs синтетические')\n",
        "axes[1].set_xlabel('Стиль')\n",
        "axes[1].set_ylabel('Количество вопросов')\n",
        "axes[1].legend(['Синтетические', 'Оригинальные'])\n",
        "axes[1].tick_params(axis='x', rotation=45)\n",
        "\n",
        "plt.tight_layout()\n",
        "plt.savefig('../data/full_style_distribution.png', dpi=150, bbox_inches='tight')\n",
        "plt.show()\n",
        "\n",
        "print(\"Визуализация сохранена в: ../data/full_style_distribution.png\")\n"
      ]
    },
    {
      "cell_type": "markdown",
      "metadata": {},
      "source": [
        "## Итоги работы\n",
        "\n",
        "В результате выполнения ноутбука:\n",
        "\n",
        "1. **knowledge_base_augmented_styled.csv** - полный датасет с классификацией стилей для всех вопросов\n",
        "   - Оригинальные вопросы из `smart_support_vtb_belarus_faq_final.csv`\n",
        "   - Синтетические вопросы, сгенерированные для балансировки категорий\n",
        "   - Колонка `Стиль вопроса` с 4 типами: Жаргонный, Технический жаргон, Сленговый, Официальный\n",
        "   - Колонка `is_original` для разделения оригинальных и синтетических вопросов\n",
        "\n",
        "2. **Визуализации:**\n",
        "   - `augmentation_comparison.png` - сравнение до/после аугментации\n",
        "   - `style_distribution.png` - распределение по стилям синтетических вопросов\n",
        "   - `full_style_distribution.png` - полное распределение стилей в датасете\n",
        "\n",
        "3. **Статистика аугментации и классификации**\n"
      ]
    },
    {
      "cell_type": "code",
      "execution_count": null,
      "metadata": {},
      "outputs": [],
      "source": []
    }
  ],
  "metadata": {
    "kernelspec": {
      "display_name": ".venv",
      "language": "python",
      "name": "python3"
    },
    "language_info": {
      "codemirror_mode": {
        "name": "ipython",
        "version": 3
      },
      "file_extension": ".py",
      "mimetype": "text/x-python",
      "name": "python",
      "nbconvert_exporter": "python",
      "pygments_lexer": "ipython3",
      "version": "3.11.13"
    }
  },
  "nbformat": 4,
  "nbformat_minor": 2
}
